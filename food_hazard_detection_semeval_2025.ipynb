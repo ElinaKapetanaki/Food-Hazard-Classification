{
 "cells": [
  {
   "cell_type": "markdown",
   "id": "813fdb3d-a066-444f-9570-50fc155c0952",
   "metadata": {},
   "source": [
    "# Food Safety and Machine Learning: Food Hazard Detection for SemEval 2025"
   ]
  },
  {
   "cell_type": "markdown",
   "id": "471065ad-f649-4282-a60d-1b5bfffddc76",
   "metadata": {},
   "source": [
    "Part of the competition [*SemEval 2025 Task 9: The Food Hazard Detection Challenge*](https://github.com/food-hazard-detection-semeval-2025/food-hazard-detection-semeval-2025.github.io) held by *EFSA (European Food Safety Authority)*:\n",
    "\n",
    "---\n",
    "\n",
    "> Evangelia Kapetanaki<br />\n",
    "> AM: 8210050<br />\n",
    "> Department of Management Science and Technology <br />\n",
    "> Athens University of Economics and Business <br />\n",
    "> Major: Data Analysis and Software Technologies <br />\n",
    "> t8210050@aueb.gr\n",
    "\n",
    "***\"Food is the moral right of all who are born into this world.\"***\n",
    "\n",
    "*– Norman Borlaug*, the Nobel Price Winner for his role on the Development of Agriculture (Green Revolution), who showed the world that the fight for safe food is a fight for life.\n",
    "\n",
    "* His words apply for all and especially for those harmed by unsafe food (Poor Food Safety) or the absence of food altogether (Poor Food Security).\n",
    "\n",
    "* It is society's responsibility to ensure that everyone has access to safe and reliable nourishment.\n",
    "\n",
    "* In this assignment we will talk specifically about unsafe food.\n",
    "\n",
    "* **Food Safety** is the process of \"handling, preparing, and storing food in ways that prevent foodborne illness (also known as food poisoning)\" ([Wikipedia](https://en.wikipedia.org/wiki/Food_safety)).\n",
    "\n",
    "* Another useful term is **Food Hazard** which is \"the biological, chemical or physical agent in a food that has potential to cause health effects\" and which deems a food item as unsafe for consumption ([Science Direct](https://www.sciencedirect.com/topics/food-science/food-safety-hazard)).\n",
    "\n",
    "* Unfortunately, there have been countless instances where food has been recalled due to inadequate safety regulations or rushed distribution without adequate test driven by profit over safety.\n",
    "\n",
    "* According to World Health Organization (WHO) Newsroom page (2024, found [here](https://www.who.int/news-room/fact-sheets/detail/food-safety)):\n",
    "\n",
    "    * Contaminated food affects $600$ million people annually, leading to $420.000$ deaths globally, with children under 5 years old bearing a disproportionate burden, accounting for 125,000 deaths annually due to foodborne diseases.\n",
    "      \n",
    "    * Unsafe food costs $110$$ billion annually in productivity losses and medical expenses.\n",
    " \n",
    "* Food safety is a serious issue that needs strong efforts to address and solve. Leveraging technology in this context can help find even better solutions.\n",
    "\n",
    "* This assignment is part of the **SemEval 2025 Task 9: The Food Hazard Detection Challenge** held by **EFSA (European Food Safety Authority)**, which sets the challenge: how can machine learning be used for food hazard detection in recalls.\n",
    "\n",
    "* The challenge includes $2$ sub tasks and data for the training, test and validation of the machine learning model.\n"
   ]
  },
  {
   "cell_type": "markdown",
   "id": "a850fe09-c3e0-401f-93be-9e8eb8b17cbd",
   "metadata": {},
   "source": [
    "# Summary of aproach and results\n",
    "\n",
    "* This assignment was a real challenge and a big journey that was full of hard work and constant tries of new things.\n",
    "\n",
    "* Behind this assignment lay many hours of continuous tries, failures and successes.\n",
    "\n",
    "* Our final results are:\n",
    "\n",
    "    * **SubTask1: 0.7256**\n",
    "    \n",
    "    * **SubTask2: 0.4239**\n",
    "\n",
    "* And our method implements\n",
    "\n",
    "    * Thorough **Data Cleaning** using RegEx\n",
    "    \n",
    "    * **Data Augmentation** using **$13$ free LLM models** (API) on random similar prompts with fallback random **back-translation**.\n",
    "    \n",
    "    * SubTask1: **RoBERTa** (fine tuning).\n",
    "    \n",
    "    * SubTask2: Soft Voting of **RoBERTa and Random Forests** (fine tuning).\n",
    " \n",
    "* AWS Sagemaker was utilized with total cost of approx. $200$ dollars with primary model `ml.g5.8xlarge`($2$ dollars per hour).\n",
    "\n",
    "* Attention: In various instances such as in augmentation this notebook uses random methods so re-running may result in different results."
   ]
  },
  {
   "cell_type": "markdown",
   "id": "910a4141-44ae-4170-aba1-25972136a46d",
   "metadata": {},
   "source": [
    "# Setup and Data Inspection\n",
    "\n",
    "* Let's start by installing importing all the libraries we will need in our implementation.\n",
    "\n",
    "* It's important to note that for this implementation of the assignment PyTorch Kernel is recommended."
   ]
  },
  {
   "cell_type": "code",
   "execution_count": null,
   "id": "054e0d80-29bd-4b7c-8eb3-a712fe436587",
   "metadata": {},
   "outputs": [],
   "source": [
    "!pip install pandas numpy torch scikit-learn matplotlib tqdm joblib bs4 sentencepiece # basic for ML (might already be installed)"
   ]
  },
  {
   "cell_type": "code",
   "execution_count": null,
   "id": "c4240646-533f-47ff-98ad-962d94df9723",
   "metadata": {},
   "outputs": [],
   "source": [
    "!pip install nltk transformers datasets groq # more advanced ones (might not be installed)"
   ]
  },
  {
   "cell_type": "code",
   "execution_count": 57,
   "id": "5fcc428b-65e7-4282-9333-1008faa0b156",
   "metadata": {},
   "outputs": [
    {
     "name": "stderr",
     "output_type": "stream",
     "text": [
      "[nltk_data] Downloading package punkt_tab to\n",
      "[nltk_data]     /home/ec2-user/nltk_data...\n",
      "[nltk_data]   Package punkt_tab is already up-to-date!\n",
      "[nltk_data] Downloading package wordnet to /home/ec2-user/nltk_data...\n",
      "[nltk_data]   Package wordnet is already up-to-date!\n"
     ]
    }
   ],
   "source": [
    "# Core Libraries\n",
    "import pandas as pd\n",
    "import numpy as np\n",
    "import re\n",
    "import math\n",
    "import time\n",
    "import random\n",
    "import copy\n",
    "import itertools\n",
    "\n",
    "# Tokenization - Language/Text Processing Libraries\n",
    "import nltk\n",
    "from nltk.tokenize import sent_tokenize\n",
    "from nltk.corpus import wordnet\n",
    "from bs4 import BeautifulSoup\n",
    "import unicodedata\n",
    "nltk.download('punkt_tab')\n",
    "nltk.download(\"wordnet\")\n",
    "\n",
    "# Basic Classification Libraries\n",
    "from sklearn.preprocessing import LabelEncoder\n",
    "from sklearn.feature_extraction.text import TfidfVectorizer\n",
    "from sklearn.ensemble import RandomForestClassifier, VotingClassifier\n",
    "from sklearn.linear_model import LogisticRegression\n",
    "from sklearn.model_selection import RandomizedSearchCV, GridSearchCV\n",
    "from sklearn.metrics import f1_score, classification_report\n",
    "\n",
    "# Transformer Libraries - PyTorch\n",
    "import torch\n",
    "import torch.nn.functional as F\n",
    "from torch.utils.data import DataLoader\n",
    "from transformers import (\n",
    "    RobertaTokenizer, RobertaForSequenceClassification,\n",
    "    AdamW, get_scheduler, DataCollatorWithPadding,\n",
    "    MarianMTModel, MarianTokenizer\n",
    ")\n",
    "from datasets import Dataset\n",
    "\n",
    "# Visualization\n",
    "import matplotlib.pyplot as plt\n",
    "\n",
    "# External LLM API (Groq)\n",
    "from groq import Groq\n",
    "\n",
    "# Others\n",
    "from tqdm.auto import tqdm  # Progress bar\n",
    "from concurrent.futures import ThreadPoolExecutor, as_completed  # Parallel processing\n",
    "import joblib  # Model saving - loading\n",
    "import getpass"
   ]
  },
  {
   "cell_type": "markdown",
   "id": "ff8280e4-67cb-4764-866a-4159617163d9",
   "metadata": {},
   "source": [
    "* And now let's finally read our data."
   ]
  },
  {
   "cell_type": "code",
   "execution_count": 58,
   "id": "659662a1-7d2e-4697-9167-a003c12628e2",
   "metadata": {},
   "outputs": [
    {
     "name": "stdout",
     "output_type": "stream",
     "text": [
      "(5082, 10)\n"
     ]
    },
    {
     "data": {
      "text/html": [
       "<div>\n",
       "<style scoped>\n",
       "    .dataframe tbody tr th:only-of-type {\n",
       "        vertical-align: middle;\n",
       "    }\n",
       "\n",
       "    .dataframe tbody tr th {\n",
       "        vertical-align: top;\n",
       "    }\n",
       "\n",
       "    .dataframe thead th {\n",
       "        text-align: right;\n",
       "    }\n",
       "</style>\n",
       "<table border=\"1\" class=\"dataframe\">\n",
       "  <thead>\n",
       "    <tr style=\"text-align: right;\">\n",
       "      <th></th>\n",
       "      <th>year</th>\n",
       "      <th>month</th>\n",
       "      <th>day</th>\n",
       "      <th>country</th>\n",
       "      <th>title</th>\n",
       "      <th>text</th>\n",
       "      <th>hazard-category</th>\n",
       "      <th>product-category</th>\n",
       "      <th>hazard</th>\n",
       "      <th>product</th>\n",
       "    </tr>\n",
       "  </thead>\n",
       "  <tbody>\n",
       "    <tr>\n",
       "      <th>4371</th>\n",
       "      <td>2020</td>\n",
       "      <td>8</td>\n",
       "      <td>13</td>\n",
       "      <td>us</td>\n",
       "      <td>Serafin Fishery Issues Allergy Alert on Undeclared Anchovies, Eggs, Milk and Soy in Salmon Dip and Whitefish Dip</td>\n",
       "      <td>Serafin Fishery is recalling its 8-ounce containers of Salmon Dip and Whitefish Dip because they may contain undeclared anchovies, eggs, milk and soy. People who have allergies to anchovies, eggs, milk and soy run the risk of serious or life-threatening allergic reaction if they consume these products. The recalled Salmon Dip and Whitefish Dips were distributed locally in retail stores.  The product comes in an 8-ounce, clear plastic package marked with lot #729 and lot #807 on the top and with expiration dates of August 12, 2020 and August 24, 2020 on the label. No illnesses have been reported to date in connection with this problem. The recall was initiated after it was discovered during an inspection conducted by the Michigan Department of Agriculture and Rural Development that the products’ labeling did not list all of the products’ ingredients. Production of the product has been suspended until FDA and the company are certain that the problem has been corrected. Individuals with an allergy or sensitivity to anchovies, eggs, milk and soy should not consume these products. Households that include individuals with an allergy or sensitivity to any of these allergens should dispose of the recalled product.  Consumers who have purchased the 8-ounce packages of Salmon Dip and Whitefish Dip are urged to return them to the place of purchase for a full refund. Consumers with questions may contact Serafin Fishery at 1-989-879-4596, Monday thru Friday from 9 to 5 p.m.</td>\n",
       "      <td>allergens</td>\n",
       "      <td>soups, broths, sauces and condiments</td>\n",
       "      <td>fish and products thereof</td>\n",
       "      <td>dip-sauce</td>\n",
       "    </tr>\n",
       "  </tbody>\n",
       "</table>\n",
       "</div>"
      ],
      "text/plain": [
       "      year  month  day country  \\\n",
       "4371  2020      8   13      us   \n",
       "\n",
       "                                                                                                                 title  \\\n",
       "4371  Serafin Fishery Issues Allergy Alert on Undeclared Anchovies, Eggs, Milk and Soy in Salmon Dip and Whitefish Dip   \n",
       "\n",
       "                                                                                                                                                                                                                                                                                                                                                                                                                                                                                                                                                                                                                                                                                                                                                                                                                                                                                                                                                                                                                                                                                                                                                                                                                                                                                                                                                                                                                                                                                                                                               text  \\\n",
       "4371  Serafin Fishery is recalling its 8-ounce containers of Salmon Dip and Whitefish Dip because they may contain undeclared anchovies, eggs, milk and soy. People who have allergies to anchovies, eggs, milk and soy run the risk of serious or life-threatening allergic reaction if they consume these products. The recalled Salmon Dip and Whitefish Dips were distributed locally in retail stores.  The product comes in an 8-ounce, clear plastic package marked with lot #729 and lot #807 on the top and with expiration dates of August 12, 2020 and August 24, 2020 on the label. No illnesses have been reported to date in connection with this problem. The recall was initiated after it was discovered during an inspection conducted by the Michigan Department of Agriculture and Rural Development that the products’ labeling did not list all of the products’ ingredients. Production of the product has been suspended until FDA and the company are certain that the problem has been corrected. Individuals with an allergy or sensitivity to anchovies, eggs, milk and soy should not consume these products. Households that include individuals with an allergy or sensitivity to any of these allergens should dispose of the recalled product.  Consumers who have purchased the 8-ounce packages of Salmon Dip and Whitefish Dip are urged to return them to the place of purchase for a full refund. Consumers with questions may contact Serafin Fishery at 1-989-879-4596, Monday thru Friday from 9 to 5 p.m.   \n",
       "\n",
       "     hazard-category                      product-category  \\\n",
       "4371       allergens  soups, broths, sauces and condiments   \n",
       "\n",
       "                         hazard    product  \n",
       "4371  fish and products thereof  dip-sauce  "
      ]
     },
     "execution_count": 58,
     "metadata": {},
     "output_type": "execute_result"
    }
   ],
   "source": [
    "data = pd.read_csv('incidents_train.csv', index_col=0)\n",
    "print(data.shape)\n",
    "pd.set_option('display.max_colwidth', None) # display the full text\n",
    "data.sample(1, random_state=30)"
   ]
  },
  {
   "cell_type": "code",
   "execution_count": 12,
   "id": "381b28c8-c87b-4c17-9ad7-f5deb0a9252f",
   "metadata": {},
   "outputs": [
    {
     "data": {
      "text/html": [
       "<div>\n",
       "<style scoped>\n",
       "    .dataframe tbody tr th:only-of-type {\n",
       "        vertical-align: middle;\n",
       "    }\n",
       "\n",
       "    .dataframe tbody tr th {\n",
       "        vertical-align: top;\n",
       "    }\n",
       "\n",
       "    .dataframe thead th {\n",
       "        text-align: right;\n",
       "    }\n",
       "</style>\n",
       "<table border=\"1\" class=\"dataframe\">\n",
       "  <thead>\n",
       "    <tr style=\"text-align: right;\">\n",
       "      <th></th>\n",
       "      <th>hazard-category</th>\n",
       "      <th>product-category</th>\n",
       "      <th>hazard</th>\n",
       "      <th>product</th>\n",
       "    </tr>\n",
       "  </thead>\n",
       "  <tbody>\n",
       "    <tr>\n",
       "      <th>Count of Possible Values (Labels)</th>\n",
       "      <td>10</td>\n",
       "      <td>22</td>\n",
       "      <td>128</td>\n",
       "      <td>1022</td>\n",
       "    </tr>\n",
       "  </tbody>\n",
       "</table>\n",
       "</div>"
      ],
      "text/plain": [
       "                                   hazard-category  product-category  hazard  \\\n",
       "Count of Possible Values (Labels)               10                22     128   \n",
       "\n",
       "                                   product  \n",
       "Count of Possible Values (Labels)     1022  "
      ]
     },
     "execution_count": 12,
     "metadata": {},
     "output_type": "execute_result"
    }
   ],
   "source": [
    "category_counts = {\n",
    "    \"hazard-category\": data[\"hazard-category\"].nunique(), # unique categories for the column\n",
    "    \"product-category\": data[\"product-category\"].nunique(),\n",
    "    \"hazard\": data[\"hazard\"].nunique(),\n",
    "    \"product\": data[\"product\"].nunique()\n",
    "}\n",
    "pd.DataFrame(category_counts, index=[\"Count of Possible Values (Labels)\"])"
   ]
  },
  {
   "cell_type": "markdown",
   "id": "8208b18f-e209-4b25-99dd-fabc5432a906",
   "metadata": {},
   "source": [
    "The data provided include $5.082$ **food recall incidents**.\n",
    "\n",
    "The columns at hand include:\n",
    "\n",
    "* `year`, `month`, `day`, `country`: When and where the recall occurred.\n",
    "\n",
    "* `title`: a small recall description.\n",
    "\n",
    "* `text`: a detailed report of the food recall incident.\n",
    "\n",
    "* And our target columns are:\n",
    "\n",
    "    1. `hazard-category`: $10$ classes (ex. biological).\n",
    " \n",
    "    2. `hazard`: $128$ specific sub levels of `hazard-category` (ex. salmonela).\n",
    " \n",
    "    3. `product-category`: $22$ classes (ex. dairy).\n",
    " \n",
    "    4. `product`: $1.022$ specific sub levels of `product-category` (ex. sausage)."
   ]
  },
  {
   "cell_type": "markdown",
   "id": "d43f4299-b13e-42fa-83a9-f4dbf67ac3bf",
   "metadata": {},
   "source": [
    "* To better understand our data, and in specific our training data, we will use the existing analysis that can be found [here](https://github.com/food-hazard-detection-semeval-2025/food-hazard-detection-semeval-2025.github.io/blob/main/data/statstics_train.ipynb), which according to GitHub History was a kind contribution of [randlbem](https://github.com/randlbem).\n",
    "\n",
    "* According to this analysis we can see that:\n",
    "\n",
    "    * We have data of cases in the time period of 1994-2022 and there's a notable increase in the number of reported food hazard cases over the years, especially post-2010.\n",
    "    \n",
    "    * We have data for $9$ countries (United States, Australia, Canada, United Kingdom, Ireland, Hong Kong, North America, Singapore and Scotland). The majority of the data originates from a few countries, with the US having the largest share, followed by Australia and Canada.\n",
    "    \n",
    "    * Most importantly, the **distribution** of data across `hazard-category`, `hazard`, `product-category` and `product` columns (all our target columns) is **heavily imbalanced**.\n",
    "\n",
    "* So in other words, our training data are quite problematic.\n",
    "\n",
    "* Since this imbalance problem is of utmost importance in our case we will also visualize it for reasons of completeness (the code used for this visualization is a slight modification from [randlbem](https://github.com/randlbem)'s kind contribution) using the same y-axis and subplots to make it easy for the reader to understand the case."
   ]
  },
  {
   "cell_type": "code",
   "execution_count": 35,
   "id": "5fbf6c6d-d1bb-4fa3-bf2b-690adec6d84d",
   "metadata": {},
   "outputs": [
    {
     "data": {
      "image/png": "[encoded data removed]",
      "text/plain": [
       "<Figure size 1200x800 with 4 Axes>"
      ]
     },
     "metadata": {},
     "output_type": "display_data"
    }
   ],
   "source": [
    "def print_column(ax, incidents: pd.DataFrame, column: str, global_y_max: int):\n",
    "    \"\"\"Plots a bar chart for the given column in a specified subplot axis.\"\"\"\n",
    "    values, counts = np.unique(incidents[column].dropna().astype(str).values, return_counts=True)\n",
    "    # Sort values (count)\n",
    "    idx = np.argsort(counts)[::-1]\n",
    "    values = values[idx]\n",
    "    counts = counts[idx]\n",
    "    ax.bar(range(len(counts)), counts, color=\"palevioletred\")\n",
    "    ax.set_title(f'{column} (n={len(values):d})')\n",
    "    ax.set_xticks([])  # Remove x-axis labels since we have too many categories\n",
    "\n",
    "    # consistent Y-axis limits across all subplots\n",
    "    ax.set_ylim(0, global_y_max)\n",
    "\n",
    "fig, axes = plt.subplots(2, 2, figsize=(12, 8)) # 2x2 subplots\n",
    "columns = [\"hazard-category\", \"hazard\", \"product-category\", \"product\"]\n",
    "all_counts = []\n",
    "for column in columns:\n",
    "    _, counts = np.unique(data[column].dropna().astype(str).values, return_counts=True)\n",
    "    all_counts.append(max(counts))\n",
    "global_y_max_haz = max(all_counts) * 1.05\n",
    "for ax, column in zip(axes.flatten(), columns):\n",
    "    print_column(ax, data, column, global_y_max)\n",
    "plt.tight_layout()\n",
    "plt.show()"
   ]
  },
  {
   "cell_type": "markdown",
   "id": "b8ef9160-63f3-4a9e-b938-fb3a80c74fe8",
   "metadata": {},
   "source": [
    "* From the above the following are clear:\n",
    "  \n",
    "    * In all target columns few categories dominate, while many others have very low occurrences (long tail distribution).\n",
    "      \n",
    "    * Especially in `hazard` and `product` we have many rare instances."
   ]
  },
  {
   "cell_type": "markdown",
   "id": "dc975c9f-836e-4599-8bf8-df33a427d4e1",
   "metadata": {},
   "source": [
    "# Defining the problem\n",
    "\n",
    "* To understand better what we must do we will use an example.\n",
    "\n",
    "* Let's say there was a recall with title :  \"Company X, Chicken recalled due to salmonella contamination\".\n",
    "\n",
    "* From such a recall we must create a Machine Learning Model that classifies the recall as:\n",
    "      \n",
    "    * `hazard-category`: biological\n",
    "      \n",
    "        * `hazard` :  salmonella\n",
    "     <br>\n",
    "     \n",
    "    * `product-category`: meat, egg, and dairy products\n",
    "      \n",
    "        * `product` : chicken\n",
    "     <br>\n",
    "      \n",
    "* The task is a **classification problem**, specifically a **text-based, multi-class classification problem on imbalanced data** (supervised learning), where:\n",
    "\n",
    "    * *Text-Based*: The input is unstructured textual data (the title of a recall) from which the model must extract relevant information to make accurate predictions.\n",
    "\n",
    "    * *Multi-Class*: For each target column, the model must predict exactly 1 class.\n",
    " \n",
    "    * *Imbalanced Data*: As we mentioned before some hazard categories, hazards, product categories and products are more far more frequent than others.\n",
    " \n",
    "* The task can be broken down into two sub-tasks:\n",
    "\n",
    "    1. **ST1 - High-Level Classification** (Broad Categories): In this sub-task, the model must predict the high-level categories: `hazard-category`,  `product-category`.\n",
    "\n",
    "    2. **ST2 - Fine-Grained Classification** (Specific Labels): In this sub-task, the model must predict the detailed, specific classes: `hazard`,\n",
    "`product`.\n",
    " \n",
    "* The evaluation for this task is based on the **macro F1 score** (0-1) to ensure fair treatment of all classes, including the less frequent ones. The macro (not weighted) F1 score is computed separately in ST1 and ST2 for both hazard labels and product labels (of the rows correctly predicted for hazard-category), with the final score of the subtask being an average of these values.\n",
    "\n",
    "* So we write the function to have the score calculations ready for when needed."
   ]
  },
  {
   "cell_type": "code",
   "execution_count": 92,
   "id": "642809da-e1e7-4c65-8ff5-7593fee58726",
   "metadata": {},
   "outputs": [],
   "source": [
    "def compute_final_score(hazards_true, products_true, hazards_pred, products_pred):\n",
    "    # Compute F1-score for hazards\n",
    "    f1_hazards = f1_score(\n",
    "        hazards_true, \n",
    "        hazards_pred, \n",
    "        average='macro')\n",
    "    print(\"F1 Hazard Category: \", f1_hazards)\n",
    "    \n",
    "    # Compute F1-score for products\n",
    "    f1_products = f1_score(\n",
    "        products_true[hazards_pred == hazards_true],\n",
    "        products_pred[hazards_pred == hazards_true],\n",
    "        average='macro'\n",
    "    )\n",
    "    print(\"F1 Product Category: \", f1_products)\n",
    "    \n",
    "    final_f1 = (f1_hazards + f1_products) / 2\n",
    "    return final_f1"
   ]
  },
  {
   "cell_type": "markdown",
   "id": "73ece9d5-7b82-426d-b15e-2cd3c148e346",
   "metadata": {},
   "source": [
    "## A Peak at the Solutions by the team\n",
    "\n",
    "* It would be wrong to continue with this project without seeing previous implementations if we really want to build a good model. We should note the good and bad points of previous implementations to decide if we should use or refrain from using parts of these approaches.\n",
    "\n",
    "* Down below is a presentation of the suggested code approaches that can be found [here](https://github.com/food-hazard-detection-semeval-2025/food-hazard-detection-semeval-2025.github.io/tree/main/code) in the GiHub page of the project after evaluation.\n",
    "\n",
    "| **Approach** | **Simple Description** | **Strengths** | **Weaknesses**|\n",
    "|--------------|------------------------|---------------|---------------|\n",
    "| **TF-IDF + Logistic Regression** | Count words and classify using a basic model.| Lightweight and computationally efficient with not too bad F1 scores (st1: $0.449$, st2: $0.121$).| Does not capture semantic relationships or handle complex, hierarchical, or rare classes effectively. |\n",
    "| **BERT (Google's transformer model) Adaptation (=Fine Tuning)**| Use a pre-trained language model for classification.| Provides text understanding and better F1 scores (st1: $0.591$, st2: $0.112$).| Requires significant computational resources (GPU).|\n",
    "| **CICLe (Conformal In-Context Learning) with TF-IDF + Logistic Regression + LLM Prompting (Using Cosine Similarity)** | Focus only on relevant candidate classes| Intelligent way of narrowing down the candidate classes and probably handles low support categories (writer has not provided scores).|Highly complex and LLM loading (preparation) needs high computational power and memory even tho predictions later might be fast (but dependent on GPU to support an LLM locally).|\n"
   ]
  },
  {
   "cell_type": "markdown",
   "id": "e2b3270a-115b-4ac9-b886-414e04c238b6",
   "metadata": {},
   "source": [
    "# Data Cleaning\n",
    "\n",
    "* Before we move into our model we should check if your data are cleaned and healthy.\n",
    "\n",
    "* If we don't have clean data it seems impossible to be able to make a quality model.\n",
    "\n",
    "* It will be like trying to teach a student with low-quality excercises.\n",
    "\n",
    "* Our first step would be to remove any possible `NaN` values so we go ahead and do that."
   ]
  },
  {
   "cell_type": "code",
   "execution_count": 36,
   "id": "0075e9ba-c2e8-45f8-9221-33fb8a421f61",
   "metadata": {},
   "outputs": [],
   "source": [
    "data.dropna(inplace=True)"
   ]
  },
  {
   "cell_type": "code",
   "execution_count": 37,
   "id": "6fcfc1d4-d323-43ad-a78f-83e870172e77",
   "metadata": {},
   "outputs": [
    {
     "data": {
      "text/plain": [
       "year                0\n",
       "month               0\n",
       "day                 0\n",
       "country             0\n",
       "title               0\n",
       "text                0\n",
       "hazard-category     0\n",
       "product-category    0\n",
       "hazard              0\n",
       "product             0\n",
       "dtype: int64"
      ]
     },
     "execution_count": 37,
     "metadata": {},
     "output_type": "execute_result"
    }
   ],
   "source": [
    "data.isna().sum()"
   ]
  },
  {
   "cell_type": "markdown",
   "id": "0acabb98-8e1f-4b6b-8a43-bfb68e0ac6f9",
   "metadata": {},
   "source": [
    "* Now comes a difficult but important task : our data is raw text (titles and text regarding a recall) but are they of high quality?\n",
    "\n",
    "* Let's see our $2$ basic problems with our title and text data."
   ]
  },
  {
   "cell_type": "markdown",
   "id": "ce4a4d82-ea6b-40c8-a3ff-80c30f767808",
   "metadata": {},
   "source": [
    "**1.** **Titles that are unclear** about both hazard and product (or only the product). Samples of which are presented down below."
   ]
  },
  {
   "cell_type": "code",
   "execution_count": 82,
   "id": "075aa25b-50bf-4ca8-898c-6d24ec295d3d",
   "metadata": {},
   "outputs": [
    {
     "data": {
      "text/html": [
       "<div>\n",
       "<style scoped>\n",
       "    .dataframe tbody tr th:only-of-type {\n",
       "        vertical-align: middle;\n",
       "    }\n",
       "\n",
       "    .dataframe tbody tr th {\n",
       "        vertical-align: top;\n",
       "    }\n",
       "\n",
       "    .dataframe thead th {\n",
       "        text-align: right;\n",
       "    }\n",
       "</style>\n",
       "<table border=\"1\" class=\"dataframe\">\n",
       "  <thead>\n",
       "    <tr style=\"text-align: right;\">\n",
       "      <th></th>\n",
       "      <th>title</th>\n",
       "    </tr>\n",
       "  </thead>\n",
       "  <tbody>\n",
       "    <tr>\n",
       "      <th>920</th>\n",
       "      <td>Recall Notification Report 057-2013</td>\n",
       "    </tr>\n",
       "    <tr>\n",
       "      <th>1945</th>\n",
       "      <td>AC Creamery Inc. Recalls</td>\n",
       "    </tr>\n",
       "    <tr>\n",
       "      <th>25</th>\n",
       "      <td>Recall Notification: FSIS-010-97</td>\n",
       "    </tr>\n",
       "    <tr>\n",
       "      <th>241</th>\n",
       "      <td>Pavlova Pantry—Lamingtons</td>\n",
       "    </tr>\n",
       "    <tr>\n",
       "      <th>697</th>\n",
       "      <td>Archives</td>\n",
       "    </tr>\n",
       "  </tbody>\n",
       "</table>\n",
       "</div>"
      ],
      "text/plain": [
       "                                    title\n",
       "920   Recall Notification Report 057-2013\n",
       "1945             AC Creamery Inc. Recalls\n",
       "25       Recall Notification: FSIS-010-97\n",
       "241             Pavlova Pantry—Lamingtons\n",
       "697                              Archives"
      ]
     },
     "execution_count": 82,
     "metadata": {},
     "output_type": "execute_result"
    }
   ],
   "source": [
    "data[data['title'].str.split().str.len() < 5]['title'].sample(5, random_state=50).to_frame()"
   ]
  },
  {
   "cell_type": "markdown",
   "id": "46cfbb2e-aff7-4f1d-bf9a-cef209b2db7d",
   "metadata": {},
   "source": [
    "* For example \"Recall Notification: FSIS-010-97\" or \"Archives\" are not clear about neither product nor hazard.\n",
    "\n",
    "* And \"Pavlova Pantry-Lamingtons\" are clear only about the product."
   ]
  },
  {
   "cell_type": "code",
   "execution_count": 83,
   "id": "5eed0c87-5394-44f6-a0dd-2a4f7b8be7c6",
   "metadata": {},
   "outputs": [
    {
     "data": {
      "text/plain": [
       "224"
      ]
     },
     "execution_count": 83,
     "metadata": {},
     "output_type": "execute_result"
    }
   ],
   "source": [
    "len(data[data['title'].str.split().str.len() < 5])"
   ]
  },
  {
   "cell_type": "markdown",
   "id": "b1172f2f-25ad-4b24-ac52-9ef1f17e1923",
   "metadata": {},
   "source": [
    "* Most of these types of titles have a small amout of words and by assuming they have up to $5$ words each we already have $224$ rows with titles with non-complete or none at all information."
   ]
  },
  {
   "cell_type": "markdown",
   "id": "30189035-fa88-4165-be49-bc927f9c542e",
   "metadata": {},
   "source": [
    "**2. Text of inconsistent format and inconsistent length.**"
   ]
  },
  {
   "cell_type": "markdown",
   "id": "569ce883-6abb-4353-92ad-b9850351374e",
   "metadata": {},
   "source": [
    "* Taking a look at the texts every text seems its own format. Below we see a few examples."
   ]
  },
  {
   "cell_type": "code",
   "execution_count": 66,
   "id": "dddb8984-b0df-42e9-986f-0a38cf8e2691",
   "metadata": {},
   "outputs": [
    {
     "data": {
      "text/html": [
       "<div>\n",
       "<style scoped>\n",
       "    .dataframe tbody tr th:only-of-type {\n",
       "        vertical-align: middle;\n",
       "    }\n",
       "\n",
       "    .dataframe tbody tr th {\n",
       "        vertical-align: top;\n",
       "    }\n",
       "\n",
       "    .dataframe thead th {\n",
       "        text-align: right;\n",
       "    }\n",
       "</style>\n",
       "<table border=\"1\" class=\"dataframe\">\n",
       "  <thead>\n",
       "    <tr style=\"text-align: right;\">\n",
       "      <th></th>\n",
       "      <th>text</th>\n",
       "    </tr>\n",
       "  </thead>\n",
       "  <tbody>\n",
       "    <tr>\n",
       "      <th>1622</th>\n",
       "      <td>CVS Pharmacy® announced today that it has voluntarily recalled select cases of Gold Emblem Aboun...</td>\n",
       "    </tr>\n",
       "    <tr>\n",
       "      <th>564</th>\n",
       "      <td>PRA No. 2011/12802 Date published 8 Sep 2011 Product description 400g Macro Whole Foods Market G...</td>\n",
       "    </tr>\n",
       "    <tr>\n",
       "      <th>591</th>\n",
       "      <td>Page Content EKO Australia Pty Ltd has recalled 3 varieties of Kamfen brand noodles: Buckwheat N...</td>\n",
       "    </tr>\n",
       "    <tr>\n",
       "      <th>5380</th>\n",
       "      <td>Food Recall Warning - Sliced White Mushrooms prepared for Metro Brands recalled due to Listeria ...</td>\n",
       "    </tr>\n",
       "    <tr>\n",
       "      <th>3841</th>\n",
       "      <td>Notice This archive of previously issued food recalls and allergy alerts is provided for referen...</td>\n",
       "    </tr>\n",
       "  </tbody>\n",
       "</table>\n",
       "</div>"
      ],
      "text/plain": [
       "                                                                                                     text\n",
       "1622  CVS Pharmacy® announced today that it has voluntarily recalled select cases of Gold Emblem Aboun...\n",
       "564   PRA No. 2011/12802 Date published 8 Sep 2011 Product description 400g Macro Whole Foods Market G...\n",
       "591   Page Content EKO Australia Pty Ltd has recalled 3 varieties of Kamfen brand noodles: Buckwheat N...\n",
       "5380  Food Recall Warning - Sliced White Mushrooms prepared for Metro Brands recalled due to Listeria ...\n",
       "3841  Notice This archive of previously issued food recalls and allergy alerts is provided for referen..."
      ]
     },
     "execution_count": 66,
     "metadata": {},
     "output_type": "execute_result"
    }
   ],
   "source": [
    "data['text'].sample(5, random_state=100).to_frame()"
   ]
  },
  {
   "cell_type": "markdown",
   "id": "f45867a0-029f-4d9e-bad3-76b95e7f4e9a",
   "metadata": {},
   "source": [
    "* And of course, some people tend to write more extensively than others who are more laconic giving a range of use of words from $10$ to $8.406$."
   ]
  },
  {
   "cell_type": "code",
   "execution_count": 92,
   "id": "a9301157-d4d6-4019-9704-21cd0eba9ae7",
   "metadata": {},
   "outputs": [
    {
     "name": "stdout",
     "output_type": "stream",
     "text": [
      "Text varies from 10 words up to 8406 with a mean of 353.25 and standard deviation of 297.66\n"
     ]
    }
   ],
   "source": [
    "text_lengths = data['text'].str.split().str.len()\n",
    "print(\"Text varies from\", text_lengths.min(), \"words up to\", text_lengths.max(),\n",
    "          \"with a mean of\", round(text_lengths.mean(), 2), \n",
    "          \"and standard deviation of\", round(text_lengths.std(), 2))"
   ]
  },
  {
   "cell_type": "markdown",
   "id": "56589d93-eaea-460a-8470-b688b5000754",
   "metadata": {},
   "source": [
    "* Since titles and text must be of high value for our model to learn we will use a thorough approach and clean the `text` column up with **RegEx** while ensuring that titles are replaced by our clean verison of text if they are not of high value.\n",
    "\n",
    "* Something we can definatelly assume by looking at our `text` column is that most of the times the hazard and the product of the recall are being mentioned on the 1st or 2nd sentance.\n",
    "\n",
    "* So it would be useful to find a way to split sentences.\n",
    "\n",
    "* The best way is to split at every dot.\n",
    "\n",
    "* But there is a problem with that.\n",
    "\n",
    "* Written language many times (and especially in content such as recall of products) contain abbreviations with dots like \"oz.\" or \"etc.\" or numbers with dots as decimals like \"$24.5$\". So we must find a way to split our sentences taking this into account.\n",
    "\n",
    "* So we must protect abbreviations that have approximately $1-4$ words and number decimals. Our approach is:\n",
    "\n",
    "    * Find these instances in the text.\n",
    " \n",
    "    * Replace the dot of the abbreviation or number with a placeholder (<<DΟT>> was used).\n",
    " \n",
    "    * Split sentences based on dots that now don't have to do with abbreviations or numbers.\n",
    " \n",
    "    * Replace the placeholders of the abbreviation or number with the dots."
   ]
  },
  {
   "cell_type": "code",
   "execution_count": 59,
   "id": "b12f6665-0fa3-44ad-b7f4-18216feb7b3e",
   "metadata": {},
   "outputs": [],
   "source": [
    "def protect_decimals(text):\n",
    "    return re.sub(r'(\\d)\\.(\\d)', r'\\1<<DOT>>\\2', text) #E.g. \"8.25\" becomes \"8<<DOT>>25\"\n",
    "\n",
    "def protect_abbrevs(text):\n",
    "   # For example, \"oz.\" becomes \"oz<<DOT>>.\n",
    "    text = re.sub(r'\\b([a-zA-Z]{1,4})\\.', r'\\1<<DOT>>', text) # most abbreviations\n",
    "    # List of additional abbreviations to protect.\n",
    "    abbrevs = {\"calif\", \"haccp\", \"approx\"}\n",
    "    for abbr in abbrevs:\n",
    "        pattern = r'\\b' + abbr + r'\\.'\n",
    "        replacement = abbr + \"<<DOT>>\"\n",
    "        text = re.sub(pattern, replacement, text, flags=re.IGNORECASE)\n",
    "    return text\n",
    "\n",
    "def restore_placeholders(text):\n",
    "    return text.replace(\"<<DOT>>\", \".\")\n",
    "\n",
    "# Splits text into sentences on periods protecting abbreviations\n",
    "def custom_sentence_split(text):\n",
    "    protected_text = protect_decimals(text)\n",
    "    protected_text = protect_abbrevs(protected_text)\n",
    "    \n",
    "    parts = protected_text.split('.') # Split on period.\n",
    "    sentences = [p.strip() for p in parts if p.strip()]\n",
    "    \n",
    "    # Restore placeholders in each sentence.\n",
    "    sentences = [restore_placeholders(s) for s in sentences]\n",
    "    return sentences"
   ]
  },
  {
   "cell_type": "markdown",
   "id": "60a7af7f-7b22-4bc4-84ff-99980c58c217",
   "metadata": {},
   "source": [
    "* Let's see how we did."
   ]
  },
  {
   "cell_type": "code",
   "execution_count": 100,
   "id": "6001bf97-929c-4cf9-993d-43aabea66817",
   "metadata": {},
   "outputs": [
    {
     "name": "stdout",
     "output_type": "stream",
     "text": [
      "[\"The FDA issued a recall notice for FreshFarm Inc.'s 12.5 oz. mixed berries due to E. coli contamination\", 'Consumers who purchased these items between approx. 02.10.2024 and 03.05.2024 are advised to discard the products', 'Testing by USDA-FSIS confirmed the presence of Listeria monocytogenes', 'For refunds, contact FreshFarm Ltd. at 1-800-555-0123', 'Additional details can be found on www.fda.gov.']\n"
     ]
    }
   ],
   "source": [
    "sample_text = (\"The FDA issued a recall notice for FreshFarm Inc.'s 12.5 oz. mixed berries due to E. coli contamination. \"\n",
    "               \"Consumers who purchased these items between approx. 02.10.2024 and 03.05.2024 are advised to discard the products. \"\n",
    "               \"Testing by USDA-FSIS confirmed the presence of Listeria monocytogenes. \"\n",
    "               \"For refunds, contact FreshFarm Ltd. at 1-800-555-0123. Additional details can be found on www.fda.gov.\")\n",
    "sentences = custom_sentence_split(sample_text)\n",
    "print(sentences)"
   ]
  },
  {
   "cell_type": "markdown",
   "id": "062bf33e-f82a-4947-a1a4-510d77c8dc3e",
   "metadata": {},
   "source": [
    "* We managed to split the sentances correctly.\n",
    "\n",
    "* However, splitting text in sentences and getting the 1st or 1st & 2nd sentences is not as realistic in our case where there are many formats of text and sometimes the information may be a bit later in the text.\n",
    "\n",
    "* So we use a more thorough way of approaching the issue: checking the real excel data, noting the most dominant formats and finding ways to extract information from them while tackling the rest with a specific default method based on getting the first sentences only.\n",
    "\n",
    "* More specifically :\n",
    "\n",
    "1. We do some basic text cleaning: remove HTML tags, ensure consistent unicode encoding, make letters lower case.\n",
    " \n",
    "2. Then we handle all dominant cases:\n",
    "\n",
    "| Case | Condition | Cleaned Text |\n",
    "|------|-----------|-----------------|\n",
    "| **1** | Case starts with `\"case\"` | Extracts **Product, Problem, and Description** from specific format of text, formats them as: `<PRODUCT> recalled due to <PROBLEM> (<DESCRIPTION>)` |\n",
    "| **2** | Case starts with `\"pra no.\"` | Uses the **title** as the product and extracts **hazards** from specific format of text, formatted as: `<PRODUCT> recalled due to <HAZARD>` |\n",
    "| **3** | Case starts with `\"newsroom > food recalls and allergy alerts > archives\"` | Returns the **title** directly: `<TITLE>` |\n",
    "| **4** | Case starts with `\"washington\"` | Returns the **first sentence** of the text: `<EXTRACTED INFO>` |\n",
    "| **5** | Case starts with `\"notice\"` | Returns the **title**: `<TITLE>` |\n",
    "| **6** | Case starts with `\"food alert\"` | Returns the **title**: `<TITLE>` |\n",
    "| **7** | Case starts with `\"risk\"` | Returns the **title**: `<TITLE>` |\n",
    "| **8** | Case starts with a numerical pattern | Returns the **title**: `<TITLE>` |\n",
    "| **9** | Default (Other Cases) | Uses **custom sentence splitting** and gets the 1st only sentence if \"recall\" or \"presence\" is involved otherwise gets both the 1st and 2nd sentence: `<EXTRACTED INFO>` |\n",
    "\n",
    "3. Then we removed numbers in the text, slaces, trailing whitespace etc. (not informational in our context)"
   ]
  },
  {
   "cell_type": "code",
   "execution_count": 60,
   "id": "fddbca70-16d9-437e-a805-14aa9025f2b9",
   "metadata": {},
   "outputs": [],
   "source": [
    "def extract_relevant_info(text, title=\"\"):\n",
    "    if \"<\" in text and \">\" in text:\n",
    "            text = BeautifulSoup(text, \"html.parser\").get_text()\n",
    "    text = unicodedata.normalize(\"NFKD\", text)\n",
    "    text = text.lower().strip()\n",
    " \n",
    "    # 1: Text starts with \"case\" \n",
    "    if text.startswith(\"case\"):\n",
    "        product_match = re.search(r\"(?i)product:\\s*(.*?)\\s*(?:problem:|$)\", text)\n",
    "        problem_match = re.search(r\"(?i)problem:\\s*(.*?)\\s*(?:description:|total pounds recalled:|$)\", text)\n",
    "        description_match = re.search(r\"(?i)description:\\s*(.*?)\\s*(?:total pounds recalled:|$)\", text)\n",
    "        \n",
    "        product_info = product_match.group(1).strip() if product_match else \"\"\n",
    "        problem_info = problem_match.group(1).strip() if problem_match else \"\"\n",
    "        description_info = description_match.group(1).strip() if description_match else \"\"\n",
    "        \n",
    "        if product_info and problem_info and description_info:\n",
    "            result = f\"{product_info} recalled due to {problem_info} ({description_info})\"\n",
    "        elif product_info and problem_info:\n",
    "            \n",
    "            result = f\"{product_info} recalled due to {problem_info}\"\n",
    "        elif product_info:\n",
    "            result = product_info\n",
    "        else:\n",
    "            result = \"\"\n",
    "            \n",
    "    # 2: Text starts with \"pra no.\"\n",
    "    elif text.startswith(\"pra no.\"):\n",
    "        # Use custom_sentence_split in the \"pra no.\" branch.\n",
    "        sentences = custom_sentence_split(text)\n",
    "        hazard_sentence = \"\"\n",
    "        for s in sentences:\n",
    "            if \"what are the defects?\" in s:\n",
    "                hazard_sentence = s.strip()\n",
    "                break\n",
    "        if hazard_sentence:\n",
    "            hazard_text = re.sub(r\"^what are the defects?\\??\\s*\", \"\", hazard_sentence, flags=re.IGNORECASE).strip()\n",
    "        else:\n",
    "            hazard_text = \"\"\n",
    "        product_info = title.strip() if title else \"\"\n",
    "        result = f\"{product_info} recalled. {hazard_text}\"\n",
    "    \n",
    "    # 3: Text starts with \"newsroom > food recalls and allergy alerts > archives\"\n",
    "    elif text.startswith(\"newsroom > food recalls and allergy alerts > archives\"):\n",
    "        result = title.strip() if title else \"\"\n",
    "\n",
    "    # 4: Text starts with \"washington\"\n",
    "    elif \"washington\" in text:\n",
    "       washington_index = text.find(\"washington\")\n",
    "       new_text = text[washington_index:]\n",
    "       sentences = custom_sentence_split(new_text)\n",
    "       result = sentences[0] if sentences else new_text\n",
    "       result = re.sub(r\"^washington[,\\s]*\", \"\", result).strip()\n",
    "    \n",
    "    # 5: Text starts with \"notice\"\n",
    "    elif text.startswith(\"notice\"):\n",
    "        result = title.strip() if title else \"\"\n",
    "    \n",
    "    # 6: Text starts with \"food alert\"\n",
    "    elif text.startswith(\"food alert\"):\n",
    "        result = title.strip() if title else \"\"\n",
    "    \n",
    "    # 7: Text starts with \"risk\"\n",
    "    elif text.startswith(\"risk\"):\n",
    "        result = title.strip() if title else \"\"\n",
    "        \n",
    "    # 7: Text starts with \"page content\"\n",
    "    elif text.startswith(\"page content\"):\n",
    "        sentences = custom_sentence_split(text)\n",
    "        if sentences:\n",
    "            problem_match = re.search(r\"problem:?\\s+(.*?)(?:\\.|$)\", sentences[0], flags=re.IGNORECASE)\n",
    "        else:\n",
    "            problem_match = re.search(r\"problem:?\\s+(.*?)(?:\\.|$)\", text, flags=re.IGNORECASE)\n",
    "        if problem_match:\n",
    "            problem_text = problem_match.group(1).strip()\n",
    "            result = f\"{title.strip()} {problem_text}\"\n",
    "        else:\n",
    "            result = title.strip() if title else \"\"\n",
    "\n",
    "    # 8: Text starts with a numeric pattern like \"18-2022\", \"025-2022\", or \"PHA-07122022-01\"\n",
    "    elif re.match(r\"^(?:pha-)?\\d{1,5}-\\d{2,5}\", text, flags=re.IGNORECASE):\n",
    "        result = title.strip() if title else \"\"\n",
    "\n",
    "    # (Small check not significant - promiment)\n",
    "    elif \"the above product\" in custom_sentence_split(text)[0]:\n",
    "        sentences=custom_sentence_split(text)\n",
    "        problem_match = re.search(r\"problem\\s*(.*?)(?:\\.|$)\", sentences[0], flags=re.IGNORECASE)\n",
    "        if problem_match:\n",
    "            problem_text = problem_match.group(1).strip()\n",
    "            result = f\"{title.strip()} {problem_text}\"\n",
    "        else:\n",
    "            result = title.strip() if title else \"\"\n",
    "\n",
    "    # Default: Other texts\n",
    "    else:\n",
    "        sentences = custom_sentence_split(text)\n",
    "        if len(sentences) > 0:\n",
    "            # if the first sentence contains \"products listed below\", join the first and second sentences.\n",
    "            if \"products listed below\" in sentences[0]:\n",
    "                if len(sentences) > 1:\n",
    "                    result = sentences[0] + \" \" + sentences[1]\n",
    "                else:\n",
    "                    result = sentences[0]\n",
    "            elif re.search(r\"\\b(recall\\w*|presence)\\b\", sentences[0], re.IGNORECASE):\n",
    "                result = sentences[0]\n",
    "            else:\n",
    "                result = \" \".join(sentences[:2]) if len(sentences) > 1 else sentences[0]\n",
    "        else:\n",
    "            result = \"\"\n",
    "    \n",
    "    result = re.sub(r\"\\d+\", \"\", result)\n",
    "    result = re.sub(r\"[/\\-]\", \" \", result)\n",
    "    result = re.sub(r\"[^\\x00-\\x7F]+\", \" \", result)\n",
    "    result = re.sub(r\"\\s+\", \" \", result).strip()\n",
    "    return result"
   ]
  },
  {
   "cell_type": "markdown",
   "id": "996aa580-8d14-423b-8f2e-97a25b69f002",
   "metadata": {},
   "source": [
    "* So based on this text cleaning we will create a new column `clean-text` with that information.\n",
    "\n",
    "*  Additionally:\n",
    "\n",
    "    *  For \"Recall Notifications\" we will use the `clean-text` as the `title` too since these rows always have titles like \"Recall Notification (Number)\"\n",
    "    \n",
    "    *  And assuming that sometimes our method may not be perfect at all times we will use the title to replace cases with too many or too little words."
   ]
  },
  {
   "cell_type": "code",
   "execution_count": 61,
   "id": "17700ffc-d6df-46bb-a61f-ccfeff81c093",
   "metadata": {},
   "outputs": [],
   "source": [
    "def clean_text(data):\n",
    "    data['clean-text'] = data.apply(lambda row: extract_relevant_info(row['text'], title=row['title'].lower()), axis=1)\n",
    "    data.loc[data['title'].str.lower().str.startswith(\"recall notification:\"), 'title'] = data['clean-text']\n",
    "    data.loc[data['title'].str.lower().str.startswith(\"archives\"), 'title'] = data['clean-text']\n",
    "    data.loc[data['clean-text'].str.split().str.len() < 5, 'clean-text'] = data['title']\n",
    "    data.loc[data['clean-text'].str.split().str.len() > 100, 'clean-text'] = data['title']\n",
    "    return data"
   ]
  },
  {
   "cell_type": "markdown",
   "id": "d5fcd23c-0bcc-474b-966e-5d08fb8c69c7",
   "metadata": {},
   "source": [
    "* So let's see what we got."
   ]
  },
  {
   "cell_type": "code",
   "execution_count": 62,
   "id": "886d188c-d0e9-4033-b619-b5d988e39dad",
   "metadata": {},
   "outputs": [
    {
     "data": {
      "text/html": [
       "<div>\n",
       "<style scoped>\n",
       "    .dataframe tbody tr th:only-of-type {\n",
       "        vertical-align: middle;\n",
       "    }\n",
       "\n",
       "    .dataframe tbody tr th {\n",
       "        vertical-align: top;\n",
       "    }\n",
       "\n",
       "    .dataframe thead th {\n",
       "        text-align: right;\n",
       "    }\n",
       "</style>\n",
       "<table border=\"1\" class=\"dataframe\">\n",
       "  <thead>\n",
       "    <tr style=\"text-align: right;\">\n",
       "      <th></th>\n",
       "      <th>clean-text</th>\n",
       "    </tr>\n",
       "  </thead>\n",
       "  <tbody>\n",
       "    <tr>\n",
       "      <th>1365</th>\n",
       "      <td>the ooo company recalls all varieties of its infused oils and vacuum packed halloumi cheese because of concerns over its procedures in place to control clostridium botulinum</td>\n",
       "    </tr>\n",
       "    <tr>\n",
       "      <th>2597</th>\n",
       "      <td>specialty commodities, inc., (sci) of fargo, n.d., a subsidiary of archer daniels midland company (adm), is recalling a specific lot of dry roasted almonds because they may contain undeclared cashews</td>\n",
       "    </tr>\n",
       "    <tr>\n",
       "      <th>1471</th>\n",
       "      <td>the real lancashire black pudding co ltd is recalling a batch of its black pudding slices because the product has been incorrectly labelled with a use by date of december</td>\n",
       "    </tr>\n",
       "    <tr>\n",
       "      <th>2601</th>\n",
       "      <td>weis markets today announced it had issued a recall for its pre made penne pasta with asiago sauce and grilled chicken single serving meal for failing to list a milk allergen on its label</td>\n",
       "    </tr>\n",
       "    <tr>\n",
       "      <th>5154</th>\n",
       "      <td>notification pc brand roquefort blue cheese recalled due to generic e. coli from: canadian food inspection agency recall advisory date: july , reason for recall advisory: microbiological other hazard classification: class company firm: loblaws in...</td>\n",
       "    </tr>\n",
       "  </tbody>\n",
       "</table>\n",
       "</div>"
      ],
      "text/plain": [
       "                                                                                                                                                                                                                                                     clean-text\n",
       "1365                                                                              the ooo company recalls all varieties of its infused oils and vacuum packed halloumi cheese because of concerns over its procedures in place to control clostridium botulinum\n",
       "2597                                                    specialty commodities, inc., (sci) of fargo, n.d., a subsidiary of archer daniels midland company (adm), is recalling a specific lot of dry roasted almonds because they may contain undeclared cashews\n",
       "1471                                                                                 the real lancashire black pudding co ltd is recalling a batch of its black pudding slices because the product has been incorrectly labelled with a use by date of december\n",
       "2601                                                                weis markets today announced it had issued a recall for its pre made penne pasta with asiago sauce and grilled chicken single serving meal for failing to list a milk allergen on its label\n",
       "5154  notification pc brand roquefort blue cheese recalled due to generic e. coli from: canadian food inspection agency recall advisory date: july , reason for recall advisory: microbiological other hazard classification: class company firm: loblaws in..."
      ]
     },
     "execution_count": 62,
     "metadata": {},
     "output_type": "execute_result"
    }
   ],
   "source": [
    "data = clean_text(data)\n",
    "pd.set_option('display.max_colwidth', 250)\n",
    "data['clean-text'].sample(5, random_state=20).to_frame()"
   ]
  },
  {
   "cell_type": "code",
   "execution_count": 147,
   "id": "c6e73402-0f30-4a4c-9a45-badefecac40e",
   "metadata": {},
   "outputs": [
    {
     "name": "stdout",
     "output_type": "stream",
     "text": [
      "Text varies from 1 words up to 100 with a mean of 40.85 and standard deviation of 23.46\n"
     ]
    }
   ],
   "source": [
    "text_lengths = data['clean-text'].str.split().str.len()\n",
    "print(\"Text varies from\", text_lengths.min(), \"words up to\", text_lengths.max(),\n",
    "          \"with a mean of\", round(text_lengths.mean(), 2), \n",
    "          \"and standard deviation of\", round(text_lengths.std(), 2))"
   ]
  },
  {
   "cell_type": "markdown",
   "id": "ccff0896-27ab-4bae-a7c5-7031a9a72af4",
   "metadata": {},
   "source": [
    "* We can now say that we have something a bit better to move on."
   ]
  },
  {
   "cell_type": "markdown",
   "id": "2d58913f-1404-42d9-ad15-8c546fede411",
   "metadata": {},
   "source": [
    "# Data Augmentation"
   ]
  },
  {
   "cell_type": "markdown",
   "id": "b12c81f4-0531-42a0-9103-fde9d7add87e",
   "metadata": {},
   "source": [
    "* Data Cleaning however is not enough preparation for training a machine learning model on the data at hand.\n",
    "\n",
    "* We need to address the imbalance issue we mentioned earlier.\n",
    "\n",
    "* Some of the best practices for this kind of issue is **Data Augmentation** which is to artificially expand a dataset by applying transformations to the existing dataset to create new, varied samples.\n",
    "\n",
    "* There are specific ways to perform Data Augmentation for each data type (numeric, image, text).\n",
    "\n",
    "* As for text, which is our case we tried the methods below:\n",
    "\n",
    "| **Method** | **How it works** | **Performance in practice** | **Accepted/Denied** |\n",
    "|------------|---------------|-----------------|------------|\n",
    "| **Synonyms** | Replaced words with synonyms using wordnet. | Poor performance as it did not understand the context, creating sentences without actual meaning. | **Rejected** |\n",
    "| **BERT (Masked Language Modeling)** | Randomly masked words in a sentence and used BERT to predict and replace them. | Good in theory, but generated sentences that lacked meaning. | **Rejected** |\n",
    "| **Back-Translation** | Translated text into another language and then back to English. | Introduced little variation but preserved meaning well. | **Accepted** |\n",
    "| **LLM Paraphrasing** | Used a large language model (LLM) to rephrase sentences while keeping the meaning intact. | Performed well, successfully preserving the original meaning while improving text diversity. | **Accepted** |"
   ]
  },
  {
   "cell_type": "markdown",
   "id": "ac0082ba-cb91-4692-8e16-a2e4a3eac254",
   "metadata": {},
   "source": [
    "* So our final augmentation method is : LLM Paraphrasing and Back-Translation.\n",
    "\n",
    "* More specifically we use:\n",
    "\n",
    "    * LLM Paraphrasing with $2$ attempts randomly at $13$ LLM models.\n",
    " \n",
    "    * If the $2$ attempts fail (due to API Call Limit per Minute) then fallback to BackTranslation.\n",
    " \n",
    "* Why $13$ LLM models?\n",
    "\n",
    "  1) to overcome API Call Limit per Minute\n",
    "     \n",
    "  2) to enhance diversity using different model architectures\n",
    "\n",
    "* To enhance diversity even more we randomly use a slightly different prompt across $7$ prompts.\n",
    "\n",
    "* Among the LLM Models we use is Deepseek R1 (a new leader in LLMs) and various versions of Llama.\n",
    "\n",
    "* And all this is for **free**, since its a competition and we play a fair game, using [**Groq**](https://en.wikipedia.org/wiki/Groq).\n",
    "\n",
    "* **Groq** was chosen because we wanted access to a big amount of LLMs (for variablity) and a **free** ability to call them multitle times and Groq provides limits per day per model that start at $1.000$ calls a day and go up to $14.400$ calls a day for each model with a limit of $30$ calls per minute for each seperate model. By randomly chosing between $13$ models we increase our chances of getting a response by an LLM model.\n",
    "\n",
    "* In the fallback option, backtranslation, we use $3$ languages (French, German, Spanish) from which we chose again randomly to ensure some variation.\n",
    "\n",
    "* Of cource we must note that to have access to Groq you sign up and log in (for example by using  your gmail) [here](https://console.groq.com/login). (No bank information is asked from you). And then you just make an API key which can be used at the code below. When you run this code you will be asked to give as input your API key."
   ]
  },
  {
   "cell_type": "code",
   "execution_count": 63,
   "id": "2ee9a4ac-cc73-46d2-b1d4-25eb9c731920",
   "metadata": {},
   "outputs": [
    {
     "name": "stdin",
     "output_type": "stream",
     "text": [
      "Enter your Groq API Key:  ········\n"
     ]
    },
    {
     "name": "stdout",
     "output_type": "stream",
     "text": [
      "Connected to Groq successfully.\n"
     ]
    }
   ],
   "source": [
    "API_KEY = getpass.getpass(\"Enter your Groq API Key: \")\n",
    "try:\n",
    "    client = Groq(api_key=API_KEY)\n",
    "    print(\"Connected to Groq successfully.\")\n",
    "except Exception as e:\n",
    "    print(f\"Connection failed: {e}\")"
   ]
  },
  {
   "cell_type": "markdown",
   "id": "a691e38e-8e3e-4611-88f3-fd71018fc16a",
   "metadata": {},
   "source": [
    "* These are the models we will use"
   ]
  },
  {
   "cell_type": "code",
   "execution_count": 64,
   "id": "6ea0e21a-bbd4-45bd-893b-128f979a1546",
   "metadata": {},
   "outputs": [],
   "source": [
    "models = [\n",
    "    \"deepseek-r1-distill-llama-70b\",\n",
    "    \"llama-3.3-70b-versatile\",\n",
    "    \"llama-3.3-70b-specdec\",\n",
    "    \"llama-3.2-1b-preview\",\n",
    "    \"llama-3.2-3b-preview\",\n",
    "    \"llama-3.1-8b-instant\",\n",
    "    \"llama3-70b-8192\",\n",
    "    \"llama3-8b-8192\",\n",
    "    \"llama-guard-3-8b\",\n",
    "    \"mixtral-8x7b-32768\",\n",
    "    \"gemma2-9b-it\",\n",
    "    \"llama-3.2-11b-vision-preview\",\n",
    "    \"llama-3.2-90b-vision-preview\"\n",
    "]"
   ]
  },
  {
   "cell_type": "markdown",
   "id": "6ac606c1-12fe-40bd-9317-f79357ee2de8",
   "metadata": {},
   "source": [
    "* These are the different prompts we will use (slightly different emphasis on rewording/variation, describing/details/expanding and sentence stracture modification per prompt)."
   ]
  },
  {
   "cell_type": "code",
   "execution_count": 65,
   "id": "3d2d9a7a-9351-4f9e-b9c1-a213c8b2ed90",
   "metadata": {},
   "outputs": [],
   "source": [
    "augmentation_prompts = [\n",
    "    \"Reword with different phrasing and word choices.\",\n",
    "    \"Generate a more descriptive version while keeping the original meaning.\",\n",
    "    \"Paraphrase this with a different sentence structure.\",\n",
    "    \"Rewrite this in a slightly more detailed way with varied vocabulary.\",\n",
    "    \"Modify while maintaining its intent, but add variation.\",\n",
    "    \"Rephrase in a creative way without changing its core message.\",\n",
    "    \"Expand slightly while using different word choices.\"\n",
    "]"
   ]
  },
  {
   "cell_type": "markdown",
   "id": "027cdde9-5b8d-4f19-a0aa-429c1d8e6454",
   "metadata": {},
   "source": [
    "* And this is how we call our API, randomly selecting our model, prompt and then augmenting the row by making a copy of a row with a new title and a new clean text.\n",
    "\n",
    "* It is important to note the importance of **making a good prompt** as if the prompt is not **specific** enough (ex. we did not put \"Deliver only the modified text. Do not add explanations, extra text, or formatting.\") the model would return unnessecary text like \"My response is that: ...\", \"i think ... because...\".\n",
    "\n",
    "* Also we have put $0.9$ as temperature to get some variation from there too.\n",
    "\n",
    "* If the $2$ attempts fail it returns the row unchanged and a flag \"False\" which will indicate Back-Translation to handle the row, otherwise it returns the modified row and the flag as True."
   ]
  },
  {
   "cell_type": "code",
   "execution_count": 66,
   "id": "1abe23cc-c5be-4449-b5a5-2102d028d302",
   "metadata": {},
   "outputs": [],
   "source": [
    "def augment_text_llm(row, text_col, title_col, max_retries=2):\n",
    "    for attempt in range(max_retries):\n",
    "        try:\n",
    "            model_choice = random.choice(models)  # Select model\n",
    "            aug_prompt = random.choice(augmentation_prompts)  # Select prompt\n",
    "            # text augmentation\n",
    "            text_prompt = f\"\"\"\n",
    "            You are an AI specialized in improving recall descriptions. Your goal is to modify the following text \n",
    "            while ensuring the core meaning remains intact.{aug_prompt}\n",
    "\n",
    "            Original Text: {row[text_col]}\n",
    "\n",
    "            Deliver only the modified text. Do not add explanations, extra text, or formatting.\n",
    "            \"\"\"\n",
    "            response_text = client.chat.completions.create(\n",
    "                model=model_choice,\n",
    "                messages=[\n",
    "                    {\"role\": \"system\", \"content\": \"You are a helpful AI assistant.\"},\n",
    "                    {\"role\": \"user\", \"content\": text_prompt}\n",
    "                ],\n",
    "                max_tokens=300,\n",
    "                temperature=0.9,\n",
    "                top_p=0.9\n",
    "            )\n",
    "            new_text = response_text.choices[0].message.content.strip()\n",
    "\n",
    "            # title augmentation\n",
    "            title_prompt = f\"\"\"\n",
    "            You are an AI specialized in improving recall titles.  Your goal is to modify the following title\n",
    "            while ensuring the core meaning remains intact.{aug_prompt}\n",
    "\n",
    "            Original Title: {row[title_col]}\n",
    "\n",
    "            Deliver only the modified title. Do not add explanations, extra text, or formatting.\n",
    "            \"\"\"\n",
    "            response_title = client.chat.completions.create(\n",
    "                model=model_choice,\n",
    "                messages=[\n",
    "                    {\"role\": \"system\", \"content\": \"You are a helpful AI assistant.\"},\n",
    "                    {\"role\": \"user\", \"content\": title_prompt}\n",
    "                ],\n",
    "                max_tokens=100,\n",
    "                temperature=0.9,\n",
    "                top_p=0.9\n",
    "            )\n",
    "            new_title = response_title.choices[0].message.content.strip()\n",
    "\n",
    "            # Update row\n",
    "            row[text_col] = new_text\n",
    "            row[title_col] = new_title\n",
    "            return row, True\n",
    "        except Exception as e:\n",
    "            time.sleep(2)\n",
    "    return row, False"
   ]
  },
  {
   "cell_type": "markdown",
   "id": "459270ac-b71b-495a-8fc6-b0c27598e478",
   "metadata": {},
   "source": [
    "* So let's try it in action with a test."
   ]
  },
  {
   "cell_type": "code",
   "execution_count": 167,
   "id": "d1e9222e-80b1-4c99-b2c7-7e4b35178337",
   "metadata": {},
   "outputs": [
    {
     "data": {
      "text/plain": [
       "({'text_col': \"The FDA has announced a recall of FreshFarm Inc.'s 12.5 oz mixed berry products, which have been found to be contaminated with E. coli. As a precautionary measure, customers who bought these berries between approximately February 10, 2024, and March 5, 2024, are urged to dispose of them immediately.\",\n",
       "  'title_col': 'FDA Issues Recall of Frozen Berry Products'},\n",
       " True)"
      ]
     },
     "execution_count": 167,
     "metadata": {},
     "output_type": "execute_result"
    }
   ],
   "source": [
    "test_row = {\n",
    "    \"text_col\": \"The FDA issued a recall notice for FreshFarm Inc.'s 12.5 oz. mixed berries due to E. coli contamination.\"\n",
    "               \"Consumers who purchased these items between approx. 02.10.2024 and 03.05.2024 are advised to discard the products.\",\n",
    "    \"title_col\": \"FDA Recalls Frozen Berries\",\n",
    "}\n",
    "augment_text_llm(test_row, \"text_col\", \"title_col\", max_retries=2)"
   ]
  },
  {
   "cell_type": "markdown",
   "id": "adab7db6-e7fa-4cac-b671-1c8bbdfb188f",
   "metadata": {},
   "source": [
    "* The rephrasal is indeed very good and each time we run that test we will get a different result.\n",
    "\n",
    "* Now that we established the augmentation using LLMs let's see the Back-Translation.\n",
    "\n",
    "* Down below we also have our BackTranslation Setup with **Helsinki-NLP’s MarianMT models** (Language Technology Research Group at the University of Helsinki).\n",
    "\n",
    "* These models follow the format : Helsinki-NLP/opus-mt-{src}-{tgt} and specifically return a varied version of the initial text when used in Back-Translation\n",
    "\n",
    "* Sources:\n",
    "\n",
    "    * [https://huggingface.co/docs/transformers/model_doc/marian](https://huggingface.co/docs/transformers/model_doc/marian) and\n",
    "    \n",
    "    * [https://huggingface.co/Helsinki-NLP](https://huggingface.co/Helsinki-NLP)"
   ]
  },
  {
   "cell_type": "code",
   "execution_count": 67,
   "id": "56e391d3-9076-46d1-a42f-46f4b14c6f7f",
   "metadata": {},
   "outputs": [
    {
     "name": "stderr",
     "output_type": "stream",
     "text": [
      "/home/ec2-user/anaconda3/envs/pytorch_p310/lib/python3.10/site-packages/transformers/models/marian/tokenization_marian.py:175: UserWarning: Recommended: pip install sacremoses.\n",
      "  warnings.warn(\"Recommended: pip install sacremoses.\")\n"
     ]
    }
   ],
   "source": [
    "src_lang = \"en\"  # English\n",
    "tgt_langs = [\"fr\", \"de\", \"es\"]  # French, German, Spanish\n",
    "\n",
    "# for each language pair load the translation model\n",
    "translators = {}\n",
    "for tgt in tgt_langs:\n",
    "    translators[(src_lang, tgt)] = {\n",
    "        \"tokenizer\": MarianTokenizer.from_pretrained(f\"Helsinki-NLP/opus-mt-en-{tgt}\"),\n",
    "        \"model\": MarianMTModel.from_pretrained(f\"Helsinki-NLP/opus-mt-en-{tgt}\")\n",
    "    }\n",
    "    translators[(tgt, src_lang)] = {\n",
    "        \"tokenizer\": MarianTokenizer.from_pretrained(f\"Helsinki-NLP/opus-mt-{tgt}-en\"),\n",
    "        \"model\": MarianMTModel.from_pretrained(f\"Helsinki-NLP/opus-mt-{tgt}-en\")\n",
    "    }"
   ]
  },
  {
   "cell_type": "markdown",
   "id": "f0bca69e-e669-4f06-be40-0700eeecd1ab",
   "metadata": {},
   "source": [
    "* And we also create the methods that run the model using forward translation to our randomly chosen language and back translation to English for a specific row text and title. "
   ]
  },
  {
   "cell_type": "code",
   "execution_count": 68,
   "id": "35281e60-fdb3-4e7d-88d3-52ca7f229105",
   "metadata": {},
   "outputs": [],
   "source": [
    "def translate_text(text, from_lang, to_lang):\n",
    "    tokenizer = translators[(from_lang, to_lang)][\"tokenizer\"]\n",
    "    model = translators[(from_lang, to_lang)][\"model\"]\n",
    "\n",
    "    inputs = tokenizer(text, return_tensors=\"pt\", truncation=True)\n",
    "    translated_tokens = model.generate(**inputs)\n",
    "    translated_text = tokenizer.decode(translated_tokens[0], skip_special_tokens=True)\n",
    "\n",
    "    return translated_text\n",
    "\n",
    "def augment_text_backtranslation(text):\n",
    "    # Pick random target language\n",
    "    tgt_lang = random.choice(tgt_langs)\n",
    "\n",
    "    # Forward & backward translation\n",
    "    translated_text = translate_text(text, src_lang, tgt_lang)\n",
    "    backtranslated_text = translate_text(translated_text, tgt_lang, src_lang)\n",
    "\n",
    "    return backtranslated_text"
   ]
  },
  {
   "cell_type": "markdown",
   "id": "dd310728-a9c8-4208-950e-2909cf5fb91d",
   "metadata": {},
   "source": [
    "* So let's try the same example as with the LLM, but this time with Back-Translation."
   ]
  },
  {
   "cell_type": "code",
   "execution_count": 73,
   "id": "f8a35935-c398-4a87-97cd-48727b40cc40",
   "metadata": {},
   "outputs": [
    {
     "name": "stdout",
     "output_type": "stream",
     "text": [
      "Original: The FDA issued a recall notice for FreshFarm Inc.'s 12.5 oz. mixed berries due to E. coli contamination. Consumers who purchased these items between approx. 02.10.2024 and 03.05.2024 are advised to discard the products. \n",
      "\n",
      "Augmented: The FDA issued a notice of withdrawal for FreshFarm Inc. of 12.5 ounces of mixed berries due to E. coli contamination. Consumers who bought these items between 02.10.2024 and 03.05.2024 are advised to discard the products.\n"
     ]
    }
   ],
   "source": [
    "original_text = \"The FDA issued a recall notice for FreshFarm Inc.'s 12.5 oz. mixed berries due to E. coli contamination. Consumers who purchased these items between approx. 02.10.2024 and 03.05.2024 are advised to discard the products. \"\n",
    "augmented_text = augment_text_backtranslation(original_text)\n",
    "\n",
    "print(\"Original:\", original_text)\n",
    "print()\n",
    "print(\"Augmented:\", augmented_text)"
   ]
  },
  {
   "cell_type": "markdown",
   "id": "6145837f-9c6b-4774-b57d-cd4c0a7c0247",
   "metadata": {},
   "source": [
    "* It is obvious that LLMs provide significantly greater diversification compared to Back-Translation.\n",
    "\n",
    "* However, Back-Translation still introduces subtle variations in sentences, offering a reasonable level of diversity for a ML model.\n",
    "\n",
    "* Additionally, Back-Translation is far more cost-effective than LLM-based augmentation, making it a practical fallback for large-scale data augmentation."
   ]
  },
  {
   "cell_type": "markdown",
   "id": "d35aab8e-771a-48e8-a75b-cb26fade1ec9",
   "metadata": {},
   "source": [
    "* Combining the $2$ we have the `augment_text` method using the primary and fallback mechanism and the `apply_augmentation` method that handles the whole dataset's augmentation based on `max_aug_per_category` which we give to it. Its job is to augment the data so that **all labels-categories are in at least `max_aug_per_category` number of rows**."
   ]
  },
  {
   "cell_type": "code",
   "execution_count": 74,
   "id": "29ec20d2-b122-4eb7-9afd-29d2cad5daa5",
   "metadata": {},
   "outputs": [],
   "source": [
    "def augment_text(row, text_col, title_col, max_retries=2):\n",
    "    row, success = augment_text_llm(row, text_col, title_col, max_retries)\n",
    "\n",
    "    # If the LLM-based augmentation failed, use back-translation\n",
    "    if not success:\n",
    "        row[text_col] = augment_text_backtranslation(row[text_col])\n",
    "        row[title_col] = augment_text_backtranslation(row[title_col])\n",
    "        return row\n",
    "\n",
    "    return row"
   ]
  },
  {
   "cell_type": "code",
   "execution_count": 75,
   "id": "a6103900-2dbe-4fd9-85d7-c34adab50244",
   "metadata": {},
   "outputs": [],
   "source": [
    "def apply_augmentation(df, category_col, text_col, title_col, max_aug_per_category):\n",
    "    category_counts = df[category_col].value_counts()\n",
    "    total_augmentations_needed = sum(max_aug_per_category - count for count in category_counts if count < max_aug_per_category)\n",
    "    total_augmentations_done = 0\n",
    "    augmented_data = []\n",
    "    futures = []\n",
    "\n",
    "    with ThreadPoolExecutor(max_workers=20) as executor:\n",
    "        for category, count in category_counts.items():\n",
    "            num_to_augment = max_aug_per_category - count\n",
    "            if num_to_augment > 0:\n",
    "                category_samples = df[df[category_col] == category]\n",
    "\n",
    "                if len(category_samples) < num_to_augment:\n",
    "                    sample_iterator = itertools.cycle(category_samples.sample(frac=1).iterrows())\n",
    "                else:\n",
    "                    sample_iterator = category_samples.sample(n=num_to_augment, random_state=random.randint(1, 10000), replace=False).iterrows()\n",
    "\n",
    "                for _, row in itertools.islice(sample_iterator, num_to_augment):\n",
    "                    row_copy = copy.deepcopy(row.to_dict())  \n",
    "                    future = executor.submit(augment_text, row_copy, text_col, title_col)\n",
    "                    futures.append(future)\n",
    "\n",
    "        for future in futures:\n",
    "            try:\n",
    "                new_row = future.result()\n",
    "                total_augmentations_done += 1\n",
    "                percent_done = (total_augmentations_done / total_augmentations_needed) * 100\n",
    "                print(f\"\\rAugmenting {total_augmentations_done}/{total_augmentations_needed} ({percent_done:.2f}%)\", end=\"\", flush=True)\n",
    "                augmented_data.append(new_row)\n",
    "            except Exception as e:\n",
    "                print(f\"Augmentation task failed: {e}\", flush=True)\n",
    "\n",
    "    print(\"\\n\")  # New line after completion\n",
    "    augmented_df = pd.DataFrame(augmented_data)\n",
    "    return pd.concat([df, augmented_df], ignore_index=True)"
   ]
  },
  {
   "cell_type": "markdown",
   "id": "8fb232c2-939f-4a1a-9c86-f8759dfea334",
   "metadata": {},
   "source": [
    "* But now the question arises: **What is the minimum number of rows needed for the smallest category to tackle imbalance?**\n",
    "\n",
    "* The answer is \"According to the task and the data it uses\".\n",
    "\n",
    "* So we will use $2$ augmentations: $1$ for SubTask1 and $1$ for SubTask2.\n",
    "\n",
    "* Why? To have better control over what we give to our model in each task since the labels are different.\n",
    "\n",
    "* Since the label distributions differ between SubTask1 and SubTask2, applying the same augmentation strategy to both could introduce bias or unnecessary noise.\n",
    "\n",
    "* So for task $1$ we have:"
   ]
  },
  {
   "cell_type": "code",
   "execution_count": 174,
   "id": "de922e41-12ab-4db2-99c7-b7993cc3f6a7",
   "metadata": {},
   "outputs": [
    {
     "data": {
      "text/plain": [
       "hazard-category\n",
       "allergens                         1854\n",
       "biological                        1741\n",
       "foreign bodies                     561\n",
       "fraud                              371\n",
       "chemical                           287\n",
       "other hazard                       134\n",
       "packaging defect                    54\n",
       "organoleptic aspects                53\n",
       "food additives and flavourings      24\n",
       "migration                            3\n",
       "Name: count, dtype: int64"
      ]
     },
     "execution_count": 174,
     "metadata": {},
     "output_type": "execute_result"
    }
   ],
   "source": [
    "data['hazard-category'].value_counts()"
   ]
  },
  {
   "cell_type": "code",
   "execution_count": 175,
   "id": "a482f8bb-c0dd-4223-98df-28bf9899fc89",
   "metadata": {},
   "outputs": [
    {
     "data": {
      "text/plain": [
       "product-category\n",
       "meat, egg and dairy products                         1434\n",
       "cereals and bakery products                           671\n",
       "fruits and vegetables                                 535\n",
       "prepared dishes and snacks                            469\n",
       "seafood                                               268\n",
       "soups, broths, sauces and condiments                  264\n",
       "nuts, nut products and seeds                          262\n",
       "ices and desserts                                     222\n",
       "cocoa and cocoa preparations, coffee and tea          210\n",
       "confectionery                                         170\n",
       "non-alcoholic beverages                               134\n",
       "dietetic foods, food supplements, fortified foods     131\n",
       "herbs and spices                                      125\n",
       "alcoholic beverages                                    59\n",
       "other food product / mixed                             55\n",
       "pet feed                                               20\n",
       "fats and oils                                          19\n",
       "food additives and flavourings                          8\n",
       "honey and royal jelly                                   8\n",
       "food contact materials                                  7\n",
       "feed materials                                          6\n",
       "sugars and syrups                                       5\n",
       "Name: count, dtype: int64"
      ]
     },
     "execution_count": 175,
     "metadata": {},
     "output_type": "execute_result"
    }
   ],
   "source": [
    "data['product-category'].value_counts()"
   ]
  },
  {
   "cell_type": "markdown",
   "id": "5e9052c5-2c6d-45e6-8949-4146d0587e43",
   "metadata": {},
   "source": [
    "* So by looking at these distributions we will augment at $100$ both of them."
   ]
  },
  {
   "cell_type": "code",
   "execution_count": 77,
   "id": "5119850f-8238-4ad4-9aa6-625dbe6745d2",
   "metadata": {},
   "outputs": [
    {
     "name": "stdout",
     "output_type": "stream",
     "text": [
      "Augmenting products...\n",
      "Augmenting 713/713 (100.00%)\n",
      "\n",
      "Finished Product Augmentation\n",
      "Augmenting hazards...\n",
      "Augmenting 183/183 (100.00%)\n",
      "\n",
      "Finished Hazard Augmentation\n"
     ]
    }
   ],
   "source": [
    "print(\"Augmenting products...\")\n",
    "train_data_1 = apply_augmentation(data, category_col=\"product-category\", text_col=\"clean-text\", title_col=\"title\", max_aug_per_category=100)\n",
    "print(\"Finished Product Augmentation\")\n",
    "\n",
    "print(\"Augmenting hazards...\")\n",
    "train_data_1 = apply_augmentation(train_data_1, category_col=\"hazard-category\", text_col=\"clean-text\", title_col=\"title\", max_aug_per_category=100)\n",
    "print(\"Finished Hazard Augmentation\")"
   ]
  },
  {
   "cell_type": "markdown",
   "id": "5e91056a-d800-42ad-8a19-02e8b7640413",
   "metadata": {},
   "source": [
    "* So for task $2$ we have:"
   ]
  },
  {
   "cell_type": "code",
   "execution_count": 187,
   "id": "2ae3f9fd-1798-45b0-a938-08d17ecf187b",
   "metadata": {},
   "outputs": [
    {
     "data": {
      "text/plain": [
       "(3, 40, 665)"
      ]
     },
     "execution_count": 187,
     "metadata": {},
     "output_type": "execute_result"
    }
   ],
   "source": [
    " data['hazard'].value_counts().min(), round(data['hazard'].value_counts().mean()), data['hazard'].value_counts().max()"
   ]
  },
  {
   "cell_type": "code",
   "execution_count": 186,
   "id": "49772896-ce00-4b80-b031-eee659375913",
   "metadata": {},
   "outputs": [
    {
     "data": {
      "text/plain": [
       "(1, 5, 185)"
      ]
     },
     "execution_count": 186,
     "metadata": {},
     "output_type": "execute_result"
    }
   ],
   "source": [
    " data['product'].value_counts().min(), round(data['product'].value_counts().mean()), data['product'].value_counts().max()"
   ]
  },
  {
   "cell_type": "markdown",
   "id": "5d8348dc-927e-40f2-9357-701ecf8679ea",
   "metadata": {},
   "source": [
    "* So by looking at these distributions we will augment at $10$ the product one and at $40$ the hazard one."
   ]
  },
  {
   "cell_type": "code",
   "execution_count": 18,
   "id": "3b109d2c-2ce7-4571-a220-451888f3d8aa",
   "metadata": {},
   "outputs": [
    {
     "name": "stdout",
     "output_type": "stream",
     "text": [
      "Augmenting products...\n",
      "Augmenting 6903/6903 (100.00%)\n",
      "\n",
      "Finished Product Augmentation\n",
      "Augmenting hazards...\n",
      "Augmenting 2142/2142 (100.00%)\n",
      "\n",
      "Finished Hazard Augmentation\n"
     ]
    }
   ],
   "source": [
    "print(\"Augmenting products...\")\n",
    "train_data_2 = apply_augmentation(data, category_col=\"product\", text_col=\"clean-text\", title_col=\"title\", max_aug_per_category=10)\n",
    "print(\"Finished Product Augmentation\")\n",
    "\n",
    "print(\"Augmenting hazards...\")\n",
    "train_data_2 = apply_augmentation(treain_data_2, category_col=\"hazard\", text_col=\"clean-text\", title_col=\"title\", max_aug_per_category=40)\n",
    "print(\"Finished Hazard Augmentation\")"
   ]
  },
  {
   "cell_type": "markdown",
   "id": "fe3c999b-cdd5-41e3-aed8-6fa2894753f6",
   "metadata": {},
   "source": [
    "* The reason we did not pursue more augmentation is the danger of overfitting. \n",
    "\n",
    "* Because even tho paraphrasing helps tackle overifitting, if we make $300$ product recalls from paraphrasing $1$ recall our model will not learn but learn by hart which means that it will only be able to indentify the product if it is a paraphrase of that $1$ recall."
   ]
  },
  {
   "cell_type": "markdown",
   "id": "68688b68-f3a8-4cd8-8057-fa5023dc8e07",
   "metadata": {},
   "source": [
    "* Finally we read our validation & test data which we downloaded from [here](https://github.com/food-hazard-detection-semeval-2025/food-hazard-detection-semeval-2025.github.io/tree/main/data).\n",
    "\n",
    "* And we perform the text cleaning procedures we followed with our train data as well."
   ]
  },
  {
   "cell_type": "code",
   "execution_count": 79,
   "id": "9683c1cc-e1d8-4e37-89a7-f064ca0e21f7",
   "metadata": {},
   "outputs": [],
   "source": [
    "val_data = clean_text(pd.read_csv(\"incidents_valid.csv\"))\n",
    "test_data = clean_text(pd.read_csv(\"incidents_test.csv\"))"
   ]
  },
  {
   "cell_type": "markdown",
   "id": "1e464a91-4632-45d3-895c-1c2ffaaed417",
   "metadata": {},
   "source": [
    "# SubTask1: Predicting Hazard - Category & Product - Category"
   ]
  },
  {
   "cell_type": "markdown",
   "id": "8067169c-3049-4323-83ba-695f83babb51",
   "metadata": {},
   "source": [
    "* We will start our fist task using first the simplest approach to get a first idea of what we will be trying to build on and use it as a benchmark for later models.\n",
    "\n",
    "* So we will get this first idea using TF-IDF and Logistic Regression: a very fast and simple model.\n",
    "\n",
    "* Also as we saw the `title` almost always mentions the product and the `clean-text` almost always mentions the hazard, so we will use them to predict `product-category` and `hazard-category` respectively. "
   ]
  },
  {
   "cell_type": "code",
   "execution_count": null,
   "id": "103d1d1f-d429-469a-946a-1ec5bdf21355",
   "metadata": {},
   "outputs": [],
   "source": [
    "train_data = train_data_1 # Use the 1st augmentation"
   ]
  },
  {
   "cell_type": "code",
   "execution_count": 81,
   "id": "51c6b03e-c73e-4c11-8039-d07ad1e7cbd6",
   "metadata": {},
   "outputs": [
    {
     "name": "stdout",
     "output_type": "stream",
     "text": [
      "Final Combined F1-Score: 0.6301464938578326\n",
      "\n",
      "Hazard Classification Report:\n",
      "                                 precision    recall  f1-score   support\n",
      "\n",
      "                     allergens       0.93      0.88      0.91       365\n",
      "                    biological       0.94      0.93      0.94       343\n",
      "                      chemical       0.87      0.88      0.88        52\n",
      "food additives and flavourings       0.33      0.50      0.40         4\n",
      "                foreign bodies       0.95      0.87      0.91       111\n",
      "                         fraud       0.62      0.73      0.67        75\n",
      "                     migration       0.00      0.00      0.00         1\n",
      "          organoleptic aspects       0.50      0.60      0.55        10\n",
      "                  other hazard       0.53      0.62      0.57        26\n",
      "              packaging defect       0.40      0.80      0.53        10\n",
      "\n",
      "                      accuracy                           0.87       997\n",
      "                     macro avg       0.61      0.68      0.63       997\n",
      "                  weighted avg       0.89      0.87      0.88       997\n",
      "\n",
      "\n",
      "Product Classification Report:\n",
      "                                                    precision    recall  f1-score   support\n",
      "\n",
      "                              alcoholic beverages       0.94      1.00      0.97        16\n",
      "                      cereals and bakery products       0.68      0.64      0.66       121\n",
      "     cocoa and cocoa preparations, coffee and tea       0.69      0.83      0.75        42\n",
      "                                    confectionery       0.41      0.39      0.40        33\n",
      "dietetic foods, food supplements, fortified foods       0.43      0.62      0.51        26\n",
      "                                    fats and oils       0.67      0.67      0.67         6\n",
      "                   food additives and flavourings       0.33      0.25      0.29         4\n",
      "                            fruits and vegetables       0.65      0.63      0.64       103\n",
      "                                 herbs and spices       0.57      0.80      0.67        20\n",
      "                            honey and royal jelly       1.00      0.50      0.67         2\n",
      "                                ices and desserts       1.00      0.84      0.91        49\n",
      "                     meat, egg and dairy products       0.87      0.77      0.82       282\n",
      "                          non-alcoholic beverages       0.71      0.79      0.75        19\n",
      "                     nuts, nut products and seeds       0.69      0.81      0.75        54\n",
      "                       other food product / mixed       0.35      0.46      0.40        13\n",
      "                                         pet feed       0.40      1.00      0.57         2\n",
      "                       prepared dishes and snacks       0.49      0.45      0.47        92\n",
      "                                          seafood       0.79      0.88      0.83        60\n",
      "             soups, broths, sauces and condiments       0.69      0.81      0.74        52\n",
      "                                sugars and syrups       0.00      0.00      0.00         1\n",
      "\n",
      "                                         accuracy                           0.71       997\n",
      "                                        macro avg       0.62      0.66      0.62       997\n",
      "                                     weighted avg       0.72      0.71      0.71       997\n",
      "\n"
     ]
    },
    {
     "name": "stderr",
     "output_type": "stream",
     "text": [
      "/home/ec2-user/anaconda3/envs/pytorch_p310/lib/python3.10/site-packages/sklearn/metrics/_classification.py:1565: UndefinedMetricWarning: Precision is ill-defined and being set to 0.0 in labels with no predicted samples. Use `zero_division` parameter to control this behavior.\n",
      "  _warn_prf(average, modifier, f\"{metric.capitalize()} is\", len(result))\n",
      "/home/ec2-user/anaconda3/envs/pytorch_p310/lib/python3.10/site-packages/sklearn/metrics/_classification.py:1565: UndefinedMetricWarning: Precision is ill-defined and being set to 0.0 in labels with no predicted samples. Use `zero_division` parameter to control this behavior.\n",
      "  _warn_prf(average, modifier, f\"{metric.capitalize()} is\", len(result))\n",
      "/home/ec2-user/anaconda3/envs/pytorch_p310/lib/python3.10/site-packages/sklearn/metrics/_classification.py:1565: UndefinedMetricWarning: Precision is ill-defined and being set to 0.0 in labels with no predicted samples. Use `zero_division` parameter to control this behavior.\n",
      "  _warn_prf(average, modifier, f\"{metric.capitalize()} is\", len(result))\n",
      "/home/ec2-user/anaconda3/envs/pytorch_p310/lib/python3.10/site-packages/sklearn/metrics/_classification.py:1565: UndefinedMetricWarning: Precision is ill-defined and being set to 0.0 in labels with no predicted samples. Use `zero_division` parameter to control this behavior.\n",
      "  _warn_prf(average, modifier, f\"{metric.capitalize()} is\", len(result))\n",
      "/home/ec2-user/anaconda3/envs/pytorch_p310/lib/python3.10/site-packages/sklearn/metrics/_classification.py:1565: UndefinedMetricWarning: Precision is ill-defined and being set to 0.0 in labels with no predicted samples. Use `zero_division` parameter to control this behavior.\n",
      "  _warn_prf(average, modifier, f\"{metric.capitalize()} is\", len(result))\n",
      "/home/ec2-user/anaconda3/envs/pytorch_p310/lib/python3.10/site-packages/sklearn/metrics/_classification.py:1565: UndefinedMetricWarning: Precision is ill-defined and being set to 0.0 in labels with no predicted samples. Use `zero_division` parameter to control this behavior.\n",
      "  _warn_prf(average, modifier, f\"{metric.capitalize()} is\", len(result))\n"
     ]
    }
   ],
   "source": [
    "vectorizer = TfidfVectorizer(stop_words='english', max_features=20000) # Vectorization\n",
    "X_train = vectorizer.fit_transform(train_data['clean-text'])\n",
    "X_test = vectorizer.transform(test_data['clean-text'])\n",
    "X_train_2 = vectorizer.fit_transform(train_data['title'])\n",
    "X_test_2 = vectorizer.transform(test_data['title'])\n",
    "\n",
    "# Labels (for both product and hazard categories)\n",
    "y_train_hazard = train_data['hazard-category']\n",
    "y_test_hazard = test_data['hazard-category']\n",
    "y_train_product = train_data['product-category']\n",
    "y_test_product = test_data['product-category']\n",
    "\n",
    "# Train & Fit Logistic Regression models\n",
    "model_hazard = LogisticRegression(max_iter=1000, class_weight=\"balanced\")\n",
    "model_product = LogisticRegression(max_iter=1000, class_weight=\"balanced\")\n",
    "model_hazard.fit(X_train, y_train_hazard)\n",
    "model_product.fit(X_train_2, y_train_product)\n",
    "\n",
    "# Predict\n",
    "y_pred_hazard = model_hazard.predict(X_test)\n",
    "y_pred_product = model_product.predict(X_test_2)\n",
    "\n",
    "# Compute final score\n",
    "final_f1_score = compute_score(y_test_hazard , y_test_product, y_pred_hazard, y_pred_product)\n",
    "\n",
    "print(\"Final Combined F1-Score:\", final_f1_score)\n",
    "print(\"\\nHazard Classification Report:\\n\", classification_report(y_test_hazard, y_pred_hazard))\n",
    "print(\"\\nProduct Classification Report:\\n\", classification_report(y_test_product, y_pred_product))"
   ]
  },
  {
   "cell_type": "markdown",
   "id": "cab77b3d-0db1-4cbb-842f-baec5f4bbd6b",
   "metadata": {},
   "source": [
    "* So with a very simple model we get a F1 Score of $0.63$.\n",
    "\n",
    "* Not bad for a start.\n",
    "\n",
    "* In fact it is approximately $0.20$ points higher than the provided code sample that uses the title (even tho not entirely comparable since test data are different- but stll).\n",
    "\n",
    "* **This goes to show how important important data cleaning and augmentation is for a model.**"
   ]
  },
  {
   "cell_type": "markdown",
   "id": "5c71c159-be78-42be-ba69-f648ce70ffb1",
   "metadata": {},
   "source": [
    "* However, we can do better.\n",
    "\n",
    "* TF-IDF, while effective in weighting words based on frequency, lacks a crucial element: **context**. It treats words in isolation, missing the nuances that give them **true meaning** in a sentence.\n",
    "\n",
    "* So what we will do is try to encorporate this meaning of language in our model.\n",
    "\n",
    "* How do we do that?\n",
    "\n",
    "* We turn to transformers, a groundbreaking and very smart development in Natural Language Processing (NLP).\n",
    "\n",
    "* What transformers do is they use **contextual embeddings**, meaning they capture the meaning of a word based on the words around it (mechannism called **Self-Attention**).\n",
    "\n",
    "* Below we present the some extremelly influential transformer-based models:\n",
    "\n",
    " | Model      | Year | Developed By | Characteristics |\n",
    "|-----------|------|-------------|-------------|\n",
    "| **BERT** (*Bidirectional Encoder Representations from Transformers*) | 2018 | Google AI | - Bidirectional context (words before and after target word)|\n",
    "| **RoBERTa** (*Robustly Optimized BERT*) | 2019 | Facebook AI | - Better focus on 1 sentence tasks <br>- Trained on more data than BERT for longer <br> - More robust and accurate than BERT generaly|\n",
    "| **DistilBERT** (*Distilled BERT*) | 2019 | Hugging Face | - fewer parameters than BERT<br>- 95% of BERT's performance with lower computational cost\n",
    "| **DeBERTa** (*Decoding-enhanced BERT with Disentangled Attention*) | 2020 | Microsoft AI | - More advanced context representation than BERT/RoBERTa <br>- computationally heavy model with a lot of parameters| \n",
    "\n",
    "* As for DistilBERT, we won't be using it since our primary goal is F1-Score and not cost-efficiency.\n",
    "\n",
    "* As for the others, based on the study *\"BERT, RoBERTa or DeBERTa? Comparing Performance Across Transformers Models in Political Science Text\"* by *Joan C. Timoneda and Sebastián Vallejo Vera*, published in The *Journal of Politics*, which examines the effectiveness of various transformer models in political science applications, it was found that **RoBERTa and DeBERTa often outperform BERT in specific scenarios**, particularly when fine-tuned for specialized texts.\n",
    "\n",
    "* So we are between RoBERTa and DeBERTa.\n",
    "\n",
    "* DeBERTa generally outperforms RoBERTa in the bibliography, but its size and complex mechanisms might overfit our data since they are not that many (close to $6.000$ rows with the subtask 1 augmentation) of text on average composed of $20$ words.\n",
    "\n",
    "* So **let's try RoBERTa** which seems to be the most promicing using clean-text to predict `hazard-category` and `title` to predict `product-category` as we did in Logistic Regression. However, it is important to emphasize that **<ins>TRIAL AND ERROR WAS UTILIZED and the code below was rerun for all models with RoBERTa performing highest, DeBERTa extremelly low and BERT and DistilBERT at medium values close to RoBERTa.</ins>**\n",
    "\n",
    "* So we now have text data and text labels.\n",
    "\n",
    "* ML Models need numbers in both data and labels.\n",
    "\n",
    "* So we must convert :\n",
    "\n",
    "    1) The labels:\n",
    "        * ex. ['listeria', 'allergy'] -> [0,1].\n",
    "        \n",
    "        * For this we use `LabelEncoder()` the tool that does excactly that.\n",
    "    3) The text data (text and title):\n",
    "    \n",
    "       * ex. Suppose our \"clean-text\" is: \"Listeria contamination can occur in refrigerated foods.\"\n",
    "        \n",
    "       * The tokenizer converts this into:\n",
    "        [\"Listeria\", \"contamination\", \"can\", \"occur\", \"in\", \"refrigerated\", \"foods\", \".\"]\n",
    "    \n",
    "        * These tokens are then mapped to numerical IDs, making the text understandable to RoBERTa.\n",
    "      \n",
    "        * For this, we use `RobertaTokenizer.from_pretrained(\"roberta-base\")`, which ensures our text follows the format RoBERTa expects.\n",
    "\n",
    "* So this is what we do below."
   ]
  },
  {
   "cell_type": "code",
   "execution_count": null,
   "id": "d1f7a16b-40c8-4ab9-9fe9-8bfbded41bea",
   "metadata": {},
   "outputs": [],
   "source": [
    "label_enc_hazard = LabelEncoder()\n",
    "label_enc_product = LabelEncoder()\n",
    "\n",
    "label_enc_hazard.fit(train_data[\"hazard-category\"])\n",
    "label_enc_product.fit(train_data[\"product-category\"])\n",
    "train_data[\"hazard_label\"] = label_enc_hazard.transform(train_data[\"hazard-category\"])\n",
    "val_data[\"hazard_label\"] = label_enc_hazard.transform(val_data[\"hazard-category\"])\n",
    "test_data[\"hazard_label\"] = label_enc_hazard.transform(test_data[\"hazard-category\"])\n",
    "train_data[\"product_label\"] = label_enc_product.transform(train_data[\"product-category\"])\n",
    "val_data[\"product_label\"] = label_enc_product.transform(val_data[\"product-category\"])\n",
    "test_data[\"product_label\"] = label_enc_product.transform(test_data[\"product-category\"])\n",
    "\n",
    "# RoBERTa Tokenizer loading\n",
    "tokenizer = RobertaTokenizer.from_pretrained(\"roberta-base\")\n",
    "\n",
    "def tokenize_text(examples):\n",
    "    return tokenizer(examples[\"clean-text\"], padding=\"max_length\", truncation=True)\n",
    "\n",
    "def tokenize_title(examples):\n",
    "    return tokenizer(examples[\"title\"], padding=\"max_length\", truncation=True)"
   ]
  },
  {
   "cell_type": "markdown",
   "id": "251753bf-b571-45c7-b531-5a5b1327935b",
   "metadata": {},
   "source": [
    "* Now we must make our data ready for training by converting them data into a format that RoBERTa and PyTorch can understand (Hugging Face Datasets).\n",
    "\n",
    "* Then, the data is prepared in batches of $16$ (an accepted general practice) using DataLoaders, making it ready for training the model. "
   ]
  },
  {
   "cell_type": "code",
   "execution_count": 83,
   "id": "c8efb911-703c-4202-adde-ff6f1e808665",
   "metadata": {},
   "outputs": [
    {
     "data": {
      "application/vnd.jupyter.widget-view+json": {
       "model_id": "d6b511c8b2dd44cf84bce90a29d3dad5",
       "version_major": 2,
       "version_minor": 0
      },
      "text/plain": [
       "Map:   0%|          | 0/5978 [00:00<?, ? examples/s]"
      ]
     },
     "metadata": {},
     "output_type": "display_data"
    },
    {
     "data": {
      "application/vnd.jupyter.widget-view+json": {
       "model_id": "dcea865e60f040699a320226d61313fb",
       "version_major": 2,
       "version_minor": 0
      },
      "text/plain": [
       "Map:   0%|          | 0/565 [00:00<?, ? examples/s]"
      ]
     },
     "metadata": {},
     "output_type": "display_data"
    },
    {
     "data": {
      "application/vnd.jupyter.widget-view+json": {
       "model_id": "b0c6bf78a63545fa8588b018a7dbe846",
       "version_major": 2,
       "version_minor": 0
      },
      "text/plain": [
       "Map:   0%|          | 0/997 [00:00<?, ? examples/s]"
      ]
     },
     "metadata": {},
     "output_type": "display_data"
    },
    {
     "data": {
      "application/vnd.jupyter.widget-view+json": {
       "model_id": "af9e173e47554342a31249676c008b21",
       "version_major": 2,
       "version_minor": 0
      },
      "text/plain": [
       "Map:   0%|          | 0/5978 [00:00<?, ? examples/s]"
      ]
     },
     "metadata": {},
     "output_type": "display_data"
    },
    {
     "data": {
      "application/vnd.jupyter.widget-view+json": {
       "model_id": "8ce5ab13768946919c421355fadbc650",
       "version_major": 2,
       "version_minor": 0
      },
      "text/plain": [
       "Map:   0%|          | 0/565 [00:00<?, ? examples/s]"
      ]
     },
     "metadata": {},
     "output_type": "display_data"
    },
    {
     "data": {
      "application/vnd.jupyter.widget-view+json": {
       "model_id": "245287d3b078433f92adc53f12bd6f84",
       "version_major": 2,
       "version_minor": 0
      },
      "text/plain": [
       "Map:   0%|          | 0/997 [00:00<?, ? examples/s]"
      ]
     },
     "metadata": {},
     "output_type": "display_data"
    }
   ],
   "source": [
    "# DataFrames to Hugging Face Datasets\n",
    "train_dataset_text = Dataset.from_pandas(train_data).map(tokenize_text, batched=True)\n",
    "val_dataset_text = Dataset.from_pandas(val_data).map(tokenize_text, batched=True)\n",
    "test_dataset_text = Dataset.from_pandas(test_data).map(tokenize_text, batched=True)\n",
    "train_dataset_title = Dataset.from_pandas(train_data).map(tokenize_title, batched=True)\n",
    "val_dataset_title = Dataset.from_pandas(val_data).map(tokenize_title, batched=True)\n",
    "test_dataset_title = Dataset.from_pandas(test_data).map(tokenize_title, batched=True)\n",
    "data_collator = DataCollatorWithPadding(tokenizer=tokenizer, padding=True) # format compatible with PyTorch\n",
    "\n",
    "train_dataset_text.set_format(\"torch\", columns=[\"input_ids\", \"attention_mask\", \"hazard_label\", \"product_label\"])\n",
    "val_dataset_text.set_format(\"torch\", columns=[\"input_ids\", \"attention_mask\", \"hazard_label\", \"product_label\"])\n",
    "test_dataset_text.set_format(\"torch\", columns=[\"input_ids\", \"attention_mask\", \"hazard_label\", \"product_label\"])\n",
    "train_dataset_title.set_format(\"torch\", columns=[\"input_ids\", \"attention_mask\", \"hazard_label\", \"product_label\"])\n",
    "val_dataset_title.set_format(\"torch\", columns=[\"input_ids\", \"attention_mask\", \"hazard_label\", \"product_label\"])\n",
    "test_dataset_title.set_format(\"torch\", columns=[\"input_ids\", \"attention_mask\", \"hazard_label\", \"product_label\"])\n",
    "\n",
    "# Create Dataloaders  for text and title\n",
    "batch_size = 16\n",
    "train_dataloader_text = DataLoader(train_dataset_text, shuffle=True, batch_size=batch_size, collate_fn=data_collator)\n",
    "val_dataloader_text = DataLoader(val_dataset_text, batch_size=batch_size, collate_fn=data_collator)\n",
    "test_dataloader_text = DataLoader(test_dataset_text, batch_size=batch_size, collate_fn=data_collator)\n",
    "\n",
    "train_dataloader_title = DataLoader(train_dataset_title, shuffle=True, batch_size=batch_size, collate_fn=data_collator)\n",
    "val_dataloader_title = DataLoader(val_dataset_title, batch_size=batch_size, collate_fn=data_collator)\n",
    "test_dataloader_title = DataLoader(test_dataset_text, batch_size=batch_size, collate_fn=data_collator)\n"
   ]
  },
  {
   "cell_type": "markdown",
   "id": "e1ec6ea2-740b-4929-b433-c6200b78e99c",
   "metadata": {},
   "source": [
    "* After preparing our data we will prepare our model(s).\n",
    "\n",
    "* We start by enabling it to load and run in **\"cuda\"** which utilizes GPU, which is much faster than CPU in the case of such models as they are based on linear algebra (optimized on GPU)."
   ]
  },
  {
   "cell_type": "code",
   "execution_count": null,
   "id": "4fe4959d-fdbd-408c-8f7d-90959f25f124",
   "metadata": {},
   "outputs": [],
   "source": [
    "device = torch.device(\"cuda\" if torch.cuda.is_available() else \"cpu\")"
   ]
  },
  {
   "cell_type": "markdown",
   "id": "9abfac27-bfc6-4234-a881-fb74b696facd",
   "metadata": {},
   "source": [
    "* And we load $2$ models (pretrained RoBERTa base): $1$ to predict hazard category and $1$ to predict product category."
   ]
  },
  {
   "cell_type": "code",
   "execution_count": 73,
   "id": "e429f0ff-ac6f-4a1e-802b-5502b24d2107",
   "metadata": {},
   "outputs": [
    {
     "name": "stderr",
     "output_type": "stream",
     "text": [
      "Some weights of RobertaForSequenceClassification were not initialized from the model checkpoint at roberta-base and are newly initialized: ['classifier.dense.bias', 'classifier.dense.weight', 'classifier.out_proj.bias', 'classifier.out_proj.weight']\n",
      "You should probably TRAIN this model on a down-stream task to be able to use it for predictions and inference.\n",
      "Some weights of RobertaForSequenceClassification were not initialized from the model checkpoint at roberta-base and are newly initialized: ['classifier.dense.bias', 'classifier.dense.weight', 'classifier.out_proj.bias', 'classifier.out_proj.weight']\n",
      "You should probably TRAIN this model on a down-stream task to be able to use it for predictions and inference.\n",
      "/home/ec2-user/anaconda3/envs/pytorch_p310/lib/python3.10/site-packages/transformers/optimization.py:591: FutureWarning: This implementation of AdamW is deprecated and will be removed in a future version. Use the PyTorch implementation torch.optim.AdamW instead, or set `no_deprecation_warning=True` to disable this warning\n",
      "  warnings.warn(\n"
     ]
    }
   ],
   "source": [
    "model_hazard = RobertaForSequenceClassification.from_pretrained(\"roberta-base\", num_labels=len(label_enc_hazard.classes_)).to(device)\n",
    "model_product_title = RobertaForSequenceClassification.from_pretrained(\"roberta-base\", num_labels=len(label_enc_product.classes_)).to(device)"
   ]
  },
  {
   "cell_type": "markdown",
   "id": "af11f502-f2f6-4321-bf76-95306b3845dc",
   "metadata": {},
   "source": [
    "* This warning above just states that the model is not fully trained yet, which is what we want since we **will be fine-tuning it**.\n",
    "\n",
    "* Now we must set our **fine-tuning strategy** of the RoBERTa-based classification models.\n",
    "\n",
    "* This means finding the perfect combination of optimizer, loss, epochs, patience other methods like sceduling.\n",
    "\n",
    "* **<ins>AT THIS POINT TRIAL AND ERROR WAS UTILIZED MULTIPLE, MULTIPLE TIMES.</ins>**\n",
    "\n",
    "    Many different loss functions, learning rates, and patience values were tested to optimize performance. The best setup was chosen based on **empirical results and f1-macro metrics**.\n",
    "\n",
    "| Method                    | Purpose                                      |  Notes after trial |\n",
    "|---------------------------|----------------------------------------------|--------------------------|\n",
    "| **AdamW (Weight Decay Adam)** | Optimizes weights efficiently while preventing overfitting with aim to generalize | Worked best alone in practice, even tho not comlete in theory |\n",
    "| **Cross-Entropy Loss with Class Weights** | Assigns higher loss to minority classes |Good in theory performed lower than just AdamW|\n",
    "| **Focal Loss** | Reduces the impact of easy-to-classify examples | Good in theory performed lower than just AdamW |\n",
    "| **Augmenting**| Increases the number of minority class samples | Highly increased  scores when applied |\n",
    "| **Learning Rate = 5e-5**| Good practice for fine-turning | Best Learning Rate |\n",
    "| **Learning Rate = 1e-6**| Also Good practice for fine-turning (lower than 5e-5) | Slow without increasing the final score |\n",
    "| **Early Stopping = 2**| Stop training at 2 epochs where validation FI-Score has not improved | Captures a good performance on both validation and testing data |\n",
    "| **Early Stopping = 5**| Stop training at 5 epochs where validation FI-Score has not improved | Captures a very good performance on validation data but not as good in testing data |\n",
    "\n",
    "* The final desicion was the following:\n",
    "  \n",
    "* AdamW optimizer : used to update model weights efficiently, with a learning rate of $5e-5$.\n",
    " "
   ]
  },
  {
   "cell_type": "code",
   "execution_count": null,
   "id": "f184deeb-0838-44a5-b4ab-6fbefd4afc94",
   "metadata": {},
   "outputs": [],
   "source": [
    "optimizer_hazard = AdamW(model_hazard.parameters(), lr=5e-5)\n",
    "optimizer_product_title = AdamW(model_product_title.parameters(), lr=5e-5)"
   ]
  },
  {
   "cell_type": "markdown",
   "id": "ddb99092-217f-4d89-b118-07575b37c9b7",
   "metadata": {},
   "source": [
    "* Early stopping (2 for 20 epochs): stopping training if the model does not improve after 2 epochs on the Validation Data F1 Macro score."
   ]
  },
  {
   "cell_type": "code",
   "execution_count": null,
   "id": "d82d2758-140b-4e19-8906-56aaa0a31de8",
   "metadata": {},
   "outputs": [],
   "source": [
    "num_epochs = 20  # Max epochs\n",
    "patience = 2  # Stop if no improvement after 2 epochs"
   ]
  },
  {
   "cell_type": "markdown",
   "id": "5fbc0bb4-4ac2-45f1-8f36-0a1010f131af",
   "metadata": {},
   "source": [
    "* Linear learning rate scheduler: gradually reduces the learning rate over time to improve training stability and prevent overfitting."
   ]
  },
  {
   "cell_type": "code",
   "execution_count": null,
   "id": "1382607a-847d-4f44-9fba-5acae7b5bf7d",
   "metadata": {},
   "outputs": [],
   "source": [
    "num_training_steps = num_epochs * len(train_dataloader_text)\n",
    "lr_scheduler_hazard = get_scheduler(\"linear\", optimizer=optimizer_hazard, num_warmup_steps=0, num_training_steps=num_training_steps)\n",
    "lr_scheduler_product_title = get_scheduler(\"linear\", optimizer=optimizer_product_title, num_warmup_steps=0, num_training_steps=num_training_steps)"
   ]
  },
  {
   "cell_type": "markdown",
   "id": "f76eaf12-193b-4bc5-8dae-a72ea7b8b12e",
   "metadata": {},
   "source": [
    "* The best model and F1-score are tracked separately for both hazard category and product category classification tasks in a history dictionary."
   ]
  },
  {
   "cell_type": "code",
   "execution_count": null,
   "id": "e32fa6c0-b40c-4f21-bad8-43cb085f4c5f",
   "metadata": {},
   "outputs": [],
   "source": [
    "best_f1 = {\"hazard\": 0, \"product_title\": 0}\n",
    "no_improve_epochs = {\"hazard\": 0,\"product_title\": 0}\n",
    "best_model = {\"hazard\": None, \"product_title\": None}\n",
    "history = {\"hazard_loss\": [], \"hazard_f1\": [], \"product_title_loss\": [], \"product_title_f1\": []}"
   ]
  },
  {
   "cell_type": "markdown",
   "id": "5fec6c41-aa57-4ada-b0ae-e576a256b900",
   "metadata": {},
   "source": [
    "* Now after all this extensive preparation we are ready to train our models.\n",
    "\n",
    "* First for Hazard:"
   ]
  },
  {
   "cell_type": "code",
   "execution_count": 74,
   "id": "988101e8-4b31-4d44-a2db-8fba45ad4de3",
   "metadata": {},
   "outputs": [
    {
     "name": "stdout",
     "output_type": "stream",
     "text": [
      "\n",
      "Epoch 1/20 - Training Hazard Model\n",
      "Validation Hazard F1-score: 0.6596\n",
      "\n",
      "Epoch 2/20 - Training Hazard Model\n",
      "Validation Hazard F1-score: 0.7524\n",
      "\n",
      "Epoch 3/20 - Training Hazard Model\n",
      "Validation Hazard F1-score: 0.7510\n",
      "\n",
      "Epoch 4/20 - Training Hazard Model\n",
      "Validation Hazard F1-score: 0.7998\n",
      "\n",
      "Epoch 5/20 - Training Hazard Model\n",
      "Validation Hazard F1-score: 0.7871\n",
      "\n",
      "Epoch 6/20 - Training Hazard Model\n",
      "Validation Hazard F1-score: 0.7861\n",
      "Hazard model stopped early at epoch 6. Best F1-score: 0.7998\n"
     ]
    }
   ],
   "source": [
    "for epoch in range(num_epochs):\n",
    "    print(f\"\\nEpoch {epoch+1}/{num_epochs} - Training Hazard Model\")\n",
    "\n",
    "    model_hazard.train()\n",
    "    total_loss = 0\n",
    "\n",
    "    for batch in train_dataloader_text:\n",
    "        batch = {k: v.to(device) for k, v in batch.items()}\n",
    "\n",
    "        if \"hazard_label\" not in batch:\n",
    "            print(\"Skipping batch - No hazard labels found!\")\n",
    "            continue\n",
    "\n",
    "        batch[\"labels\"] = batch.pop(\"hazard_label\").to(torch.long)\n",
    "        inputs = {k: batch[k] for k in [\"input_ids\", \"attention_mask\", \"labels\"] if k in batch}\n",
    "        outputs = model_hazard(**inputs)\n",
    "\n",
    "        loss = outputs.loss\n",
    "        total_loss += loss.item()\n",
    "        loss.backward()\n",
    "\n",
    "        optimizer_hazard.step()\n",
    "        lr_scheduler_hazard.step()\n",
    "        optimizer_hazard.zero_grad()\n",
    "\n",
    "    avg_loss = total_loss / len(train_dataloader_text)\n",
    "    history[\"hazard_loss\"].append(avg_loss)\n",
    "\n",
    "    # Validation Step\n",
    "    model_hazard.eval()\n",
    "    val_preds, true_labels = [], []\n",
    "\n",
    "    with torch.no_grad():\n",
    "        for batch in val_dataloader_text:\n",
    "            batch = {k: v.to(device) for k, v in batch.items()}\n",
    "            if \"hazard_label\" not in batch:\n",
    "                continue  # Skip if no labels\n",
    "            true_labels.extend(batch[\"hazard_label\"].cpu().numpy())\n",
    "\n",
    "            inputs = {k: batch[k] for k in [\"input_ids\", \"attention_mask\"]}\n",
    "            outputs = model_hazard(**inputs)\n",
    "\n",
    "            predictions = torch.argmax(outputs.logits, dim=-1)\n",
    "            val_preds.extend(predictions.cpu().numpy())\n",
    "\n",
    "    if len(true_labels) > 0:  # Prevent division by zero\n",
    "        f1 = f1_score(true_labels, val_preds, average=\"macro\", zero_division=1)\n",
    "        history[\"hazard_f1\"].append(f1)\n",
    "        print(f\"Validation Hazard F1-score: {f1:.4f}\")\n",
    "\n",
    "        # Early Stopping Check\n",
    "        if f1 > best_f1[\"hazard\"]:\n",
    "            best_f1[\"hazard\"] = f1\n",
    "            no_improve_epochs[\"hazard\"] = 0\n",
    "            best_model[\"hazard\"] = copy.deepcopy(model_hazard.state_dict())\n",
    "        else:\n",
    "            no_improve_epochs[\"hazard\"] += 1\n",
    "            if no_improve_epochs[\"hazard\"] >= patience:\n",
    "                print(f\"Hazard model stopped early at epoch {epoch+1}. Best F1-score: {best_f1['hazard']:.4f}\")\n",
    "                break"
   ]
  },
  {
   "cell_type": "markdown",
   "id": "e5431496-34be-4b03-804c-940d0e568056",
   "metadata": {},
   "source": [
    "* Hazard Model showed a steady improvement in F1-score over the first few epochs, reaching a peak of $0.7998$ at epoch $4$.\n",
    "\n",
    "* However, after this point, the performance declined slightly ($0.7871$ → $0.7861$), triggering early stopping at epoch $6$ due to no further improvement.\n",
    "\n",
    "* Now let's see how product does:"
   ]
  },
  {
   "cell_type": "code",
   "execution_count": 75,
   "id": "1489f8cf-cc29-4608-9290-2f0956bd77cd",
   "metadata": {},
   "outputs": [
    {
     "name": "stdout",
     "output_type": "stream",
     "text": [
      "\n",
      "Epoch 1/20 - Training Product (Title) Model\n",
      "Validation Product (Title) F1-score: 0.5689\n",
      "\n",
      "Epoch 2/20 - Training Product (Title) Model\n",
      "Validation Product (Title) F1-score: 0.6277\n",
      "\n",
      "Epoch 3/20 - Training Product (Title) Model\n",
      "Validation Product (Title) F1-score: 0.6406\n",
      "\n",
      "Epoch 4/20 - Training Product (Title) Model\n",
      "Validation Product (Title) F1-score: 0.6536\n",
      "\n",
      "Epoch 5/20 - Training Product (Title) Model\n",
      "Validation Product (Title) F1-score: 0.6738\n",
      "\n",
      "Epoch 6/20 - Training Product (Title) Model\n",
      "Validation Product (Title) F1-score: 0.6940\n",
      "\n",
      "Epoch 7/20 - Training Product (Title) Model\n",
      "Validation Product (Title) F1-score: 0.6797\n",
      "\n",
      "Epoch 8/20 - Training Product (Title) Model\n",
      "Validation Product (Title) F1-score: 0.6470\n",
      "Product (Title) model stopped early at epoch 8. Best F1-score: 0.6940\n"
     ]
    }
   ],
   "source": [
    "for epoch in range(num_epochs):\n",
    "    print(f\"\\nEpoch {epoch+1}/{num_epochs} - Training Product (Title) Model\")\n",
    "\n",
    "    model_product_title.train()\n",
    "    total_loss = 0\n",
    "\n",
    "    for batch in train_dataloader_title:\n",
    "        batch = {k: v.to(device) for k, v in batch.items()}\n",
    "\n",
    "        if \"product_label\" not in batch:\n",
    "            print(\"Skipping batch - No product labels found!\")\n",
    "            continue\n",
    "\n",
    "        batch[\"labels\"] = batch.pop(\"product_label\").to(torch.long)\n",
    "\n",
    "        inputs = {k: batch[k] for k in [\"input_ids\", \"attention_mask\", \"labels\"] if k in batch}\n",
    "        outputs = model_product_title(**inputs)\n",
    "\n",
    "        loss = outputs.loss\n",
    "        total_loss += loss.item()\n",
    "        loss.backward()\n",
    "\n",
    "        optimizer_product_title.step()\n",
    "        lr_scheduler_product_title.step()\n",
    "        optimizer_product_title.zero_grad()\n",
    "\n",
    "    avg_loss = total_loss / len(train_dataloader_title)\n",
    "    history[\"product_title_loss\"].append(avg_loss)\n",
    "\n",
    "    # Validation Step\n",
    "    model_product_title.eval()\n",
    "    val_preds, true_labels = [], []\n",
    "\n",
    "    with torch.no_grad():\n",
    "        for batch in val_dataloader_title:\n",
    "            batch = {k: v.to(device) for k, v in batch.items()}\n",
    "            if \"product_label\" not in batch:\n",
    "                continue\n",
    "            true_labels.extend(batch[\"product_label\"].cpu().numpy())\n",
    "\n",
    "            inputs = {k: batch[k] for k in [\"input_ids\", \"attention_mask\"]}\n",
    "            outputs = model_product_title(**inputs)\n",
    "\n",
    "            predictions = torch.argmax(outputs.logits, dim=-1)\n",
    "            val_preds.extend(predictions.cpu().numpy())\n",
    "\n",
    "    if len(true_labels) > 0:\n",
    "        f1 = f1_score(true_labels, val_preds, average=\"macro\", zero_division=1)\n",
    "        history[\"product_title_f1\"].append(f1)\n",
    "        print(f\"Validation Product (Title) F1-score: {f1:.4f}\")\n",
    "\n",
    "        if f1 > best_f1[\"product_title\"]:\n",
    "            best_f1[\"product_title\"] = f1\n",
    "            no_improve_epochs[\"product_title\"] = 0\n",
    "            best_model[\"product_title\"] = copy.deepcopy(model_product_title.state_dict())\n",
    "        else:\n",
    "            no_improve_epochs[\"product_title\"] += 1\n",
    "            if no_improve_epochs[\"product_title\"] >= patience:\n",
    "                print(f\"Product (Title) model stopped early at epoch {epoch+1}. Best F1-score: {best_f1['product_title']:.4f}\")\n",
    "                break\n"
   ]
  },
  {
   "cell_type": "markdown",
   "id": "6be6c828-be31-4a4b-9e5d-5ec6fed4187d",
   "metadata": {},
   "source": [
    "* The Product (Title) Model demonstrated a steady increase in F1-score, reaching its peak of $0.6940$ at epoch $6$.\n",
    "\n",
    "* However, in epochs $7$ and $8$, the performance declined ($0.6797$ → $0.6470$), leading to early stopping at epoch $8$."
   ]
  },
  {
   "cell_type": "markdown",
   "id": "61949b54-ac0c-43a9-878f-43f025d30bfc",
   "metadata": {},
   "source": [
    "* Let's now visualize all this. NOTE: the following graphs do not start at 0 in the y axis."
   ]
  },
  {
   "cell_type": "code",
   "execution_count": 77,
   "id": "7e248cf9-b47d-4d97-a8d0-06d303944b32",
   "metadata": {},
   "outputs": [
    {
     "data": {
      "image/png": "[encoded data removed]",
      "text/plain": [
       "<Figure size 1200x1000 with 4 Axes>"
      ]
     },
     "metadata": {},
     "output_type": "display_data"
    }
   ],
   "source": [
    "fig, axes = plt.subplots(2, 2, figsize=(12, 10))\n",
    "\n",
    "# Hazard Model\n",
    "axes[0, 0].plot(history[\"hazard_loss\"], label=\"Hazard Loss\", color=\"red\")\n",
    "axes[0, 0].set_title(\"Hazard Model - Loss\")\n",
    "axes[0, 1].plot(history[\"hazard_f1\"], label=\"Hazard F1-score\", color=\"blue\")\n",
    "axes[0, 1].set_title(\"Hazard Model - F1-score\")\n",
    "\n",
    "# Product (Title)\n",
    "axes[1, 0].plot(history[\"product_title_loss\"], label=\"Product Title Loss\", color=\"red\")\n",
    "axes[1, 0].set_title(\"Product Model (Title) - Loss\")\n",
    "axes[1, 1].plot(history[\"product_title_f1\"], label=\"Product Title F1-score\", color=\"blue\")\n",
    "axes[1, 1].set_title(\"Product Model (Title) - F1-score\")\n",
    "\n",
    "for ax in axes.flatten():\n",
    "    ax.legend()\n",
    "    ax.set_xlabel(\"Epochs\")\n",
    "plt.tight_layout()\n",
    "plt.show()"
   ]
  },
  {
   "cell_type": "markdown",
   "id": "902fda9e-efb1-4494-b1eb-e256cdfee503",
   "metadata": {},
   "source": [
    "*  We see that in both models the training loss was lower than $0.2$ in the last performing epoch meaning that probably the model has learned most general patterns and if loss goes lower might overfit."
   ]
  },
  {
   "cell_type": "markdown",
   "id": "0db09447-fe06-4d84-a840-ec6672e58eef",
   "metadata": {},
   "source": [
    "* So to evaluate the models on our testing data we will load the best ones (had best F1 Macro on validation on their epoch)."
   ]
  },
  {
   "cell_type": "code",
   "execution_count": 193,
   "id": "32ee1d03-c4fe-4283-bac5-ebecf4c519a2",
   "metadata": {},
   "outputs": [
    {
     "name": "stdout",
     "output_type": "stream",
     "text": [
      "Best hazard model loaded.\n",
      "Best product model loaded.\n"
     ]
    }
   ],
   "source": [
    "if best_model[\"hazard\"] is not None:\n",
    "    model_hazard.load_state_dict(best_model[\"hazard\"])\n",
    "    print(\"Best hazard model loaded.\")\n",
    "if best_model[\"product_title\"] is not None:\n",
    "    model_product_title.load_state_dict(best_model[\"product_title\"])\n",
    "    print(\"Best product model loaded.\")"
   ]
  },
  {
   "cell_type": "markdown",
   "id": "ab65285f-8e08-435f-95d6-16be3cb5fe05",
   "metadata": {},
   "source": [
    "* And we make our predictions on the testing data down below.\n",
    "\n",
    "* In the end we turn the labels from numbers back to strings."
   ]
  },
  {
   "cell_type": "code",
   "execution_count": 194,
   "id": "8ebacc96-2efd-4e81-94f9-3041d86c60e2",
   "metadata": {},
   "outputs": [],
   "source": [
    "model_hazard.eval()\n",
    "model_product_title.eval()\n",
    "\n",
    "test_hazard_logits, test_product_logits_title = [], []\n",
    "true_hazards, true_products = [], []\n",
    "\n",
    "with torch.no_grad():\n",
    "    # The Hazard Model\n",
    "    for batch in test_dataloader_text:\n",
    "        batch = {k: v.to(device) for k, v in batch.items()}\n",
    "        true_hazards.extend(batch[\"hazard_label\"].cpu().numpy())\n",
    "\n",
    "        # Prepare input for RoBERTa\n",
    "        inputs = {k: batch[k] for k in [\"input_ids\", \"attention_mask\"]}\n",
    "        outputs = model_hazard(**inputs)\n",
    "\n",
    "        # Collect hazard logits\n",
    "        test_hazard_logits.extend(outputs.logits.cpu().numpy())\n",
    "\n",
    "    # The Product Model (Title)\n",
    "    for batch in test_dataloader_title:\n",
    "        batch = {k: v.to(device) for k, v in batch.items()}\n",
    "        true_products.extend(batch[\"product_label\"].cpu().numpy())\n",
    "\n",
    "        # Prepare inputs for RoBERTa\n",
    "        inputs = {k: batch[k] for k in [\"input_ids\", \"attention_mask\"]}\n",
    "        outputs = model_product_title(**inputs)\n",
    "\n",
    "        # Collect product logits\n",
    "        test_product_logits_title.extend(outputs.logits.cpu().numpy())\n",
    "\n",
    "# Go back to labels\n",
    "true_hazards = label_enc_hazard.inverse_transform(true_hazards)\n",
    "test_hazard_preds = label_enc_hazard.inverse_transform(np.argmax(test_hazard_logits, axis=1))\n",
    "\n",
    "true_products = label_enc_product.inverse_transform(true_products)\n",
    "test_product_preds = label_enc_product.inverse_transform(np.argmax(test_product_logits_title, axis=1))"
   ]
  },
  {
   "cell_type": "markdown",
   "id": "c2ad850c-a371-4e5a-8d49-113e1a734178",
   "metadata": {},
   "source": [
    "* So let's see what we got."
   ]
  },
  {
   "cell_type": "code",
   "execution_count": 73,
   "id": "24967cb3-d1c4-4c8e-ab0c-9c1163e10a08",
   "metadata": {},
   "outputs": [
    {
     "name": "stdout",
     "output_type": "stream",
     "text": [
      "\n",
      "Final Test Performance - Hazard Classification:\n",
      "                                precision    recall  f1-score   support\n",
      "\n",
      "                     allergens       0.85      0.98      0.91       365\n",
      "                    biological       0.99      0.89      0.94       343\n",
      "                      chemical       0.89      0.98      0.94        52\n",
      "food additives and flavourings       0.50      1.00      0.67         4\n",
      "                foreign bodies       0.97      0.92      0.94       111\n",
      "                         fraud       0.95      0.75      0.84        75\n",
      "                     migration       1.00      0.00      0.00         1\n",
      "          organoleptic aspects       0.90      0.90      0.90        10\n",
      "                  other hazard       0.85      0.65      0.74        26\n",
      "              packaging defect       0.88      0.70      0.78        10\n",
      "\n",
      "                      accuracy                           0.91       997\n",
      "                     macro avg       0.88      0.78      0.76       997\n",
      "                  weighted avg       0.92      0.91      0.91       997\n",
      "\n"
     ]
    }
   ],
   "source": [
    "print(\"\\nFinal Test Performance - Hazard Classification:\")\n",
    "print(classification_report(true_hazards, test_hazard_preds, zero_division=1))"
   ]
  },
  {
   "cell_type": "markdown",
   "id": "8646744c-d600-476f-b6de-29e08989c569",
   "metadata": {},
   "source": [
    "* Not bad at all.\n",
    "\n",
    "* Most of our categories were at a large percent calculated correctly.\n",
    "\n",
    "* Allergens, Biological, Chemical, and Foreign Bodies all show strong, balanced performance, meaning the model reliably identifies these hazards.\n",
    "\n",
    "* \"Other Hazard\" have low recall, meaning the model missed several actual instances.\n",
    "\n",
    "* \"Migration\" is the biggest problem: the model never actually predicted this category (we had minimal training data for this one but even with augmentation we couldn't predict the $1$ case of migration in our test data)\n",
    "\n",
    "* However total F1 Macro Score is $0.76$ which is really good and outperforms TFIDF Logistic Regression too by more than $0.10$."
   ]
  },
  {
   "cell_type": "code",
   "execution_count": 74,
   "id": "7ccb99b0-f53c-4848-83e7-bf181fa241a3",
   "metadata": {},
   "outputs": [
    {
     "name": "stdout",
     "output_type": "stream",
     "text": [
      "\n",
      "Final Test Performance - Product Classification (Best of Text & Title):\n",
      "                                                   precision    recall  f1-score   support\n",
      "\n",
      "                              alcoholic beverages       1.00      0.50      0.67        16\n",
      "                      cereals and bakery products       0.79      0.74      0.77       121\n",
      "     cocoa and cocoa preparations, coffee and tea       0.82      0.76      0.79        42\n",
      "                                    confectionery       0.51      0.70      0.59        33\n",
      "dietetic foods, food supplements, fortified foods       0.59      0.62      0.60        26\n",
      "                                    fats and oils       0.71      0.83      0.77         6\n",
      "                   food additives and flavourings       0.50      0.50      0.50         4\n",
      "                            fruits and vegetables       0.86      0.58      0.69       103\n",
      "                                 herbs and spices       0.62      0.50      0.56        20\n",
      "                            honey and royal jelly       1.00      0.50      0.67         2\n",
      "                                ices and desserts       0.91      0.82      0.86        49\n",
      "                     meat, egg and dairy products       0.81      0.87      0.84       282\n",
      "                          non-alcoholic beverages       0.52      0.63      0.57        19\n",
      "                     nuts, nut products and seeds       0.72      0.72      0.72        54\n",
      "                       other food product / mixed       0.57      0.31      0.40        13\n",
      "                                         pet feed       0.50      0.50      0.50         2\n",
      "                       prepared dishes and snacks       0.41      0.59      0.48        92\n",
      "                                          seafood       0.84      0.80      0.82        60\n",
      "             soups, broths, sauces and condiments       0.82      0.69      0.75        52\n",
      "                                sugars and syrups       1.00      1.00      1.00         1\n",
      "\n",
      "                                         accuracy                           0.73       997\n",
      "                                        macro avg       0.73      0.66      0.68       997\n",
      "                                     weighted avg       0.75      0.73      0.73       997\n",
      "\n"
     ]
    }
   ],
   "source": [
    "print(\"\\nFinal Test Performance - Product Classification (Best of Text & Title):\")\n",
    "print(classification_report(true_products, test_product_preds, zero_division=1))"
   ]
  },
  {
   "cell_type": "markdown",
   "id": "9568a190-3b9e-4124-b622-30b92f628384",
   "metadata": {},
   "source": [
    "* In product we see a moderate performance.\n",
    "\n",
    "* \"Sugars and Syrups\" (F1 = 1.00) performed perfectly, \"Meat, Egg, and Dairy\" (F1 = 0.84) and \"Seafood\" (F1 = 0.82) had both high recall and precision. \"Ices and Desserts\"  was also well-predicted.\n",
    "\n",
    "* However, \"Alcoholic Beverages\" had high precision but low recall, meaning the model predicted this category rarely.  \"Other Food Product / Mixed\" shows poor generalization, likely due to overlapping features with other categories.\n",
    "\n",
    "* In general however it achieves a good F1 Macro Score $0.68$"
   ]
  },
  {
   "cell_type": "markdown",
   "id": "a107f388-2f90-42c6-8d91-6cdf40718550",
   "metadata": {},
   "source": [
    "* And final score is:"
   ]
  },
  {
   "cell_type": "code",
   "execution_count": 75,
   "id": "5d3fa79f-2268-465a-9e35-dff420842872",
   "metadata": {},
   "outputs": [
    {
     "name": "stdout",
     "output_type": "stream",
     "text": [
      "F1 Hazard Category:  0.7648688862882594\n",
      "F1 Product Category:  0.6862328975928242\n",
      "\n",
      "Task 1 F1-Score: 0.7256\n"
     ]
    }
   ],
   "source": [
    "print(\"\\nTask 1 F1-Score:\", round(compute_final_score(true_hazards, true_products, test_hazard_preds, final_product_preds), 4))"
   ]
  },
  {
   "cell_type": "markdown",
   "id": "73985cfb-d99d-4372-bd83-6cdbbe2d421a",
   "metadata": {},
   "source": [
    "* Task 1 F1-Score : $0.7256$.\n",
    "\n",
    "* A good score for the difficulties of the dataset."
   ]
  },
  {
   "cell_type": "markdown",
   "id": "ace37785-8e2c-4e88-bc81-425a4723e287",
   "metadata": {},
   "source": [
    "* We found our score but the report would be incomplete without an explanation over the model we are using."
   ]
  },
  {
   "cell_type": "code",
   "execution_count": 204,
   "id": "7eceedbd-1fd5-4bb5-bbfe-c7a2ba5808d3",
   "metadata": {},
   "outputs": [
    {
     "data": {
      "text/plain": [
       "RobertaForSequenceClassification(\n",
       "  (roberta): RobertaModel(\n",
       "    (embeddings): RobertaEmbeddings(\n",
       "      (word_embeddings): Embedding(50265, 768, padding_idx=1)\n",
       "      (position_embeddings): Embedding(514, 768, padding_idx=1)\n",
       "      (token_type_embeddings): Embedding(1, 768)\n",
       "      (LayerNorm): LayerNorm((768,), eps=1e-05, elementwise_affine=True)\n",
       "      (dropout): Dropout(p=0.1, inplace=False)\n",
       "    )\n",
       "    (encoder): RobertaEncoder(\n",
       "      (layer): ModuleList(\n",
       "        (0-11): 12 x RobertaLayer(\n",
       "          (attention): RobertaAttention(\n",
       "            (self): RobertaSdpaSelfAttention(\n",
       "              (query): Linear(in_features=768, out_features=768, bias=True)\n",
       "              (key): Linear(in_features=768, out_features=768, bias=True)\n",
       "              (value): Linear(in_features=768, out_features=768, bias=True)\n",
       "              (dropout): Dropout(p=0.1, inplace=False)\n",
       "            )\n",
       "            (output): RobertaSelfOutput(\n",
       "              (dense): Linear(in_features=768, out_features=768, bias=True)\n",
       "              (LayerNorm): LayerNorm((768,), eps=1e-05, elementwise_affine=True)\n",
       "              (dropout): Dropout(p=0.1, inplace=False)\n",
       "            )\n",
       "          )\n",
       "          (intermediate): RobertaIntermediate(\n",
       "            (dense): Linear(in_features=768, out_features=3072, bias=True)\n",
       "            (intermediate_act_fn): GELUActivation()\n",
       "          )\n",
       "          (output): RobertaOutput(\n",
       "            (dense): Linear(in_features=3072, out_features=768, bias=True)\n",
       "            (LayerNorm): LayerNorm((768,), eps=1e-05, elementwise_affine=True)\n",
       "            (dropout): Dropout(p=0.1, inplace=False)\n",
       "          )\n",
       "        )\n",
       "      )\n",
       "    )\n",
       "  )\n",
       "  (classifier): RobertaClassificationHead(\n",
       "    (dense): Linear(in_features=768, out_features=768, bias=True)\n",
       "    (dropout): Dropout(p=0.1, inplace=False)\n",
       "    (out_proj): Linear(in_features=768, out_features=10, bias=True)\n",
       "  )\n",
       ")"
      ]
     },
     "execution_count": 204,
     "metadata": {},
     "output_type": "execute_result"
    }
   ],
   "source": [
    "model_hazard"
   ]
  },
  {
   "cell_type": "markdown",
   "id": "8936aeb0-9b20-4269-a3a8-1403b6c268d4",
   "metadata": {},
   "source": [
    "* Its architecture goes as follows:\n",
    "    1) **Embedding** Layer:\n",
    "    Converts words into $768$-dimensional vectors using a **vocabulary of $50.265$ words**. Includes **position embeddings** (to track word order).\n",
    "    2) **Transformer** Encoder (**$12$ Layers**):\n",
    "    Uses self-attention to understand word **relationships in context** (multihead attention).\n",
    "    3) **Classification** (ours):\n",
    "    Converts the processed text into a prediction using: A fully connected (**dense**) layer (768 → 768). A final layer that outputs $10$ class predictions (768 → 10).\n",
    "\n",
    "* Very important is the Dropout ($0.1$) that helps prevent overfitting, and its already existence in the model is why we did not add more drop out.\n",
    "\n",
    "* As for parameters they are presented below:\n",
    "| **Architecture Component**                     | **Calculation**                   | **Parameter Count** |\n",
    "|-----------------------------------|----------------------------------|--------------------|\n",
    "| **Embedding Layer**               |                                  | **$39.0M$**         |\n",
    "| ├── Word Embeddings               | $50,265 × 768$                  | **$38.6M$**         |\n",
    "| ├── Position Embeddings           | $514 × 768$                      | **$0.4M$**          |\n",
    "| ├── Token Type Embeddings         | $1 × 768$                        | **$768$**           |\n",
    "| ├── LayerNorm Parameters          | $2 × 768$                        | **$1,536$**         |\n",
    "| **Transformer Encoder (12 Layers)** |                                  | **$85.0M$**         |\n",
    "| ├── Self-Attention Weights (QKV)  | $3 × (768 × 768 + 768)$          | **$1.8M$** per layer |\n",
    "| ├── Attention Output Layer        | $768 × 768 + 768$                | **$0.6M$** per layer |\n",
    "| ├── Feedforward Layer 1           | $768 × 3072 + 3072$              | **$2.4M$** per layer |\n",
    "| ├── Feedforward Layer 2           | $3072 × 768 + 768$               | **$2.4M$** per layer |\n",
    "| ├── LayerNorm Parameters          | $2 × 768$                        | **$1,536$** per layer |\n",
    "| **Total per Transformer Layer**   | Sum of above                     | **$7.1M$** per layer |\n",
    "| **Total for 12 Layers**           | $7.1M × 12$                      | **$85.0M$**         |\n",
    "| **Classification Head**           |                                  | **$0.6M$**          |\n",
    "| ├── Fully Connected Layer         | $768 × 768 + 768$                | **$0.6M$**          |\n",
    "| ├── Output Layer (10 classes)     | $768 × 10 + 10$                  | **$7,690$**         |\n",
    "| **Total Parameters**              | Sum of all components            | **$124.6M$**        |\n",
    "\n",
    "* The Transformer Encoder ($85.0M$) makes up **$68$%** of the total parameters.\n",
    "* The Embedding Layer ($39.0M$) accounts for **$31$%** of the parameters.\n",
    "* The Classification Head is relatively small at **$0.6M$** parameters.\n",
    "\n",
    "* Very similarly we have the `product-category` model"
   ]
  },
  {
   "cell_type": "code",
   "execution_count": 205,
   "id": "6ab98852-abbf-45cf-bd79-4d3893ffb2e1",
   "metadata": {},
   "outputs": [
    {
     "data": {
      "text/plain": [
       "RobertaForSequenceClassification(\n",
       "  (roberta): RobertaModel(\n",
       "    (embeddings): RobertaEmbeddings(\n",
       "      (word_embeddings): Embedding(50265, 768, padding_idx=1)\n",
       "      (position_embeddings): Embedding(514, 768, padding_idx=1)\n",
       "      (token_type_embeddings): Embedding(1, 768)\n",
       "      (LayerNorm): LayerNorm((768,), eps=1e-05, elementwise_affine=True)\n",
       "      (dropout): Dropout(p=0.1, inplace=False)\n",
       "    )\n",
       "    (encoder): RobertaEncoder(\n",
       "      (layer): ModuleList(\n",
       "        (0-11): 12 x RobertaLayer(\n",
       "          (attention): RobertaAttention(\n",
       "            (self): RobertaSdpaSelfAttention(\n",
       "              (query): Linear(in_features=768, out_features=768, bias=True)\n",
       "              (key): Linear(in_features=768, out_features=768, bias=True)\n",
       "              (value): Linear(in_features=768, out_features=768, bias=True)\n",
       "              (dropout): Dropout(p=0.1, inplace=False)\n",
       "            )\n",
       "            (output): RobertaSelfOutput(\n",
       "              (dense): Linear(in_features=768, out_features=768, bias=True)\n",
       "              (LayerNorm): LayerNorm((768,), eps=1e-05, elementwise_affine=True)\n",
       "              (dropout): Dropout(p=0.1, inplace=False)\n",
       "            )\n",
       "          )\n",
       "          (intermediate): RobertaIntermediate(\n",
       "            (dense): Linear(in_features=768, out_features=3072, bias=True)\n",
       "            (intermediate_act_fn): GELUActivation()\n",
       "          )\n",
       "          (output): RobertaOutput(\n",
       "            (dense): Linear(in_features=3072, out_features=768, bias=True)\n",
       "            (LayerNorm): LayerNorm((768,), eps=1e-05, elementwise_affine=True)\n",
       "            (dropout): Dropout(p=0.1, inplace=False)\n",
       "          )\n",
       "        )\n",
       "      )\n",
       "    )\n",
       "  )\n",
       "  (classifier): RobertaClassificationHead(\n",
       "    (dense): Linear(in_features=768, out_features=768, bias=True)\n",
       "    (dropout): Dropout(p=0.1, inplace=False)\n",
       "    (out_proj): Linear(in_features=768, out_features=22, bias=True)\n",
       "  )\n",
       ")"
      ]
     },
     "execution_count": 205,
     "metadata": {},
     "output_type": "execute_result"
    }
   ],
   "source": [
    "model_product_text"
   ]
  },
  {
   "cell_type": "code",
   "execution_count": 77,
   "id": "04574537-6c85-42da-8570-8ef314349198",
   "metadata": {},
   "outputs": [
    {
     "data": {
      "text/html": [
       "<div>\n",
       "<style scoped>\n",
       "    .dataframe tbody tr th:only-of-type {\n",
       "        vertical-align: middle;\n",
       "    }\n",
       "\n",
       "    .dataframe tbody tr th {\n",
       "        vertical-align: top;\n",
       "    }\n",
       "\n",
       "    .dataframe thead th {\n",
       "        text-align: right;\n",
       "    }\n",
       "</style>\n",
       "<table border=\"1\" class=\"dataframe\">\n",
       "  <thead>\n",
       "    <tr style=\"text-align: right;\">\n",
       "      <th></th>\n",
       "      <th>true_hazard</th>\n",
       "      <th>predicted_hazard</th>\n",
       "      <th>true_product</th>\n",
       "      <th>predicted_product</th>\n",
       "    </tr>\n",
       "  </thead>\n",
       "  <tbody>\n",
       "    <tr>\n",
       "      <th>0</th>\n",
       "      <td>biological</td>\n",
       "      <td>biological</td>\n",
       "      <td>meat, egg and dairy products</td>\n",
       "      <td>meat, egg and dairy products</td>\n",
       "    </tr>\n",
       "  </tbody>\n",
       "</table>\n",
       "</div>"
      ],
      "text/plain": [
       "  true_hazard predicted_hazard                  true_product  \\\n",
       "0  biological       biological  meat, egg and dairy products   \n",
       "\n",
       "              predicted_product  \n",
       "0  meat, egg and dairy products  "
      ]
     },
     "execution_count": 77,
     "metadata": {},
     "output_type": "execute_result"
    }
   ],
   "source": [
    "df = pd.DataFrame({\n",
    "    \"true_hazard\": true_hazards,\n",
    "    \"predicted_hazard\": test_hazard_preds,\n",
    "    \"true_product\": true_products,\n",
    "    \"predicted_product\": test_product_preds\n",
    "})\n",
    "df.head(1)"
   ]
  },
  {
   "cell_type": "markdown",
   "id": "8fa37a51-b89b-44ab-8e14-c91e0ac672a7",
   "metadata": {},
   "source": [
    "* To complete our analysis let's see what are the mostly confused labels.\n",
    "\n",
    "* We will focus on the most prominent confusion but confusion matrix could be used alternativelly."
   ]
  },
  {
   "cell_type": "code",
   "execution_count": 78,
   "id": "07ab09dc-cb17-4597-a5aa-95bd1bd1dbbb",
   "metadata": {},
   "outputs": [
    {
     "data": {
      "text/html": [
       "<div>\n",
       "<style scoped>\n",
       "    .dataframe tbody tr th:only-of-type {\n",
       "        vertical-align: middle;\n",
       "    }\n",
       "\n",
       "    .dataframe tbody tr th {\n",
       "        vertical-align: top;\n",
       "    }\n",
       "\n",
       "    .dataframe thead th {\n",
       "        text-align: right;\n",
       "    }\n",
       "</style>\n",
       "<table border=\"1\" class=\"dataframe\">\n",
       "  <thead>\n",
       "    <tr style=\"text-align: right;\">\n",
       "      <th></th>\n",
       "      <th>true_hazard</th>\n",
       "      <th>predicted_hazard</th>\n",
       "      <th>count</th>\n",
       "    </tr>\n",
       "  </thead>\n",
       "  <tbody>\n",
       "    <tr>\n",
       "      <th>3</th>\n",
       "      <td>biological</td>\n",
       "      <td>allergens</td>\n",
       "      <td>33</td>\n",
       "    </tr>\n",
       "  </tbody>\n",
       "</table>\n",
       "</div>"
      ],
      "text/plain": [
       "  true_hazard predicted_hazard  count\n",
       "3  biological        allergens     33"
      ]
     },
     "execution_count": 78,
     "metadata": {},
     "output_type": "execute_result"
    }
   ],
   "source": [
    "hazard_errors = df[df[\"true_hazard\"] != df[\"predicted_hazard\"]]\n",
    "hazard_error_counts = (hazard_errors\n",
    "                       .groupby([\"true_hazard\", \"predicted_hazard\"])\n",
    "                       .size()\n",
    "                       .reset_index(name=\"count\")\n",
    "                       .sort_values(by=\"count\", ascending=False))\n",
    "hazard_error_counts.head(1)"
   ]
  },
  {
   "cell_type": "code",
   "execution_count": 80,
   "id": "26a2c9b2-ecba-4e73-a5b0-5bdff60a1451",
   "metadata": {},
   "outputs": [
    {
     "data": {
      "text/html": [
       "<div>\n",
       "<style scoped>\n",
       "    .dataframe tbody tr th:only-of-type {\n",
       "        vertical-align: middle;\n",
       "    }\n",
       "\n",
       "    .dataframe tbody tr th {\n",
       "        vertical-align: top;\n",
       "    }\n",
       "\n",
       "    .dataframe thead th {\n",
       "        text-align: right;\n",
       "    }\n",
       "</style>\n",
       "<table border=\"1\" class=\"dataframe\">\n",
       "  <thead>\n",
       "    <tr style=\"text-align: right;\">\n",
       "      <th></th>\n",
       "      <th>true_product</th>\n",
       "      <th>predicted_product</th>\n",
       "      <th>count</th>\n",
       "    </tr>\n",
       "  </thead>\n",
       "  <tbody>\n",
       "    <tr>\n",
       "      <th>62</th>\n",
       "      <td>meat, egg and dairy products</td>\n",
       "      <td>prepared dishes and snacks</td>\n",
       "      <td>21</td>\n",
       "    </tr>\n",
       "  </tbody>\n",
       "</table>\n",
       "</div>"
      ],
      "text/plain": [
       "                    true_product           predicted_product  count\n",
       "62  meat, egg and dairy products  prepared dishes and snacks     21"
      ]
     },
     "execution_count": 80,
     "metadata": {},
     "output_type": "execute_result"
    }
   ],
   "source": [
    "product_errors = df[df[\"true_product\"] != df[\"predicted_product\"]]\n",
    "product_error_counts = (product_errors\n",
    "                        .groupby([\"true_product\", \"predicted_product\"])\n",
    "                        .size()\n",
    "                        .reset_index(name=\"count\")\n",
    "                        .sort_values(by=\"count\", ascending=False))\n",
    "product_error_counts.head(1)"
   ]
  },
  {
   "cell_type": "markdown",
   "id": "a0efd767-ef21-4249-805e-296110f45b09",
   "metadata": {},
   "source": [
    "* So most confusions have to do with mistaking \"biological\" hazards with \"allergens\" and \"meat, egg and dairy\" with \"prepared dishes and snacks\".\n",
    "\n",
    "* Espesially for the second one, we could also see a human make that mistake since a prepared meal might have meat.\n",
    "\n",
    "* Also from the reports previously presented it is clear that labels like \"other hazards\", \"other products\" are commmonly mistaken but again \"other\" is a broad category and not spesific so we could see a human making that mistake too."
   ]
  },
  {
   "cell_type": "markdown",
   "id": "c17ce14d-6a31-4bc7-bc22-b88bfdf5b22d",
   "metadata": {},
   "source": [
    "# SubTask2: Predicting Hazard & Product"
   ]
  },
  {
   "cell_type": "markdown",
   "id": "866841e6-0e9f-4ceb-ada8-a0ac3687f0fc",
   "metadata": {},
   "source": [
    "* In order to move to SubTask 2 we will replace training data with the second and larger augmentation we performed since we have many extremelly rare cases here."
   ]
  },
  {
   "cell_type": "code",
   "execution_count": null,
   "id": "2d558b35-3582-4edc-8283-d340527a098f",
   "metadata": {},
   "outputs": [],
   "source": [
    "train_data = train_data_2"
   ]
  },
  {
   "cell_type": "markdown",
   "id": "21e2a9e2-9cd6-4f47-b5c7-4902e82173cc",
   "metadata": {},
   "source": [
    "* Now since RoBERTa worked so well for the 1st task let's attempt to do the exact same thing here and see what we get.\n",
    "\n",
    "* So let's start by making the labels numeric and the texts numeric too (RoBERTa tokenizer) just like before. And let's use clean text for both predictions this time.\n",
    "\n",
    "* **IMPORTANT**: **A key issue in this subtask is that the training set does not contain all possible labels of the validation and testing datasets**. To not get errors in labeling transforamtion, we concatenate labels from train, validation, and test sets before fitting the `LabelEncoder`. This ensures that all possible labels are accounted for, avoiding errors."
   ]
  },
  {
   "cell_type": "code",
   "execution_count": 51,
   "id": "390f2b8b-92a7-4c58-b480-d3e641c29bda",
   "metadata": {},
   "outputs": [],
   "source": [
    "label_enc_hazard = LabelEncoder()\n",
    "label_enc_product = LabelEncoder()\n",
    "\n",
    "all_hazard_categories = pd.concat([train_data[\"hazard\"], val_data[\"hazard\"], test_data[\"hazard\"]]).unique()\n",
    "all_product_categories = pd.concat([train_data[\"product\"], val_data[\"product\"], test_data[\"product\"]]).unique()\n",
    "label_enc_hazard.fit(all_hazard_categories)\n",
    "label_enc_product.fit(all_product_categories)\n",
    "\n",
    "# Transform labels to numbers\n",
    "train_data[\"hazard_label\"] = label_enc_hazard.transform(train_data[\"hazard\"])\n",
    "val_data[\"hazard_label\"] = label_enc_hazard.transform(val_data[\"hazard\"])\n",
    "test_data[\"hazard_label\"] = label_enc_hazard.transform(test_data[\"hazard\"])\n",
    "\n",
    "train_data[\"product_label\"] = label_enc_product.transform(train_data[\"product\"])\n",
    "val_data[\"product_label\"] = label_enc_product.transform(val_data[\"product\"])\n",
    "test_data[\"product_label\"] = label_enc_product.transform(test_data[\"product\"])\n",
    "\n",
    "# Load RoBERTa Tokenizer\n",
    "tokenizer = RobertaTokenizer.from_pretrained(\"roberta-base\")\n",
    "\n",
    "def tokenize_text(examples):\n",
    "    return tokenizer(examples[\"clean-text\"], padding=\"max_length\", truncation=True)"
   ]
  },
  {
   "cell_type": "markdown",
   "id": "1074f6bb-5343-4ced-a7d2-cea98d533dff",
   "metadata": {},
   "source": [
    "* And just like before make the data in transformer and PyTorch accepted formating."
   ]
  },
  {
   "cell_type": "code",
   "execution_count": 53,
   "id": "0cdde0aa-ea5d-46ef-ad9a-441e7a8b8d8c",
   "metadata": {},
   "outputs": [
    {
     "data": {
      "application/vnd.jupyter.widget-view+json": {
       "model_id": "c2c4db2959224f84b7cf30d7ddfb0b4e",
       "version_major": 2,
       "version_minor": 0
      },
      "text/plain": [
       "Map:   0%|          | 0/14127 [00:00<?, ? examples/s]"
      ]
     },
     "metadata": {},
     "output_type": "display_data"
    },
    {
     "data": {
      "application/vnd.jupyter.widget-view+json": {
       "model_id": "e26e59dceb8d46159755245eb98ab3db",
       "version_major": 2,
       "version_minor": 0
      },
      "text/plain": [
       "Map:   0%|          | 0/565 [00:00<?, ? examples/s]"
      ]
     },
     "metadata": {},
     "output_type": "display_data"
    },
    {
     "data": {
      "application/vnd.jupyter.widget-view+json": {
       "model_id": "d797cabfc8f4435b9a0be141396a5b08",
       "version_major": 2,
       "version_minor": 0
      },
      "text/plain": [
       "Map:   0%|          | 0/997 [00:00<?, ? examples/s]"
      ]
     },
     "metadata": {},
     "output_type": "display_data"
    },
    {
     "data": {
      "application/vnd.jupyter.widget-view+json": {
       "model_id": "3af1084183dc432da4a5c7fcb65b56dd",
       "version_major": 2,
       "version_minor": 0
      },
      "text/plain": [
       "Map:   0%|          | 0/14127 [00:00<?, ? examples/s]"
      ]
     },
     "metadata": {},
     "output_type": "display_data"
    },
    {
     "data": {
      "application/vnd.jupyter.widget-view+json": {
       "model_id": "0b86221b9c7648d18c8e00c9ea93dd71",
       "version_major": 2,
       "version_minor": 0
      },
      "text/plain": [
       "Map:   0%|          | 0/565 [00:00<?, ? examples/s]"
      ]
     },
     "metadata": {},
     "output_type": "display_data"
    },
    {
     "data": {
      "application/vnd.jupyter.widget-view+json": {
       "model_id": "fff5ff9633b144afa1c85c650413c003",
       "version_major": 2,
       "version_minor": 0
      },
      "text/plain": [
       "Map:   0%|          | 0/997 [00:00<?, ? examples/s]"
      ]
     },
     "metadata": {},
     "output_type": "display_data"
    }
   ],
   "source": [
    "from torch.utils.data import DataLoader\n",
    "from transformers import DataCollatorWithPadding\n",
    "\n",
    "# DataFrames to Hugging Face Datasets\n",
    "train_dataset_text = Dataset.from_pandas(train_data).map(tokenize_text, batched=True)\n",
    "val_dataset_text = Dataset.from_pandas(val_data).map(tokenize_text, batched=True)\n",
    "test_dataset_text = Dataset.from_pandas(test_data).map(tokenize_text, batched=True)\n",
    "train_dataset_pr = Dataset.from_pandas(train_data).map(tokenize_text, batched=True) # pr as in product\n",
    "val_dataset_pr = Dataset.from_pandas(val_data).map(tokenize_text, batched=True)\n",
    "test_dataset_pr = Dataset.from_pandas(test_data).map(tokenize_text, batched=True)\n",
    "data_collator = DataCollatorWithPadding(tokenizer=tokenizer, padding=True) # Set PyTorch format\n",
    "\n",
    "train_dataset_text.set_format(\"torch\", columns=[\"input_ids\", \"attention_mask\", \"hazard_label\", \"product_label\"])\n",
    "val_dataset_text.set_format(\"torch\", columns=[\"input_ids\", \"attention_mask\", \"hazard_label\", \"product_label\"])\n",
    "test_dataset_text.set_format(\"torch\", columns=[\"input_ids\", \"attention_mask\", \"hazard_label\", \"product_label\"])\n",
    "train_dataset_pr.set_format(\"torch\", columns=[\"input_ids\", \"attention_mask\", \"hazard_label\", \"product_label\"])\n",
    "val_dataset_pr.set_format(\"torch\", columns=[\"input_ids\", \"attention_mask\", \"hazard_label\", \"product_label\"])\n",
    "test_dataset_pr.set_format(\"torch\", columns=[\"input_ids\", \"attention_mask\", \"hazard_label\", \"product_label\"])\n",
    "\n",
    "# Create Dataloaders\n",
    "batch_size = 16\n",
    "train_dataloader_text = DataLoader(train_dataset_text, shuffle=True, batch_size=batch_size, collate_fn=data_collator)\n",
    "val_dataloader_text = DataLoader(val_dataset_text, batch_size=batch_size, collate_fn=data_collator)\n",
    "test_dataloader_text = DataLoader(test_dataset_text, batch_size=batch_size, collate_fn=data_collator)\n",
    "train_dataloader_pr = DataLoader(train_dataset_pr, shuffle=True, batch_size=batch_size, collate_fn=data_collator)\n",
    "val_dataloader_pr = DataLoader(val_dataset_pr, batch_size=batch_size, collate_fn=data_collator)\n",
    "test_dataloader_pr = DataLoader(test_dataset_pr, batch_size=batch_size, collate_fn=data_collator)"
   ]
  },
  {
   "cell_type": "markdown",
   "id": "146117f4-4506-4f58-854e-ce7f1ae1e5ad",
   "metadata": {},
   "source": [
    "* And we will use the same exact strategy as before (cuda enabling, AdamW, learning rate of 5e-5, 20 epochs and saving history)\n",
    "\n",
    "* But we will make patience to $4$ since we don't know how this model will respond and maybe training gets more compicated due to a lot of rare instances. "
   ]
  },
  {
   "cell_type": "code",
   "execution_count": 32,
   "id": "4546fa71-6909-4114-874e-637c59e3ee2e",
   "metadata": {},
   "outputs": [
    {
     "data": {
      "application/vnd.jupyter.widget-view+json": {
       "model_id": "2239a5ed6fa34699aa90a4224aee2f46",
       "version_major": 2,
       "version_minor": 0
      },
      "text/plain": [
       "model.safetensors:   0%|          | 0.00/499M [00:00<?, ?B/s]"
      ]
     },
     "metadata": {},
     "output_type": "display_data"
    },
    {
     "name": "stderr",
     "output_type": "stream",
     "text": [
      "Some weights of RobertaForSequenceClassification were not initialized from the model checkpoint at roberta-base and are newly initialized: ['classifier.dense.bias', 'classifier.dense.weight', 'classifier.out_proj.bias', 'classifier.out_proj.weight']\n",
      "You should probably TRAIN this model on a down-stream task to be able to use it for predictions and inference.\n",
      "Some weights of RobertaForSequenceClassification were not initialized from the model checkpoint at roberta-base and are newly initialized: ['classifier.dense.bias', 'classifier.dense.weight', 'classifier.out_proj.bias', 'classifier.out_proj.weight']\n",
      "You should probably TRAIN this model on a down-stream task to be able to use it for predictions and inference.\n",
      "/home/ec2-user/anaconda3/envs/pytorch_p310/lib/python3.10/site-packages/transformers/optimization.py:591: FutureWarning: This implementation of AdamW is deprecated and will be removed in a future version. Use the PyTorch implementation torch.optim.AdamW instead, or set `no_deprecation_warning=True` to disable this warning\n",
      "  warnings.warn(\n"
     ]
    }
   ],
   "source": [
    "device = torch.device(\"cuda\" if torch.cuda.is_available() else \"cpu\")\n",
    "\n",
    "# Load RoBERTa\n",
    "model_hazard = RobertaForSequenceClassification.from_pretrained(\"roberta-base\", num_labels=len(label_enc_hazard.classes_)).to(device)\n",
    "model_product = RobertaForSequenceClassification.from_pretrained(\"roberta-base\", num_labels=len(label_enc_product.classes_)).to(device)\n",
    "\n",
    "# Optimizers & Schedulers\n",
    "optimizer_hazard = AdamW(model_hazard.parameters(), lr=5e-5)\n",
    "optimizer_product= AdamW(model_product.parameters(), lr=5e-5)\n",
    "\n",
    "num_epochs = 20  # Max epochs\n",
    "patience = 4  # Stop if no improvement after 4 (instead of 2) epochs\n",
    "\n",
    "num_training_steps = num_epochs * len(train_dataloader_text)\n",
    "\n",
    "lr_scheduler_hazard = get_scheduler(\"linear\", optimizer=optimizer_hazard, num_warmup_steps=0, num_training_steps=num_training_steps)\n",
    "lr_scheduler_product_title = get_scheduler(\"linear\", optimizer=optimizer_product_title, num_warmup_steps=0, num_training_steps=num_training_steps)\n",
    "\n",
    "# History Variables\n",
    "best_f1 = {\"hazard\": 0, \"product\": 0}\n",
    "no_improve_epochs = {\"hazard\": 0, \"product\": 0}\n",
    "best_model = {\"hazard\": None, \"product\": None}\n",
    "history = {\"hazard_loss\": [], \"hazard_f1\": [], \"product_loss\": [], \"product_f1\": []}"
   ]
  },
  {
   "cell_type": "markdown",
   "id": "f2fbfb8b-25ec-4dc9-bf18-a7f2f64b3532",
   "metadata": {},
   "source": [
    "* So let's train hazard first."
   ]
  },
  {
   "cell_type": "code",
   "execution_count": 33,
   "id": "2e2a219f-ec05-4048-972d-0a5b2bdcf068",
   "metadata": {},
   "outputs": [
    {
     "name": "stdout",
     "output_type": "stream",
     "text": [
      "\n",
      "Epoch 1/20 - Training Hazard Model\n",
      "Validation Hazard F1-score: 0.1217\n",
      "\n",
      "Epoch 2/20 - Training Hazard Model\n",
      "Validation Hazard F1-score: 0.4087\n",
      "\n",
      "Epoch 3/20 - Training Hazard Model\n",
      "Validation Hazard F1-score: 0.5277\n",
      "\n",
      "Epoch 4/20 - Training Hazard Model\n",
      "Validation Hazard F1-score: 0.5454\n",
      "\n",
      "Epoch 5/20 - Training Hazard Model\n",
      "Validation Hazard F1-score: 0.4742\n",
      "\n",
      "Epoch 6/20 - Training Hazard Model\n",
      "Validation Hazard F1-score: 0.5579\n",
      "\n",
      "Epoch 7/20 - Training Hazard Model\n",
      "Validation Hazard F1-score: 0.5839\n",
      "\n",
      "Epoch 8/20 - Training Hazard Model\n",
      "Validation Hazard F1-score: 0.5506\n",
      "\n",
      "Epoch 9/20 - Training Hazard Model\n",
      "Validation Hazard F1-score: 0.5837\n",
      "\n",
      "Epoch 10/20 - Training Hazard Model\n",
      "Validation Hazard F1-score: 0.5992\n",
      "\n",
      "Epoch 11/20 - Training Hazard Model\n",
      "Validation Hazard F1-score: 0.5585\n",
      "\n",
      "Epoch 12/20 - Training Hazard Model\n",
      "Validation Hazard F1-score: 0.5853\n",
      "\n",
      "Epoch 13/20 - Training Hazard Model\n",
      "Validation Hazard F1-score: 0.5624\n",
      "\n",
      "Epoch 14/20 - Training Hazard Model\n",
      "Validation Hazard F1-score: 0.5925\n",
      "Hazard model stopped early at epoch 14. Best F1-score: 0.5992\n"
     ]
    }
   ],
   "source": [
    "for epoch in range(num_epochs):\n",
    "    print(f\"\\nEpoch {epoch+1}/{num_epochs} - Training Hazard Model\")\n",
    "\n",
    "    model_hazard.train()\n",
    "    total_loss = 0\n",
    "\n",
    "    for batch in train_dataloader_text:\n",
    "        batch = {k: v.to(device) for k, v in batch.items()}\n",
    "\n",
    "        if \"hazard_label\" not in batch:\n",
    "            print(\"Skipping batch - No hazard labels found!\")\n",
    "            continue\n",
    "\n",
    "        batch[\"labels\"] = batch.pop(\"hazard_label\").to(torch.long)\n",
    "        inputs = {k: batch[k] for k in [\"input_ids\", \"attention_mask\", \"labels\"] if k in batch}\n",
    "        outputs = model_hazard(**inputs)\n",
    "\n",
    "        loss = outputs.loss\n",
    "        total_loss += loss.item()\n",
    "        loss.backward()\n",
    "\n",
    "        optimizer_hazard.step()\n",
    "        lr_scheduler_hazard.step()\n",
    "        optimizer_hazard.zero_grad()\n",
    "\n",
    "    avg_loss = total_loss / len(train_dataloader_text)\n",
    "    history[\"hazard_loss\"].append(avg_loss)\n",
    "\n",
    "    # Validation Step\n",
    "    model_hazard.eval()\n",
    "    val_preds, true_labels = [], []\n",
    "\n",
    "    with torch.no_grad():\n",
    "        for batch in val_dataloader_text:\n",
    "            batch = {k: v.to(device) for k, v in batch.items()}\n",
    "            if \"hazard_label\" not in batch:\n",
    "                continue  # Skip if no labels\n",
    "            true_labels.extend(batch[\"hazard_label\"].cpu().numpy())\n",
    "\n",
    "            inputs = {k: batch[k] for k in [\"input_ids\", \"attention_mask\"]}\n",
    "            outputs = model_hazard(**inputs)\n",
    "\n",
    "            predictions = torch.argmax(outputs.logits, dim=-1)\n",
    "            val_preds.extend(predictions.cpu().numpy())\n",
    "\n",
    "    if len(true_labels) > 0:  # Prevent division by zero\n",
    "        f1 = f1_score(true_labels, val_preds, average=\"macro\", zero_division=1)\n",
    "        history[\"hazard_f1\"].append(f1)\n",
    "        print(f\"Validation Hazard F1-score: {f1:.4f}\")\n",
    "\n",
    "        # Early Stopping Check\n",
    "        if f1 > best_f1[\"hazard\"]:\n",
    "            best_f1[\"hazard\"] = f1\n",
    "            no_improve_epochs[\"hazard\"] = 0\n",
    "            best_model[\"hazard\"] = copy.deepcopy(model_hazard.state_dict())\n",
    "        else:\n",
    "            no_improve_epochs[\"hazard\"] += 1\n",
    "            if no_improve_epochs[\"hazard\"] >= patience:\n",
    "                print(f\"Hazard model stopped early at epoch {epoch+1}. Best F1-score: {best_f1['hazard']:.4f}\")\n",
    "                break"
   ]
  },
  {
   "cell_type": "markdown",
   "id": "58154a3d-5df6-4fc5-872f-8af5876ae33c",
   "metadata": {},
   "source": [
    "* The Hazard Model showed a steady improvement in F1-score, starting at $0.1217$ in the first epoch and gradually increasing to a peak of $0.5992$ at epoch $10$.\n",
    "\n",
    "* However, after reaching this peak, the model's performance fluctuated without significant improvement, leading to early stopping at epoch $14$."
   ]
  },
  {
   "cell_type": "code",
   "execution_count": 87,
   "id": "330321d3-c006-452f-b1a2-1323c47ea65e",
   "metadata": {},
   "outputs": [
    {
     "data": {
      "image/png": "[encoded data removed]",
      "text/plain": [
       "<Figure size 1200x500 with 2 Axes>"
      ]
     },
     "metadata": {},
     "output_type": "display_data"
    }
   ],
   "source": [
    "import matplotlib.pyplot as plt\n",
    "\n",
    "fig, axes = plt.subplots(1, 2, figsize=(12, 5))  \n",
    "\n",
    "# Hazard Model - Loss\n",
    "axes[0].plot(history[\"hazard_loss\"], label=\"Hazard Loss\", color=\"red\")\n",
    "axes[0].set_title(\"Hazard Model - Loss\")\n",
    "axes[0].set_xlabel(\"Epochs\")\n",
    "axes[0].set_ylabel(\"Loss\")\n",
    "axes[0].legend()\n",
    "\n",
    "# Hazard Model - F1-score\n",
    "axes[1].plot(history[\"hazard_f1\"], label=\"Hazard F1-score\", color=\"blue\")\n",
    "axes[1].set_title(\"Hazard Model - F1-score\")\n",
    "axes[1].set_xlabel(\"Epochs\")\n",
    "axes[1].set_ylabel(\"F1-score\")\n",
    "axes[1].legend()\n",
    "\n",
    "plt.tight_layout()\n",
    "plt.show()"
   ]
  },
  {
   "cell_type": "markdown",
   "id": "85046591-c899-439d-bd51-d8a8246f905e",
   "metadata": {},
   "source": [
    "* We see this in the plots too that it was correct to stop where we stoped since loss reached a possible platau.\n",
    "\n",
    "* Also we see the obvious fluctuations of our model when it reaches close to $0.6$ which might mean this is all it could learn."
   ]
  },
  {
   "cell_type": "markdown",
   "id": "78ec7a58-dc48-42e8-bcae-b23e5efb4442",
   "metadata": {},
   "source": [
    "* Now let's do the same with product predictions"
   ]
  },
  {
   "cell_type": "code",
   "execution_count": 37,
   "id": "53eebbc0-4621-467b-b201-ceacace210f1",
   "metadata": {},
   "outputs": [
    {
     "name": "stdout",
     "output_type": "stream",
     "text": [
      "\n",
      "Epoch 1/20 - Training Product Model (Predicting Product from Clean Text)\n",
      "Product Loss: 6.8492\n",
      "Validation Product F1-score: 0.0003\n",
      "\n",
      "Epoch 2/20 - Training Product Model (Predicting Product from Clean Text)\n",
      "Product Loss: 6.7917\n",
      "Validation Product F1-score: 0.0003\n",
      "\n",
      "Epoch 3/20 - Training Product Model (Predicting Product from Clean Text)\n",
      "Product Loss: 6.7800\n",
      "Validation Product F1-score: 0.0002\n",
      "\n",
      "Epoch 4/20 - Training Product Model (Predicting Product from Clean Text)\n",
      "Product Loss: 6.7739\n",
      "Validation Product F1-score: 0.0003\n",
      "\n",
      "Epoch 5/20 - Training Product Model (Predicting Product from Clean Text)\n",
      "Product Loss: 6.7687\n",
      "Validation Product F1-score: 0.0002\n",
      "Product model stopped early at epoch 5. Best F1-score: 0.0003\n"
     ]
    }
   ],
   "source": [
    "for epoch in range(num_epochs):\n",
    "    print(f\"\\nEpoch {epoch+1}/{num_epochs} - Training Product Model (Predicting Product from Clean Text)\")\n",
    "\n",
    "    model_product.train()\n",
    "    total_loss = 0\n",
    "\n",
    "    for batch in train_dataloader_pr:\n",
    "        batch = {k: v.to(device) for k, v in batch.items()}\n",
    "\n",
    "        if \"product_label\" not in batch:\n",
    "            print(\"Skipping batch - No product labels found!\")\n",
    "            continue\n",
    "\n",
    "        batch[\"labels\"] = batch.pop(\"product_label\").to(torch.long)\n",
    "        inputs = {k: batch[k] for k in [\"input_ids\", \"attention_mask\", \"labels\"] if k in batch}\n",
    "        outputs = model_product(**inputs)\n",
    "\n",
    "        loss = outputs.loss\n",
    "        total_loss += loss.item()\n",
    "        loss.backward()\n",
    "\n",
    "        optimizer_product.step()\n",
    "        lr_scheduler_product.step()\n",
    "        optimizer_product.zero_grad()\n",
    "\n",
    "    avg_loss = total_loss / len(train_dataloader_pr)\n",
    "    print(f\"Product Loss: {avg_loss:.4f}\")\n",
    "    history_product[\"product_loss\"].append(avg_loss)\n",
    "\n",
    "    # Validation Step\n",
    "    model_product.eval()\n",
    "    val_preds, true_labels = [], []\n",
    "\n",
    "    with torch.no_grad():\n",
    "        for batch in val_dataloader_pr:\n",
    "            batch = {k: v.to(device) for k, v in batch.items()}\n",
    "            if \"product_label\" not in batch:\n",
    "                continue\n",
    "            true_labels.extend(batch[\"product_label\"].cpu().numpy())\n",
    "\n",
    "            inputs = {k: batch[k] for k in [\"input_ids\", \"attention_mask\"]}\n",
    "            outputs = model_product(**inputs)\n",
    "\n",
    "            predictions = torch.argmax(outputs.logits, dim=-1)\n",
    "            val_preds.extend(predictions.cpu().numpy())\n",
    "\n",
    "    if len(true_labels) > 0:\n",
    "        f1 = f1_score(true_labels, val_preds, average=\"macro\", zero_division=1)\n",
    "        history_product[\"product_f1\"].append(f1)\n",
    "        print(f\"Validation Product F1-score: {f1:.4f}\")\n",
    "\n",
    "        # Early Stopping Check\n",
    "        if f1 > best_f1_product[\"product\"]:\n",
    "            best_f1_product[\"product\"] = f1\n",
    "            no_improve_epochs_product[\"product\"] = 0\n",
    "            best_model_product[\"product\"] = copy.deepcopy(model_product.state_dict())\n",
    "        else:\n",
    "            no_improve_epochs_product[\"product\"] += 1\n",
    "            if no_improve_epochs_product[\"product\"] >= patience:\n",
    "                print(f\"Product model stopped early at epoch {epoch+1}. Best F1-score: {best_f1_product['product']:.4f}\")\n",
    "                break\n"
   ]
  },
  {
   "cell_type": "markdown",
   "id": "101273d7-90d5-4f3c-a592-1a09fb9114ba",
   "metadata": {},
   "source": [
    "* Things here are disappointing (and were same when we used title instead of clean text).\n",
    "\n",
    "* No learning is made.\n",
    "\n",
    "* Loss is huge $6.8$ and does not go lower in a productive way (in epoch $5$ we are at $6.76$).\n",
    "\n",
    "* And Validation F1 Macro is far lower than even $0.1$.\n",
    "\n",
    "* So: **from RoBERTa we keep our model only of hazard.**\n",
    "\n",
    "* But we must search for other architectures for product.\n",
    "\n",
    "* Let's go lighter: try **TFIDF**\n",
    "\n",
    "* The model will incorporate both unigrams and bigrams to capture word relationships, as previous tests with trigrams did not improve results and only using unigrams had lower score."
   ]
  },
  {
   "cell_type": "code",
   "execution_count": null,
   "id": "47cc0856-fc69-4489-9a15-a8945a428630",
   "metadata": {},
   "outputs": [],
   "source": [
    "vectorizer = TfidfVectorizer(stop_words='english', max_features=10000, ngram_range=(1, 2))\n",
    "\n",
    "# Fit on training & testing data \n",
    "X_train_product = vectorizer.fit_transform(train_data['title'])\n",
    "X_test_product = vectorizer.transform(test_data['title'])"
   ]
  },
  {
   "cell_type": "markdown",
   "id": "062517f1-03fe-4c1e-bd01-3b8e751d3a62",
   "metadata": {},
   "source": [
    "* While Logistic Regression is often used with TF-IDF, it may not provide sufficient predictive power.\n",
    "\n",
    "* Instead, we will experiment with Random Forests, which can capture complex patterns through ensemble learning.\n",
    "\n",
    "* A delicate matter in Random Forests is their many hyperparameters.\n",
    "\n",
    "* We will conduct a broad search by testing $10$ randomly chosen parameter sets.\n",
    "\n",
    "* Each configuration will be evaluated using 3-fold cross-validation, ensuring better generalization across different training splits.\n",
    "\n",
    "* This best performing model will then be used to predict test set values.\n",
    "\n",
    "* (Grid search (with result of braod test) for finer tuning was also tested, but results indicated overfitting and lower scores on test data, so this approach is not presented)."
   ]
  },
  {
   "cell_type": "code",
   "execution_count": 95,
   "id": "386b9693-39ca-43dc-8233-b6ceaef734d1",
   "metadata": {},
   "outputs": [
    {
     "name": "stdout",
     "output_type": "stream",
     "text": [
      "Fitting 3 folds for each of 10 candidates, totalling 30 fits\n",
      "F1 Macro Score: 0.27086684994727883\n"
     ]
    }
   ],
   "source": [
    "# Labels\n",
    "y_train_product = train_data['product']\n",
    "y_test_product = test_data['product']\n",
    "\n",
    "param_grid = {\n",
    "    'n_estimators': [100, 200],  # number of trees\n",
    "    'max_depth': [None, 10],\n",
    "    'min_samples_split': [2, 5],  \n",
    "    'min_samples_leaf': [1, 2],  \n",
    "}\n",
    "\n",
    "# Product Model\n",
    "random_search_product = RandomizedSearchCV(\n",
    "    RandomForestClassifier(class_weight=\"balanced\", random_state=4),\n",
    "    param_distributions=param_grid,\n",
    "    n_iter=10,  # Try 10 random combinations\n",
    "    cv=3, scoring=\"f1_macro\", verbose=1, n_jobs=-1\n",
    ")\n",
    "random_search_product.fit(X_train_product, y_train_product)\n",
    "\n",
    "# Retrieve the best model\n",
    "best_product_model = random_search_product.best_estimator_\n",
    "\n",
    "# Predict on Test Data using best model\n",
    "y_test_pred_product_rf = best_product_model.predict(X_test_product)\n",
    "\n",
    "#F1-score\n",
    "f1_macro = f1_score(y_test_product, y_test_pred_product_rf, average='macro')\n",
    "print(\"F1 Macro Score:\", f1_macro)"
   ]
  },
  {
   "cell_type": "markdown",
   "id": "912df4e9-ca45-4a72-8a6d-53c3a562798d",
   "metadata": {},
   "source": [
    "* Much better than RoBERTa.\n",
    "\n",
    "* We got a $0.27$ F1 Macro scrore for product. "
   ]
  },
  {
   "cell_type": "code",
   "execution_count": 9,
   "id": "2da7355f-ac72-4a79-a272-ac2c7bb30ccb",
   "metadata": {},
   "outputs": [
    {
     "data": {
      "text/plain": [
       "{'n_estimators': 200,\n",
       " 'min_samples_split': 2,\n",
       " 'min_samples_leaf': 1,\n",
       " 'max_depth': None}"
      ]
     },
     "execution_count": 9,
     "metadata": {},
     "output_type": "execute_result"
    }
   ],
   "source": [
    "best_random_params = random_search_product.best_params_\n",
    "best_random_params"
   ]
  },
  {
   "cell_type": "markdown",
   "id": "d99213e7-5c12-46fe-ae75-1fe6dcdf9914",
   "metadata": {},
   "source": [
    "* Above are the parameters that led us to this result.\n",
    "\n",
    "* Since we got such a score there, the question arises: Why not use this Random Forest TFIDF technique to benefit from a good performance new architecture to make RoBERTa predictions better by making the $2$ architectures vote?\n",
    "\n",
    "* So let's do exactly that.\n",
    "\n",
    "* Use the same technique to \"hazard\" label as well."
   ]
  },
  {
   "cell_type": "code",
   "execution_count": 64,
   "id": "8b5feeb6-2885-483e-a14b-dacbef5f840f",
   "metadata": {},
   "outputs": [
    {
     "name": "stdout",
     "output_type": "stream",
     "text": [
      "Fitting 3 folds for each of 10 candidates, totalling 30 fits\n",
      "F1 Macro Score: 0.46924457897325844\n"
     ]
    }
   ],
   "source": [
    "vectorizer_2 = TfidfVectorizer(stop_words='english', max_features=10000, ngram_range=(1, 2))\n",
    "\n",
    "# Fit on training and testing data\n",
    "X_train_hazard_2 = vectorizer_2.fit_transform(train_data['clean-text'])\n",
    "X_test_hazard_2 = vectorizer_2.transform(test_data['clean_text'])\n",
    "\n",
    "# Labels\n",
    "y_train_hazard_2 = train_data['hazard']\n",
    "y_test_hazard_2 = test_data['hazard']\n",
    "\n",
    "param_grid = {\n",
    "    'n_estimators': [100, 200],  # Reduced number of trees\n",
    "    'max_depth': [None, 10],  # Fewer depth choices\n",
    "    'min_samples_split': [2, 5],  \n",
    "    'min_samples_leaf': [1, 2],  \n",
    "}\n",
    "\n",
    "# Hazard Model\n",
    "random_search_hazard_2 = RandomizedSearchCV(\n",
    "    RandomForestClassifier(class_weight=\"balanced\", random_state=42),\n",
    "    param_distributions=param_grid,\n",
    "    n_iter=10,  # Try 10 random combinations\n",
    "    cv=3, scoring=\"f1_macro\", verbose=1, n_jobs=-1\n",
    ")\n",
    "random_search_hazard_2.fit(X_train_hazard_2, y_train_hazard_2)\n",
    "\n",
    "# Retrieve the best model\n",
    "best_hazard_model_2 = random_search_hazard_2.best_estimator_\n",
    "\n",
    "# Predict on Test Data using best model\n",
    "y_test_pred_hazard_rf_2 = best_hazard_model_2.predict(X_test_hazard_2)\n",
    "\n",
    "#F1-score\n",
    "f1_macro_2 = f1_score(y_test_hazard_2, y_test_pred_hazard_rf_2, average='macro')\n",
    "print(\"F1 Macro Score:\", f1_macro_2)"
   ]
  },
  {
   "cell_type": "markdown",
   "id": "32b12b09-b72e-4a22-8ed4-9d3fd2dff58d",
   "metadata": {},
   "source": [
    "* Alright this is a decent score but let's see what we can get with the combination of the $2$ models for hazard : RoBERTa and Random Forest.\n",
    "\n",
    "* So we start by getting our best RoBERTa Model."
   ]
  },
  {
   "cell_type": "code",
   "execution_count": 34,
   "id": "b6dfa1ce-8abe-4663-bcb9-530ea6cefa19",
   "metadata": {},
   "outputs": [
    {
     "name": "stdout",
     "output_type": "stream",
     "text": [
      "Best hazard model loaded.\n"
     ]
    }
   ],
   "source": [
    "if best_model[\"hazard\"] is not None:\n",
    "    model_hazard.load_state_dict(best_model[\"hazard\"])\n",
    "    print(\"Best hazard model loaded.\")"
   ]
  },
  {
   "cell_type": "markdown",
   "id": "d0954391-4748-4d0e-8565-49fff179cdfe",
   "metadata": {},
   "source": [
    "* And predicting the test hazards with it."
   ]
  },
  {
   "cell_type": "code",
   "execution_count": 54,
   "id": "a788864d-5374-4cd4-b56f-b9340890b156",
   "metadata": {},
   "outputs": [],
   "source": [
    "model_hazard.eval()\n",
    "\n",
    "test_hazard_logits = []\n",
    "true_hazards = []\n",
    "\n",
    "with torch.no_grad():\n",
    "    for batch in test_dataloader_text:\n",
    "        batch = {k: v.to(device) for k, v in batch.items()}\n",
    "        true_hazards.extend(batch[\"hazard_label\"].cpu().numpy())\n",
    "\n",
    "        # prepare input for RoBERTa\n",
    "        inputs = {k: batch[k] for k in [\"input_ids\", \"attention_mask\"]}\n",
    "        outputs = model_hazard(**inputs)\n",
    "\n",
    "        # getting hazard logits\n",
    "        test_hazard_logits.extend(outputs.logits.cpu().numpy())\n",
    "\n",
    "# back to String labels\n",
    "true_hazards = label_enc_hazard.inverse_transform(true_hazards)\n",
    "test_hazard_preds = label_enc_hazard.inverse_transform(np.argmax(test_hazard_logits, axis=1))"
   ]
  },
  {
   "cell_type": "markdown",
   "id": "f54837ca-a319-479c-b818-d89719277700",
   "metadata": {},
   "source": [
    "* Now we will follow the following methodology to get the best prediction for hazard:\n",
    "\n",
    "    * Convert RoBERTa logits to probabilities using the softmax function.\n",
    "      \n",
    "    * Get probability estimates from the trained Random Forest model for hazard classification.\n",
    "    \n",
    "    * Apply **Soft Voting Ensemble**: combining predictions from RoBERTa (30% weight) and Random Forest (60% weight) to get final probabilities (percentages are result of trial and error).\n",
    "    \n",
    "    * Make final predictions by selecting the class with the highest combined probability.\n",
    "    \n",
    "    * Convert predictions back to original labels.\n",
    "    \n",
    "    * Evaluate performance using the F1 Macro score."
   ]
  },
  {
   "cell_type": "code",
   "execution_count": 78,
   "id": "331d0eca-22fa-44d9-b105-d8727d410455",
   "metadata": {},
   "outputs": [
    {
     "name": "stdout",
     "output_type": "stream",
     "text": [
      "F1 Macro Score (Soft Voting Ensemble): 0.5590843136593915\n"
     ]
    }
   ],
   "source": [
    "#  RoBERTa logits to probabilities\n",
    "test_hazard_probs = np.exp(test_hazard_logits) / np.exp(test_hazard_logits).sum(axis=1, keepdims=True)\n",
    "\n",
    "# Random Forest predictions to probabilities\n",
    "y_test_pred_hazard_rf_probs_2 = best_hazard_model_2.predict_proba(X_test_hazard_2)\n",
    "\n",
    "num_classes = test_hazard_probs.shape[1] # Ensure probability arrays are same shape\n",
    "if y_test_pred_hazard_rf_probs_2.shape[1] < num_classes:\n",
    "    missing_cols = num_classes - y_test_pred_hazard_rf_probs_2.shape[1]\n",
    "    y_test_pred_hazard_rf_probs_2 = np.hstack([y_test_pred_hazard_rf_probs_2, np.zeros((y_test_pred_hazard_rf_probs_2.shape[0], missing_cols))])\n",
    "\n",
    "# Soft Voting: Combine probabilities and Choose the most confident class\n",
    "final_probs = test_hazard_probs * 0.3 + y_test_pred_hazard_rf_probs_2 * 0.6\n",
    "\n",
    "# Back to original labels\n",
    "final_hazard_labels = label_enc_hazard.inverse_transform(final_hazard_preds)\n",
    "\n",
    "# F1-score for the final ensemble model\n",
    "f1_ensemble = f1_score(y_test_hazard_2, final_hazard_labels, average='macro')\n",
    "print(\"F1 Macro Score (Soft Voting Ensemble):\", f1_ensemble)"
   ]
  },
  {
   "cell_type": "markdown",
   "id": "893e1a76-2e85-46f5-959b-505661f16e88",
   "metadata": {},
   "source": [
    "* Very good.\n",
    "\n",
    "* Now let's compute the F1 Macro Score for both hazard and product."
   ]
  },
  {
   "cell_type": "code",
   "execution_count": 97,
   "id": "ef1217f7-f5bc-4713-9d23-8729419e5025",
   "metadata": {},
   "outputs": [
    {
     "name": "stdout",
     "output_type": "stream",
     "text": [
      "F1 Hazard Category:  0.5590843136593915\n",
      "F1 Product Category:  0.2887640005445524\n",
      "\n",
      "Task 1 F1-Score: 0.4239\n"
     ]
    }
   ],
   "source": [
    "print(\"\\nTask 1 F1-Score:\", round(compute_final_score(true_hazards, y_test_product, final_hazard_labels, y_test_pred_product_rf), 4))"
   ]
  },
  {
   "cell_type": "markdown",
   "id": "ea47c21d-b07e-4d1c-9db9-95aecd7a6cb0",
   "metadata": {},
   "source": [
    "* Our final score for SubTask 2 is $0.4239$.\n",
    "\n",
    "* But lets's also see the full reports of performance."
   ]
  },
  {
   "cell_type": "code",
   "execution_count": 91,
   "id": "5f36bcec-f752-48c5-834c-ce877962789f",
   "metadata": {},
   "outputs": [
    {
     "name": "stdout",
     "output_type": "stream",
     "text": [
      "\n",
      "Final Test Performance - Hazard Classification:\n",
      "                                                 precision    recall  f1-score   support\n",
      "\n",
      "                                      Aflatoxin       1.00      1.00      1.00         2\n",
      "                                 abnormal smell       1.00      0.00      0.00         1\n",
      "                                alcohol content       1.00      0.00      0.00         1\n",
      "                                      alkaloids       1.00      1.00      1.00         1\n",
      "                                      allergens       0.00      0.00      0.00         3\n",
      "                                         almond       0.83      0.77      0.80        13\n",
      "           altered organoleptic characteristics       0.00      1.00      0.00         0\n",
      "                                      amygdalin       1.00      1.00      1.00         1\n",
      "                         antibiotics, vet drugs       0.01      1.00      0.03         1\n",
      "                                  bacillus spp.       1.00      1.00      1.00         3\n",
      "                           bad smell / off odor       1.00      1.00      1.00         1\n",
      "                                  bone fragment       1.00      0.50      0.67         2\n",
      "                                     brazil nut       1.00      0.00      0.00         1\n",
      "                              bulging packaging       0.33      0.25      0.29         4\n",
      "                                         cashew       0.80      0.67      0.73         6\n",
      "                    celery and products thereof       1.00      1.00      1.00         1\n",
      "                                        cereals       1.00      0.00      0.00         1\n",
      " cereals containing gluten and products thereof       0.70      0.68      0.69        41\n",
      "                                       chemical       0.00      0.00      0.00         1\n",
      "               chemical compound (high content)       0.00      0.00      0.00         2\n",
      "               chemical compound (unauthorised)       0.50      0.50      0.50         2\n",
      "                          clostridium botulinum       0.75      0.75      0.75         8\n",
      "                                      coliforms       1.00      1.00      1.00         1\n",
      "                        compositional deviation       0.00      0.00      0.00         1\n",
      "                                cronobacter spp       1.00      1.00      1.00         1\n",
      "               crustaceans and products thereof       0.67      0.67      0.67         3\n",
      "                                     cyclospora       1.00      0.00      0.00         2\n",
      "                                 dairy products       0.00      1.00      0.00         0\n",
      "                              damaged packaging       1.00      0.00      0.00         1\n",
      "                    e 425 - konjac unauthorised       1.00      1.00      1.00         2\n",
      "                      eggs and products thereof       0.65      0.49      0.56        41\n",
      "                                  enteroviruses       1.00      1.00      1.00         2\n",
      "                               escherichia coli       0.88      0.81      0.84        47\n",
      "                         false marketing claims       1.00      0.00      0.00         1\n",
      "                      fish and products thereof       0.67      0.50      0.57         8\n",
      "                                 foreign bodies       0.40      0.40      0.40         5\n",
      "                                 glass fragment       0.82      0.82      0.82        17\n",
      "                                       hazelnut       1.00      1.00      1.00         3\n",
      "                                   heavy metals       0.62      0.83      0.71         6\n",
      "                         high content of copper       1.00      1.00      1.00         1\n",
      "                        high content of cyanide       1.00      1.00      1.00         2\n",
      "                       high content of vitamins       0.33      1.00      0.50         1\n",
      "                            improper conditions       0.50      0.33      0.40         3\n",
      "                             improper packaging       0.00      0.00      0.00         1\n",
      "                             incorrect labeling       0.25      0.12      0.17         8\n",
      "                         incorrect use by dates       0.43      0.60      0.50         5\n",
      "                                        insects       1.00      0.50      0.67         4\n",
      "                              inspection issues       0.73      0.95      0.83        20\n",
      "           insufficient labelling/documentation       0.00      0.00      0.00         4\n",
      "                       labelling/misdescription       0.50      0.43      0.46         7\n",
      "                         listeria monocytogenes       0.85      0.92      0.88       131\n",
      "                                   listeria spp       0.33      1.00      0.50         1\n",
      "                                 metal fragment       0.90      0.87      0.89        31\n",
      "                  microbiological contamination       0.50      0.33      0.40         3\n",
      "                      milk and products thereof       0.82      0.79      0.81       115\n",
      "                                    misbranding       0.67      0.67      0.67         3\n",
      "                                 misdescription       1.00      0.20      0.33         5\n",
      "                                    mislabelled       0.00      0.00      0.00         1\n",
      "                  molluscs and products thereof       1.00      1.00      1.00         1\n",
      "                                         moulds       1.00      1.00      1.00         5\n",
      "                   mustard and products thereof       1.00      0.70      0.82        10\n",
      "                      non compliance with HACCP       1.00      1.00      1.00         1\n",
      "                                      norovirus       1.00      1.00      1.00         4\n",
      "                                     novel food       1.00      0.00      0.00         1\n",
      "                                           nuts       0.67      0.33      0.44         6\n",
      "                                          other       0.33      0.32      0.32        19\n",
      "                       other misbranding issues       1.00      0.00      0.00         1\n",
      "                           other not classified       0.50      0.57      0.53         7\n",
      "        other not classified biological hazards       1.00      0.00      0.00         3\n",
      "          other not classified chemical hazards       0.50      0.75      0.60         4\n",
      "other not classified hazards for foreign bodies       0.33      0.50      0.40         2\n",
      "                               packaging defect       0.50      0.25      0.33         4\n",
      "                                           pahs       1.00      1.00      1.00         1\n",
      "     paralytic shellfish poisoning (psp) toxins       0.50      1.00      0.67         1\n",
      "                            pathogenic bacteria       0.00      0.00      0.00         1\n",
      "                                        patulin       1.00      0.50      0.67         2\n",
      "                   peanuts and products thereof       0.92      0.81      0.86        42\n",
      "                                      pecan nut       0.67      0.67      0.67         3\n",
      "                                 pieces of wood       1.00      1.00      1.00         1\n",
      "                                  pistachio nut       1.00      0.50      0.67         2\n",
      "                               plastic fragment       0.86      0.80      0.83        40\n",
      "               polycyclic aromatic hydrocarbons       1.00      0.00      0.00         1\n",
      "                            poor hygienic state       1.00      0.00      0.00         1\n",
      "                  poor or insufficient controls       0.00      0.00      0.00         2\n",
      "                                     processing       0.50      0.62      0.56         8\n",
      "               product category/characteristics       1.00      0.00      0.00         1\n",
      "                               pseudomonas spp.       1.00      1.00      1.00         1\n",
      "                               rubber fragments       0.86      1.00      0.92         6\n",
      "                                     salmonella       0.97      0.74      0.84       122\n",
      "              sesame seeds and products thereof       1.00      1.00      1.00         8\n",
      "                  soybeans and products thereof       0.60      0.53      0.56        34\n",
      "                  specified risk material (srm)       1.00      1.00      1.00         2\n",
      "                                       spoilage       1.00      0.50      0.67         6\n",
      "                                 staphylococcus       1.00      0.50      0.67         2\n",
      "                                         stones       1.00      1.00      1.00         2\n",
      "                            sulphates/sulphites       1.00      0.50      0.67         2\n",
      "                                sulphur dioxide       0.75      1.00      0.86         3\n",
      "                  sulphur dioxide and sulphites       0.73      0.89      0.80        18\n",
      "                              taste disturbance       0.50      1.00      0.67         1\n",
      " too high content of tetrahydrocannabinol (THC)       1.00      1.00      1.00         1\n",
      "                                          toxin       1.00      0.75      0.86         4\n",
      "                    unauthorised colour sudan 4       1.00      1.00      1.00         1\n",
      "                            unauthorised import       1.00      0.00      0.00         1\n",
      "                          unauthorised operator       0.00      1.00      0.00         0\n",
      "             unauthorised placing on the market       1.00      0.00      0.00         1\n",
      "          unauthorised substance ethylene oxide       1.00      1.00      1.00        10\n",
      "              unauthorised substance sildenafil       1.00      0.00      0.00         1\n",
      "                            undeclared additive       0.67      0.67      0.67         3\n",
      "                         undeclared constituent       0.00      0.00      0.00         2\n",
      "                                     vibrio spp       1.00      1.00      1.00         1\n",
      "                                          virus       1.00      1.00      1.00         1\n",
      "                                         walnut       0.57      0.67      0.62         6\n",
      "                                         yeasts       1.00      1.00      1.00         1\n",
      "\n",
      "                                       accuracy                           0.72       997\n",
      "                                      macro avg       0.73      0.60      0.56       997\n",
      "                                   weighted avg       0.79      0.72      0.74       997\n",
      "\n"
     ]
    }
   ],
   "source": [
    "print(\"\\nFinal Test Performance - Hazard Classification:\")\n",
    "print(classification_report(true_hazards, final_hazard_labels, zero_division=1))"
   ]
  },
  {
   "cell_type": "markdown",
   "id": "4e09c6e1-1142-42b6-a59a-50946c0986f4",
   "metadata": {},
   "source": [
    "* Some categories achieved perfect precision, recall, and F1-score ($1.00$), such as Aflatoxin, Alkaloids, Amygdalin and Norovirus.\n",
    "\n",
    "* Several classes have $0.00$ recall and F1-score, meaning the model never predicted them correctly (abnormal smell, alcohol content, allergens, chemical, insufficient labeling).\n",
    "\n",
    "* This is because even tho augmentation helps significantly, training data must be less rare to get a good model.\n",
    "\n",
    "* Now let's see product."
   ]
  },
  {
   "cell_type": "code",
   "execution_count": 96,
   "id": "c4f75fc4-2151-462c-a915-9e6d59e7286c",
   "metadata": {},
   "outputs": [
    {
     "name": "stdout",
     "output_type": "stream",
     "text": [
      "Final Test Performance - Product Classification\n",
      "                                                               precision    recall  f1-score   support\n",
      "\n",
      "                                       Catfishes (freshwater)       0.40      0.67      0.50         3\n",
      "                                              Dried pork meat       0.00      0.00      0.00         1\n",
      "                                        Fishes not identified       0.46      0.75      0.57         8\n",
      "                                           Groupers (generic)       0.00      0.00      0.00         0\n",
      "                                     Not classified pork meat       0.00      0.00      0.00         3\n",
      "                          Precooked cooked pork meat products       0.00      0.00      0.00         1\n",
      "                                            Saurida (generic)       0.00      0.00      0.00         1\n",
      "                           Torpedo-shaped catfishes (generic)       0.00      0.00      0.00         0\n",
      "                                                Veggie Burger       0.33      1.00      0.50         1\n",
      "                                              alfalfa sprouts       0.00      0.00      0.00         0\n",
      "                                                        algae       1.00      1.00      1.00         1\n",
      "                                        all purpose seasoning       0.00      0.00      0.00         0\n",
      "                                               almond kernels       0.00      0.00      0.00         1\n",
      "                                              almond products       0.50      1.00      0.67         1\n",
      "                                                      almonds       0.00      0.00      0.00         0\n",
      "                                                     amaranth       0.00      0.00      0.00         2\n",
      "                                                   angus beef       0.00      0.00      0.00         0\n",
      "                                                  apple juice       0.00      0.00      0.00         0\n",
      "                                                       apples       0.00      0.00      0.00         1\n",
      "                                              apricot kernels       0.00      0.00      0.00         0\n",
      "                                                    asparagus       0.00      0.00      0.00         0\n",
      "                                             assorted baklava       0.00      0.00      0.00         1\n",
      "                                                    baby food       0.67      1.00      0.80         2\n",
      "                                           baby food - canned       0.00      0.00      0.00         1\n",
      "                                            baby food pouches       0.00      0.00      0.00         0\n",
      "                                              bakery products       0.00      0.00      0.00         4\n",
      "                                                   baking mix       1.00      0.33      0.50         3\n",
      "                                                       barley       0.00      0.00      0.00         1\n",
      "                                                         bars       1.00      0.25      0.40         4\n",
      "                                            basil pesto sauce       0.75      1.00      0.86         3\n",
      "                                                   batter mix       1.00      1.00      1.00         1\n",
      "                                                    bean curd       0.00      0.00      0.00         1\n",
      "                                                   bean sauce       0.00      0.00      0.00         0\n",
      "                                                 bean sprouts       1.00      1.00      1.00         2\n",
      "                                                         beef       0.20      0.20      0.20         5\n",
      "                                                    beef cuts       0.00      0.00      0.00         1\n",
      "                                                    beef meat       0.00      0.00      0.00         1\n",
      "                                                beef products       0.12      0.20      0.15         5\n",
      "                                                  beef tongue       0.00      0.00      0.00         2\n",
      "                                               beef trimmings       0.00      0.00      0.00         0\n",
      "                                                         beer       1.00      0.50      0.67         4\n",
      "                                                     biscuits       0.40      0.25      0.31         8\n",
      "                                       bitter apricot kernels       0.00      0.00      0.00         1\n",
      "                                                 black pepper       0.00      0.00      0.00         1\n",
      "                                                  blue cheese       0.33      1.00      0.50         1\n",
      "                                             blue poppy seeds       0.00      0.00      0.00         1\n",
      "                                                  blueberries       0.50      1.00      0.67         1\n",
      "                                              bolognese sauce       0.00      0.00      0.00         0\n",
      "                                                boneless beef       0.00      0.00      0.00         2\n",
      "                                      bottled flavoured water       0.00      0.00      0.00         1\n",
      "                                        bottled mineral water       0.00      0.00      0.00         0\n",
      "                                bottled natural mineral water       0.00      0.00      0.00         1\n",
      "                                                bottled water       0.25      1.00      0.40         1\n",
      "                                                  brazil nuts       0.00      0.00      0.00         0\n",
      "                                                        bread       0.62      1.00      0.76         8\n",
      "                                  bread and products therefor       0.00      0.00      0.00         2\n",
      "                                            breakfast cereals       0.67      0.50      0.57         4\n",
      "                                               brewer's yeast       0.33      1.00      0.50         1\n",
      "                                                  brie cheese       0.00      0.00      0.00         0\n",
      "                                                     broccoli       0.67      0.50      0.57         4\n",
      "                                                 broccoli mix       0.00      0.00      0.00         0\n",
      "                                                     brownies       1.00      0.33      0.50         3\n",
      "                                                       bulgur       0.00      0.00      0.00         1\n",
      "                                                         buns       0.67      1.00      0.80         2\n",
      "                                       burrito (ready to eat)       0.25      1.00      0.40         1\n",
      "                                                       butter       0.00      0.00      0.00         2\n",
      "                                                      cabbage       0.00      0.00      0.00         1\n",
      "                                              cake decoration       0.00      0.00      0.00         1\n",
      "                                                        cakes       0.39      0.50      0.44        14\n",
      "                                                    camembert       1.00      0.50      0.67         2\n",
      "                                                      candies       0.00      0.00      0.00         8\n",
      "                                      canned artichoke hearts       0.00      0.00      0.00         0\n",
      "                                                  canned corn       0.00      0.00      0.00         1\n",
      "                                               canned mussels       0.00      0.00      0.00         0\n",
      "                                       carbonated apple juice       0.00      0.00      0.00         2\n",
      "                                          carbonated beverage       0.00      0.00      0.00         2\n",
      "                                   carbonated/sparkling water       0.00      0.00      0.00         1\n",
      "                                                       cashew       1.00      0.33      0.50         3\n",
      "                                                  cauliflower       1.00      1.00      1.00         1\n",
      "                                                 cbd products       1.00      1.00      1.00         1\n",
      "                                                       cereal       1.00      1.00      1.00         1\n",
      "                                                  cereal bars       0.00      0.00      0.00         2\n",
      "                                                 cereal drink       0.50      1.00      0.67         1\n",
      "                                       cereal-based baby food       0.00      0.00      0.00         1\n",
      "                                                      cereals       0.00      0.00      0.00         1\n",
      "                                               cheddar cheese       0.50      1.00      0.67         2\n",
      "                                                       cheese       0.55      0.67      0.60         9\n",
      "                   cheese &amp; onion flavoured potato crisps       0.00      0.00      0.00         1\n",
      "                                   cheese (taleggio capriolo)       0.00      0.00      0.00         1\n",
      "                                              cheese products       0.00      0.00      0.00         0\n",
      "                                              cheese sausages       0.00      0.00      0.00         1\n",
      "                                                  cheese tray       0.00      0.00      0.00         0\n",
      "                                               cheesy spirals       0.00      0.00      0.00         0\n",
      "                                                     cherries       0.00      0.00      0.00         1\n",
      "                                                   chia seeds       0.67      1.00      0.80         2\n",
      "                                                      chicken       0.00      0.00      0.00         1\n",
      "                             chicken and chicken preparations       0.00      0.00      0.00         1\n",
      "                                       chicken based products       0.42      0.55      0.48        31\n",
      "                                               chicken breast       0.33      0.33      0.33         6\n",
      "                                                 chicken meat       0.00      0.00      0.00         1\n",
      "                                        chicken meat products       1.00      1.00      1.00         1\n",
      "                                          chicken noodle soup       1.00      1.00      1.00         2\n",
      "                                                  chicken pie       1.00      1.00      1.00         1\n",
      "                                         chicken preparations       1.00      0.25      0.40         4\n",
      "                                    chicken products - frozen       0.00      0.00      0.00         1\n",
      "                                               chicken slices       0.00      0.00      0.00         1\n",
      "                                               chicken spices       0.00      0.00      0.00         1\n",
      "                                                    chickpeas       0.00      0.00      0.00         1\n",
      "                                          chilled beef steaks       0.00      0.00      0.00         1\n",
      "                                        chilled chicken wings       0.00      0.00      0.00         0\n",
      "                                                 chilled pork       0.00      0.00      0.00         0\n",
      "                          chilled pork meat and pork products       0.00      0.00      0.00         1\n",
      "                                               chilled salads       0.00      0.00      0.00         1\n",
      "                                      chilled smoked sausages       0.00      0.00      0.00         1\n",
      "                                   chilled vacuum packed beef       0.00      0.00      0.00         0\n",
      "                                                 chilli paste       1.00      1.00      1.00         1\n",
      "                                                chilli powder       0.00      0.00      0.00         0\n",
      "                                                 chilli sauce       1.00      1.00      1.00         1\n",
      "                                                    chocolate       0.00      0.00      0.00         3\n",
      "                             chocolate and chocolate products       0.00      0.00      0.00         1\n",
      "              chocolate and strawberry flavoured cyclone milk       1.00      1.00      1.00         1\n",
      "                                               chocolate bars       0.50      0.57      0.53         7\n",
      "                                              chocolate chips       1.00      1.00      1.00         2\n",
      "                                      chocolate confectionery       0.00      0.00      0.00         0\n",
      "                                       chocolate drink powder       0.00      0.00      0.00         0\n",
      "                                               chocolate eggs       0.50      0.50      0.50         2\n",
      "                                             chocolate mousse       0.00      0.00      0.00         0\n",
      "                                           chocolate products       0.00      0.00      0.00         0\n",
      "                              chocolate spread with hazelnuts       0.00      0.00      0.00         0\n",
      "                                           chocolate truffles       0.00      0.00      0.00         2\n",
      "                                                   chocolates       0.00      0.00      0.00         3\n",
      "                                                      chorizo       0.25      1.00      0.40         1\n",
      "                                              chorizo sausage       1.00      1.00      1.00         1\n",
      "                                                        cider       1.00      1.00      1.00         2\n",
      "                                                        clams       1.00      1.00      1.00         1\n",
      "                                                coconut drink       0.00      0.00      0.00         0\n",
      "                                                coconut juice       0.00      0.00      0.00         1\n",
      "                                                 coconut milk       0.00      0.00      0.00         1\n",
      "                                                  coconut oil       1.00      1.00      1.00         1\n",
      "                                                     coconuts       0.40      0.50      0.44         4\n",
      "                                                          cod       0.33      0.50      0.40         2\n",
      "                                                 coffee beans       0.50      0.50      0.50         2\n",
      "                                                      colours       0.00      0.00      0.00         0\n",
      "                                          concentrated apples       1.00      1.00      1.00         1\n",
      "                                                confectionery       0.00      0.00      0.00         1\n",
      "                                       confectionery products       0.00      0.00      0.00         1\n",
      "                                               cooked chicken       0.00      0.00      0.00         1\n",
      "                                              cooked sausages       0.00      0.00      0.00         0\n",
      "                                                      cookies       0.58      0.79      0.67        14\n",
      "                                                cooking sauce       0.00      0.00      0.00         1\n",
      "                                                    coriander       1.00      0.50      0.67         2\n",
      "                                                         corn       0.60      1.00      0.75         6\n",
      "                                                  cottage pie       1.00      1.00      1.00         1\n",
      "                                                   courgettes       1.00      1.00      1.00         1\n",
      "                                                        crabs       0.00      0.00      0.00         1\n",
      "                                                     crackers       0.50      1.00      0.67         1\n",
      "                                                 cream cheese       0.00      0.00      0.00         1\n",
      "                                                   croissants       1.00      1.00      1.00         2\n",
      "                                                    cucumbers       0.00      0.00      0.00         1\n",
      "                                                 cumin powder       0.00      0.00      0.00         0\n",
      "                                                        curry       0.50      0.67      0.57         3\n",
      "                                                 curry sauces       0.00      0.00      0.00         0\n",
      "                                                      custard       1.00      1.00      1.00         3\n",
      "                                         custard cream powder       0.00      0.00      0.00         1\n",
      "                                              dark chocolates       0.33      0.57      0.42         7\n",
      "                                                        dates       1.00      0.67      0.80         3\n",
      "                                                     desserts       0.33      0.33      0.33         3\n",
      "                                           dietary supplement       0.67      0.50      0.57         4\n",
      "            dietetic foods, food supplements, fortified foods       0.00      0.00      0.00         0\n",
      "                                                    dip-sauce       0.33      0.20      0.25         5\n",
      "                                                dipping sauce       1.00      1.00      1.00         1\n",
      "                                                     dressing       0.14      1.00      0.25         1\n",
      "                                              dressing sauces       0.00      0.00      0.00         1\n",
      "                                                dried almonds       0.00      0.00      0.00         0\n",
      "                                  dried and candied fruit mix       0.00      0.00      0.00         1\n",
      "                                                 dried apples       0.00      0.00      0.00         0\n",
      "                                        dried apricot kernels       0.00      0.00      0.00         1\n",
      "                                               dried apricots       0.00      0.00      0.00         0\n",
      "                                              dried beef meat       0.50      0.67      0.57         3\n",
      "                                         dried chilli peppers       0.00      0.00      0.00         0\n",
      "                                            dried cranberries       1.00      1.00      1.00         1\n",
      "                                          dried elder berries       0.00      0.00      0.00         0\n",
      "           dried herb powder ashwagandha (withania somnifera)       1.00      1.00      1.00         1\n",
      "                                              dried mushrooms       0.00      0.00      0.00         0\n",
      "                                                  dried plums       0.00      0.00      0.00         1\n",
      "                                          dried pork sausages       0.00      0.00      0.00         1\n",
      "                   dried shitake mushrooms (lentinula edodes)       0.00      0.00      0.00         1\n",
      "                                         dried shrimp noodles       1.00      1.00      1.00         1\n",
      "                                                 drink powder       0.00      0.00      0.00         0\n",
      "                                    drinking chocolate powder       0.00      0.00      0.00         1\n",
      "                                                      dry ham       0.00      0.00      0.00         1\n",
      "                                                         duck       1.00      1.00      1.00         1\n",
      "                                                    dumplings       0.00      0.00      0.00         2\n",
      "                                                  egg protein       0.00      0.00      0.00         1\n",
      "                                                         eggs       0.88      0.88      0.88         8\n",
      "      emulsifiers, stabilizers, thickeners and gelling agents       0.00      0.00      0.00         0\n",
      "                                                 energy drink       1.00      0.50      0.67         2\n",
      "                                        essences and extracts       0.00      0.00      0.00         1\n",
      "                                     extra hot chilli peppers       0.00      0.00      0.00         1\n",
      "                                                 fennel seeds       1.00      1.00      1.00         1\n",
      "                                          fermented beef meat       0.00      0.00      0.00         0\n",
      "                                                  feta cheese       1.00      0.57      0.73         7\n",
      "                                       fish and fish products       0.00      0.00      0.00         2\n",
      "                                                fish products       1.00      0.50      0.67         2\n",
      "                     flavoured fresh and creamy cheese spread       0.00      0.00      0.00         0\n",
      "                                       flavoured potato chips       1.00      0.33      0.50         3\n",
      "                                                     flavours       0.00      0.00      0.00         1\n",
      "                                                        flour       0.67      0.67      0.67         3\n",
      "                                              food supplement       0.00      0.00      0.00         3\n",
      "                                              free range eggs       0.00      0.00      0.00         1\n",
      "                                                 french toast       0.00      0.00      0.00         0\n",
      "                                                 fresh apples       0.00      0.00      0.00         0\n",
      "                                             fresh cantaloupe       0.00      0.00      0.00         1\n",
      "                                              fresh mushrooms       1.00      1.00      1.00         2\n",
      "                                                   fresh pork       0.00      0.00      0.00         0\n",
      "                                              fresh pork loin       0.00      0.00      0.00         0\n",
      "                           fresh processed beef meat products       0.00      0.00      0.00         1\n",
      "                                                fresh spinach       0.00      0.00      0.00         1\n",
      "                                           fresh strawberries       0.00      0.00      0.00         1\n",
      "                                             fresh vegetables       0.00      0.00      0.00         0\n",
      "                                          frozen apple crumbs       0.00      0.00      0.00         1\n",
      "                                             frozen apple pie       0.00      0.00      0.00         1\n",
      "                                          frozen beef patties       0.00      0.00      0.00         2\n",
      "                                         frozen beef products       0.00      0.00      0.00         1\n",
      "                                          frozen bourbon ribs       0.00      0.00      0.00         0\n",
      "                                           frozen breaded cod       0.00      0.00      0.00         1\n",
      "                                              frozen broccoli       1.00      1.00      1.00         1\n",
      "                                           frozen burger buns       0.00      0.00      0.00         0\n",
      "                                               frozen burgers       0.00      0.00      0.00         1\n",
      "                                               frozen chicken       0.00      0.00      0.00         1\n",
      "                                           frozen chicken leg       0.00      0.00      0.00         1\n",
      "                           frozen chicken strips with tendons       0.00      0.00      0.00         0\n",
      "                                   frozen diced chicken roast       0.00      0.00      0.00         0\n",
      "                                   frozen dumplings with beef       0.00      0.00      0.00         1\n",
      "                                   frozen dumplings with pork       0.00      0.00      0.00         1\n",
      "                                         frozen fish products       0.00      0.00      0.00         1\n",
      "                 frozen gluten and wheat free chicken goujons       0.00      0.00      0.00         1\n",
      "                                           frozen hash browns       0.00      0.00      0.00         0\n",
      "                                        frozen marinated beef       0.00      0.00      0.00         0\n",
      "                                     frozen marinated chicken       0.00      0.00      0.00         0\n",
      "                                         frozen mixed berries       0.00      0.00      0.00         1\n",
      "                                                  frozen peas       0.33      1.00      0.50         1\n",
      "                                                   frozen pie       0.00      0.00      0.00         2\n",
      "                                                 frozen pizza       0.50      0.33      0.40         3\n",
      "                                     frozen pork preparations       0.00      0.00      0.00         1\n",
      "                                             frozen pork ribs       0.00      0.00      0.00         0\n",
      "                                      frozen poultry products       0.00      0.00      0.00         1\n",
      "                                     frozen precooked mussels       0.00      0.00      0.00         1\n",
      "                                       frozen raw ground beef       0.00      0.00      0.00         0\n",
      "                                 frozen ready to cook chicken       0.00      0.00      0.00         1\n",
      "                                         frozen sausage rolls       0.00      0.00      0.00         1\n",
      "                                               frozen seafood       0.50      1.00      0.67         1\n",
      "                                        frozen sliced coconut       0.00      0.00      0.00         0\n",
      "                                   frozen spicy chicken wings       0.00      0.00      0.00         0\n",
      "                                          frozen spring rolls       0.00      0.00      0.00         1\n",
      "                          frozen spring rolls with vegetables       0.00      0.00      0.00         1\n",
      "                                            frozen strawberry       0.00      0.00      0.00         0\n",
      "                                            frozen vegetables       0.50      0.50      0.50         2\n",
      "                                        frozen vegetables mix       0.00      0.00      0.00         2\n",
      "                                     frozen vegetarian cutlet       0.00      0.00      0.00         1\n",
      "                                                   fruit bars       0.00      0.00      0.00         2\n",
      "                                                  fruit juice       1.00      1.00      1.00         1\n",
      "                                                   fruit pies       0.00      0.00      0.00         1\n",
      "                                                  fruit salad       0.00      0.00      0.00         0\n",
      "                                                 fruit snacks       0.00      0.00      0.00         1\n",
      "                                        fruits and vegetables       0.00      0.00      0.00         1\n",
      "                                                garlic powder       1.00      1.00      1.00         2\n",
      "                                               garlic sausage       0.00      0.00      0.00         0\n",
      "                                                  goat cheese       1.00      0.60      0.75         5\n",
      "                                                    goat milk       0.00      0.00      0.00         0\n",
      "                                                 goji berries       0.00      0.00      0.00         0\n",
      "                                      golden raisins/sultanas       1.00      0.67      0.80         6\n",
      "                                            gorgonzola cheese       1.00      1.00      1.00         1\n",
      "                                                 gouda cheese       0.00      0.00      0.00         0\n",
      "                                                      granola       0.50      1.00      0.67         1\n",
      "                                                       grapes       0.00      0.00      0.00         0\n",
      "                                        grated cheese mixture       0.00      0.00      0.00         0\n",
      "                                               grated coconut       0.00      0.00      0.00         0\n",
      "                                                    gravy mix       1.00      1.00      1.00         1\n",
      "                                                  green pesto       1.00      0.67      0.80         3\n",
      "                                                green raisins       0.00      0.00      0.00         0\n",
      "                               grilled seasoned chicken plate       0.00      0.00      0.00         0\n",
      "                                         grissini breadsticks       0.00      0.00      0.00         1\n",
      "                                               ground almonds       1.00      0.50      0.67         2\n",
      "                                                  ground beef       0.64      0.78      0.70         9\n",
      "                                              halloumi cheese       0.00      0.00      0.00         0\n",
      "                                                        halva       0.00      0.00      0.00         1\n",
      "                                                          ham       0.57      0.80      0.67         5\n",
      "                                                   ham slices       1.00      1.00      1.00         1\n",
      "                                                    hazelnuts       1.00      0.75      0.86         4\n",
      "                                          hemp protein powder       0.00      0.00      0.00         0\n",
      "                                            herbal supplement       0.00      0.00      0.00         1\n",
      "                                                   herbal tea       0.00      0.00      0.00         1\n",
      "                                             herbs and spices       0.00      0.00      0.00         1\n",
      "                                                      herring       0.50      1.00      0.67         1\n",
      "                                                        honey       0.00      0.00      0.00         1\n",
      "                                          horseradish in jars       1.00      1.00      1.00         1\n",
      "                                                       horses       0.50      1.00      0.67         1\n",
      "                                             hot dog sausages       0.50      1.00      0.67         1\n",
      "                                                     hot dogs       0.50      0.50      0.50         2\n",
      "                                                    hot sauce       0.00      0.00      0.00         1\n",
      "                                                      houmous       0.00      0.00      0.00         1\n",
      "                                                    ice cream       0.95      0.85      0.90        41\n",
      "                                               iced fruit tea       0.00      0.00      0.00         1\n",
      "                                                     iced tea       0.00      0.00      0.00         0\n",
      "                                                  infant food       0.00      0.00      0.00         1\n",
      "                                               infant formula       1.00      0.67      0.80         3\n",
      "                                               instant coffee       1.00      1.00      1.00         1\n",
      "                                                      jellies       0.75      1.00      0.86         6\n",
      "                                               jerky products       0.00      0.00      0.00         1\n",
      "                                                       juices       0.00      0.00      0.00         0\n",
      "                                                         kale       0.50      1.00      0.67         1\n",
      "                                                         lamb       0.67      1.00      0.80         2\n",
      "                                        lemonade (lemon soda)       0.00      0.00      0.00         0\n",
      "                                                      lentils       0.00      0.00      0.00         1\n",
      "                                                         lime       0.00      0.00      0.00         0\n",
      "                                                        limes       1.00      1.00      1.00         1\n",
      "                                               macadamia nuts       1.00      1.00      1.00         2\n",
      "                                                        maize       0.00      0.00      0.00         2\n",
      "                                                        mango       1.00      1.00      1.00         2\n",
      "                                                    margarine       1.00      0.50      0.67         2\n",
      "                                       marinated chicken meat       0.00      0.00      0.00         1\n",
      "                                                  marshmalows       0.00      0.00      0.00         1\n",
      "                                    mashed chickpeas (hummus)       1.00      0.75      0.86         4\n",
      "                                        massala spice mixture       0.00      0.00      0.00         0\n",
      "                                                   mayonnaise       0.00      0.00      0.00         0\n",
      "                  meat and meat products (other than poultry)       0.00      0.00      0.00         1\n",
      "                                            meat preparations       0.00      0.00      0.00         1\n",
      "                                                     meatloaf       1.00      1.00      1.00         1\n",
      "                          mechanically separated chicken meat       0.00      0.00      0.00         1\n",
      "                                                  melon seeds       1.00      1.00      1.00         1\n",
      "                                                       melons       0.00      0.00      0.00         1\n",
      "                                                         milk       0.57      0.80      0.67         5\n",
      "                               milk chocolate covered raisins       1.00      0.50      0.67         2\n",
      "                                              milk chocolates       0.33      0.25      0.29         4\n",
      "                                                  milk powder       0.33      1.00      0.50         1\n",
      "                                                milk products       0.50      1.00      0.67         1\n",
      "                                                milk proteins       0.00      0.00      0.00         2\n",
      "                                                  minced beef       1.00      1.00      1.00         1\n",
      "                                             minced pork meat       0.00      0.00      0.00         1\n",
      "                                                mineral water       0.00      0.00      0.00         1\n",
      "                                                   mint sauce       0.00      0.00      0.00         1\n",
      "                                  mitragyna speciosa (kratom)       1.00      0.67      0.80         3\n",
      "                                                   mixed nuts       0.50      1.00      0.67         1\n",
      "                                                  mixed salad       0.00      0.00      0.00         2\n",
      "                                                 mixed spices       0.00      0.00      0.00         0\n",
      "                                             mixed vegetables       1.00      1.00      1.00         1\n",
      "                                                     moussaka       0.00      0.00      0.00         0\n",
      "                                              mouth freshener       0.00      0.00      0.00         1\n",
      "                                                       muesli       0.00      0.00      0.00         0\n",
      "                                                      muffins       0.75      1.00      0.86         3\n",
      "                                multi vitamin food supplement       1.00      1.00      1.00         1\n",
      "                                                    mushrooms       0.33      0.50      0.40         2\n",
      "                                        natural breakfast bar       0.00      0.00      0.00         1\n",
      "                                        natural mineral water       0.00      0.00      0.00         1\n",
      "                                             natural seed mix       0.00      0.00      0.00         1\n",
      "                                              non diary cream       0.00      0.00      0.00         1\n",
      "                                      non-alcoholic beverages       0.00      0.00      0.00         0\n",
      "                                                       noodle       0.00      0.00      0.00         3\n",
      "                                                      noodles       1.00      0.50      0.67         4\n",
      "                                        nut and fruit mixture       0.00      0.00      0.00         1\n",
      "                                                      nut mix       0.00      0.00      0.00         1\n",
      "                                                  nut mixture       0.00      0.00      0.00         0\n",
      "                                        nut snack (chanachur)       0.00      0.00      0.00         1\n",
      "                                           nut-almond mixture       0.00      0.00      0.00         0\n",
      "                                              nutrition shake       0.00      0.00      0.00         1\n",
      "                                                         nuts       0.00      0.00      0.00         2\n",
      "                                                     nuts mix       0.00      0.00      0.00         0\n",
      "                                 nuts, nut products and seeds       0.50      1.00      0.67         1\n",
      "                                                         oats       0.00      0.00      0.00         1\n",
      "                                                    olive oil       0.50      1.00      0.67         1\n",
      "                                                       olives       0.60      1.00      0.75         3\n",
      "                                                       onions       1.00      0.50      0.67         2\n",
      "                                                 orange juice       0.00      0.00      0.00         1\n",
      "                                        organic coconut flour       0.00      0.00      0.00         0\n",
      "                                      organic porridge flakes       0.00      0.00      0.00         1\n",
      "                                         other dairy products       1.00      1.00      1.00         2\n",
      "                         other food additives and flavourings       0.00      0.00      0.00         1\n",
      "                                   other food product / mixed       0.00      0.00      0.00         0\n",
      "                           other not classified meat products       0.33      0.14      0.20        14\n",
      "                                          other types of meat       0.00      0.00      0.00         4\n",
      "                                                      oysters       1.00      1.00      1.00         4\n",
      "                                                     palm oil       1.00      1.00      1.00         2\n",
      "                                                     pancakes       0.00      0.00      0.00         1\n",
      "                                              parmesan cheese       0.00      0.00      0.00         0\n",
      "                                                        pasta       0.00      0.00      0.00         1\n",
      "                                                  pasta salad       1.00      1.00      1.00         1\n",
      "                                                  pasta sauce       1.00      0.33      0.50         3\n",
      "                                                       pastry       0.00      0.00      0.00         1\n",
      "                                                   pea shoots       1.00      1.00      1.00         1\n",
      "                                                      peanuts       0.42      0.62      0.50         8\n",
      "                                                        pears       0.00      0.00      0.00         0\n",
      "                                                   pecan nuts       0.00      0.00      0.00         1\n",
      "                                              pecorino cheese       0.00      0.00      0.00         0\n",
      "                                                    pepperoni       0.00      0.00      0.00         1\n",
      "                                                        pesto       0.00      0.00      0.00         0\n",
      "                                                     pet feed       1.00      1.00      1.00         2\n",
      "                                             pickled cucumber       0.00      0.00      0.00         0\n",
      "                                                      pickles       0.00      0.00      0.00         1\n",
      "                              pickles (vegetables and fruits)       0.00      0.00      0.00         1\n",
      "                                              pig meat - pork       0.00      0.00      0.00         3\n",
      "                                                       pigeon       0.00      0.00      0.00         1\n",
      "                                                   pineapples       0.00      0.00      0.00         1\n",
      "                                               pistachio nuts       1.00      1.00      1.00         7\n",
      "                                                        pizza       0.00      0.00      0.00         0\n",
      "                                                     plastics       0.00      0.00      0.00         0\n",
      "                              plum bread &amp; butter pudding       1.00      1.00      1.00         1\n",
      "                                                        poppy       0.50      1.00      0.67         1\n",
      "                                                   pork belly       0.00      0.00      0.00         0\n",
      "                                             pork preparation       0.50      0.12      0.20         8\n",
      "                                                 pork sausage       0.33      0.33      0.33         6\n",
      "                                                pork shoulder       0.00      0.00      0.00         1\n",
      "                                        pork shoulder - fresh       0.00      0.00      0.00         0\n",
      "                                             pork tenderloins       0.00      0.00      0.00         1\n",
      "                                                     porridge       0.00      0.00      0.00         1\n",
      "                                                 potato chips       0.67      0.75      0.71         8\n",
      "                                            potato croquettes       1.00      1.00      1.00         1\n",
      "                                                 potato salad       1.00      0.50      0.67         2\n",
      "                                                 potato snack       0.00      0.00      0.00         2\n",
      "                                                     potatoes       0.00      0.00      0.00         1\n",
      "                                                      poultry       0.00      0.00      0.00         1\n",
      "                       poultry meat and poultry meat products       0.00      0.00      0.00         1\n",
      "                                               prawn crackers       0.00      0.00      0.00         0\n",
      "                                                       prawns       1.00      1.00      1.00         3\n",
      "                                          prebaked apple pies       0.00      0.00      0.00         0\n",
      "                          precooked cooked beef meat products       0.00      0.00      0.00         0\n",
      "                                                prepared dish       1.00      0.50      0.67         2\n",
      "                              prepared dish containing prawns       0.00      0.00      0.00         0\n",
      "                                   prepared dish with chicken       0.00      0.00      0.00         0\n",
      "                                              prepared dishes       0.00      0.00      0.00         1\n",
      "                                   prepared dishes and snacks       0.00      0.00      0.00         1\n",
      "                                              prepared salads       1.00      0.50      0.67         2\n",
      "                                      preserved red bean curd       0.00      0.00      0.00         0\n",
      "                                                pretzel stick       0.50      1.00      0.67         1\n",
      "                                                     pretzels       0.00      0.00      0.00         1\n",
      "                                    probiotic food supplement       0.00      0.00      0.00         0\n",
      "                           probiotics for babies and children       0.00      0.00      0.00         1\n",
      "                                                protein balls       0.00      0.00      0.00         1\n",
      "                                                  protein bar       0.75      0.75      0.75         4\n",
      "                                                 protein bars       0.00      0.00      0.00         0\n",
      "                                                protein drink       0.00      0.00      0.00         0\n",
      "                                               protein powder       0.00      0.00      0.00         1\n",
      "                                                      pudding       0.00      0.00      0.00         0\n",
      "                                                         pâté       0.00      0.00      0.00         1\n",
      "                                            quorn preparation       0.00      0.00      0.00         1\n",
      "                                                  raspberries       0.00      0.00      0.00         0\n",
      "                                                      ravioli       1.00      0.25      0.40         4\n",
      "                                                raw beef meat       0.60      1.00      0.75         6\n",
      "                                                     raw milk       1.00      1.00      1.00         1\n",
      "                                    raw milk cheese reblochon       1.00      1.00      1.00         1\n",
      "                 raw pork meat and raw pork meat preparations       0.00      0.00      0.00         1\n",
      "                                                  raw sausage       0.00      0.00      0.00         1\n",
      "                                    ready to eat - cook meals       0.45      0.26      0.33        19\n",
      "                                    ready to eat meat product       0.00      0.00      0.00         1\n",
      "                                                         rice       0.00      0.00      0.00         1\n",
      "                                                   rice cakes       1.00      1.00      1.00         1\n",
      "                                     rice cereal for children       1.00      1.00      1.00         1\n",
      "                                                rice crackers       0.33      1.00      0.50         1\n",
      "                                                    rice meal       0.00      0.00      0.00         1\n",
      "                                                 rice noodles       0.00      0.00      0.00         0\n",
      "                                             rice preparation       0.00      0.00      0.00         1\n",
      "                                                   rice snack       0.00      0.00      0.00         0\n",
      "                                                  rice sticks       0.00      0.00      0.00         1\n",
      "                         ricotta and spinach tortelloni pasta       0.00      0.00      0.00         0\n",
      "                                               ricotta cheese       1.00      1.00      1.00         1\n",
      "                                                     rosemary       0.00      0.00      0.00         1\n",
      "                                                  royal jelly       0.00      0.00      0.00         1\n",
      "                                                    rye bread       0.00      0.00      0.00         1\n",
      "                                               salad dressing       0.00      0.00      0.00         4\n",
      "                                                       salads       0.33      0.44      0.38         9\n",
      "                                                       salami       0.50      1.00      0.67         1\n",
      "                                                salami sticks       0.00      0.00      0.00         0\n",
      "                                                       salmon       1.00      0.82      0.90        11\n",
      "                                                         salt       1.00      1.00      1.00         1\n",
      "                             salt &amp; vinegar protein puffs       0.00      0.00      0.00         1\n",
      "                                             sandwich filling       0.00      0.00      0.00         1\n",
      "                                              sandwich spread       0.00      0.00      0.00         0\n",
      "                                                   sandwiches       0.75      0.38      0.50         8\n",
      "                                                     sardines       1.00      1.00      1.00         1\n",
      "                                                  satay sauce       0.00      0.00      0.00         1\n",
      "                                                        sauce       0.20      0.33      0.25         3\n",
      "                                                       sauces       0.00      0.00      0.00         3\n",
      "                                                        saury       0.00      0.00      0.00         1\n",
      "                                                      sausage       0.10      0.25      0.14         4\n",
      "                                sausage (mettwurst in german)       0.00      0.00      0.00         1\n",
      "                                             sausage products       0.67      0.50      0.57         4\n",
      "                                                      seafood       0.00      0.00      0.00         2\n",
      "                                             seafood products       0.00      0.00      0.00         1\n",
      "                                                    seasoning       0.00      0.00      0.00         1\n",
      "                                             seasoning blends       0.00      0.00      0.00         1\n",
      "                                                seasoning mix       0.00      0.00      0.00         1\n",
      "                                                   seasonings       0.00      0.00      0.00         0\n",
      "                                                       sesame       1.00      1.00      1.00         1\n",
      "                                                 sesame paste       0.00      0.00      0.00         0\n",
      "                                                 sesame seeds       0.67      1.00      0.80         2\n",
      "                                                      shrimps       1.00      1.00      1.00         5\n",
      "                                                   sliced ham       0.00      0.00      0.00         2\n",
      "                                             sliced mushrooms       0.00      0.00      0.00         1\n",
      "                                               smoked sausage       0.00      0.00      0.00         3\n",
      "                                                     smoothie       1.00      1.00      1.00         1\n",
      "                                               snack crackers       0.00      0.00      0.00         0\n",
      "                                                    snack mix       1.00      0.75      0.86         4\n",
      "                                             snacks (various)       0.00      0.00      0.00         5\n",
      "                                          soft ripened cheese       1.00      1.00      1.00         1\n",
      "                                                      sorbets       0.00      0.00      0.00         1\n",
      "                                                         soup       0.92      0.92      0.92        12\n",
      "                                                 soy products       0.00      0.00      0.00         0\n",
      "                                                    soy sauce       1.00      1.00      1.00         1\n",
      "                                   soya and products therefor       0.00      0.00      0.00         0\n",
      "                                                      soybean       0.00      0.00      0.00         2\n",
      "                                                    spice mix       0.50      1.00      0.67         1\n",
      "                                                       spices       0.00      0.00      0.00         1\n",
      "                                                      spinach       0.50      0.50      0.50         2\n",
      "                                                      spirits       0.00      0.00      0.00         0\n",
      "                                                  sport drink       0.00      0.00      0.00         0\n",
      "                                                       spread       0.50      1.00      0.67         1\n",
      "                                                      spreads       0.00      0.00      0.00         1\n",
      "                                                 spring rolls       0.00      0.00      0.00         0\n",
      "                                                 spring water       1.00      1.00      1.00         1\n",
      "                                                    sprinkles       0.00      0.00      0.00         1\n",
      "                                                      sprouts       0.00      0.00      0.00         1\n",
      "                                                        squid       1.00      1.00      1.00         1\n",
      "                                                       starch       0.00      0.00      0.00         1\n",
      "         structured/textured fish meat products or fish paste       0.00      0.00      0.00         0\n",
      "                                                        sugar       0.00      0.00      0.00         1\n",
      "                                              sugar snap peas       0.00      0.00      0.00         1\n",
      "                                                     sultanas       1.00      1.00      1.00         1\n",
      "                                           sun dried apricots       0.00      0.00      0.00         1\n",
      "                                               sunflower seed       0.44      1.00      0.62         4\n",
      "                                           sweet potato snack       0.00      0.00      0.00         1\n",
      "                                                   sweeteners       1.00      1.00      1.00         1\n",
      "                                                       sweets       0.00      0.00      0.00         2\n",
      "                                                  table water       0.00      0.00      0.00         0\n",
      "                                                       tahini       1.00      1.00      1.00         2\n",
      "                                                tapioca chips       0.00      0.00      0.00         0\n",
      "                                                          tea       0.25      0.50      0.33         2\n",
      "                                                     tea bags       0.00      0.00      0.00         0\n",
      "                                         testosterone booster       0.00      0.00      0.00         1\n",
      "                                  thermal processed beef meat       0.60      0.75      0.67         4\n",
      "                                  thermal processed pork meat       0.25      0.18      0.21        11\n",
      "                                                      tilapia       0.00      0.00      0.00         1\n",
      "                                                       toffee       0.00      0.00      0.00         0\n",
      "                                                         tofu       0.50      0.33      0.40         3\n",
      "                                                tofu basilico       0.00      0.00      0.00         1\n",
      "                                                 tomato sauce       0.00      0.00      0.00         1\n",
      "                                                     tomatoes       0.00      0.00      0.00         1\n",
      "                                               tortilla chips       1.00      1.00      1.00         2\n",
      "                                        tortilla chips cheese       0.00      0.00      0.00         0\n",
      "                                                       trouts       1.00      1.00      1.00         1\n",
      "                                                         tuna       1.00      1.00      1.00         3\n",
      "                              turbot flatfish (psetta maxima)       1.00      1.00      1.00         1\n",
      "                                                       turkey       1.00      1.00      1.00         1\n",
      "                               turkey and turkey preparations       0.56      0.71      0.62         7\n",
      "                                        turkey based products       1.00      0.50      0.67         4\n",
      "                                               vanilla powder       0.00      0.00      0.00         0\n",
      "                                      various bakery products       0.50      1.00      0.67         1\n",
      "                                        various beef products       0.00      0.00      0.00         1\n",
      "                      various chilled or frozen pork products       0.00      0.00      0.00         1\n",
      "                                        various meat products       0.00      0.00      0.00         1\n",
      "                                                    veal meat       0.00      0.00      0.00         0\n",
      "                                         veal meat and offals       0.00      0.00      0.00         1\n",
      "                                               vegan sausages       0.00      0.00      0.00         0\n",
      "                                     vegetable based products       0.00      0.00      0.00         2\n",
      "                                             vegetable burger       0.00      0.00      0.00         1\n",
      "                                                vegetable mix       0.00      0.00      0.00         0\n",
      "                                 vegetable ready to eat meals       0.00      0.00      0.00         1\n",
      "                                              vegetable snack       0.00      0.00      0.00         0\n",
      "                                                   vegetables       0.00      0.00      0.00         1\n",
      "                                               venison salami       0.00      0.00      0.00         1\n",
      "                                                     vitamins       0.00      0.00      0.00         1\n",
      "                                                        vodka       1.00      1.00      1.00         1\n",
      "                                                       wafers       0.50      1.00      0.67         1\n",
      "                                                      waffles       0.00      0.00      0.00         1\n",
      "                                                      walnuts       0.50      1.00      0.67         1\n",
      "                                                  wasabi peas       0.00      0.00      0.00         1\n",
      "                                                  watermelons       0.00      0.00      0.00         0\n",
      "                                              white chocolate       0.00      0.00      0.00         1\n",
      "                                          white lasagna sauce       0.00      0.00      0.00         0\n",
      "                                                         wine       0.75      0.67      0.71         9\n",
      "                                                        wraps       0.20      0.25      0.22         4\n",
      "                                                 yeast powder       0.00      0.00      0.00         1\n",
      "                                                      yoghurt       1.00      0.57      0.73         7\n",
      "yoghurt-like soya-based products containing bacteria cultures       0.00      0.00      0.00         1\n",
      "                                               yogurt raisins       1.00      1.00      1.00         2\n",
      "\n",
      "                                                     accuracy                           0.47       997\n",
      "                                                    macro avg       0.28      0.29      0.27       997\n",
      "                                                 weighted avg       0.49      0.47      0.46       997\n",
      "\n"
     ]
    },
    {
     "name": "stderr",
     "output_type": "stream",
     "text": [
      "/home/ec2-user/anaconda3/envs/pytorch_p310/lib/python3.10/site-packages/sklearn/metrics/_classification.py:1565: UndefinedMetricWarning: Precision is ill-defined and being set to 0.0 in labels with no predicted samples. Use `zero_division` parameter to control this behavior.\n",
      "  _warn_prf(average, modifier, f\"{metric.capitalize()} is\", len(result))\n",
      "/home/ec2-user/anaconda3/envs/pytorch_p310/lib/python3.10/site-packages/sklearn/metrics/_classification.py:1565: UndefinedMetricWarning: Recall is ill-defined and being set to 0.0 in labels with no true samples. Use `zero_division` parameter to control this behavior.\n",
      "  _warn_prf(average, modifier, f\"{metric.capitalize()} is\", len(result))\n",
      "/home/ec2-user/anaconda3/envs/pytorch_p310/lib/python3.10/site-packages/sklearn/metrics/_classification.py:1565: UndefinedMetricWarning: Precision is ill-defined and being set to 0.0 in labels with no predicted samples. Use `zero_division` parameter to control this behavior.\n",
      "  _warn_prf(average, modifier, f\"{metric.capitalize()} is\", len(result))\n",
      "/home/ec2-user/anaconda3/envs/pytorch_p310/lib/python3.10/site-packages/sklearn/metrics/_classification.py:1565: UndefinedMetricWarning: Recall is ill-defined and being set to 0.0 in labels with no true samples. Use `zero_division` parameter to control this behavior.\n",
      "  _warn_prf(average, modifier, f\"{metric.capitalize()} is\", len(result))\n",
      "/home/ec2-user/anaconda3/envs/pytorch_p310/lib/python3.10/site-packages/sklearn/metrics/_classification.py:1565: UndefinedMetricWarning: Precision is ill-defined and being set to 0.0 in labels with no predicted samples. Use `zero_division` parameter to control this behavior.\n",
      "  _warn_prf(average, modifier, f\"{metric.capitalize()} is\", len(result))\n",
      "/home/ec2-user/anaconda3/envs/pytorch_p310/lib/python3.10/site-packages/sklearn/metrics/_classification.py:1565: UndefinedMetricWarning: Recall is ill-defined and being set to 0.0 in labels with no true samples. Use `zero_division` parameter to control this behavior.\n",
      "  _warn_prf(average, modifier, f\"{metric.capitalize()} is\", len(result))\n"
     ]
    }
   ],
   "source": [
    "report = classification_report(y_test_product, y_test_pred_product_rf)\n",
    "formatted_report = \"\\n\".join(report.split(\"\\n\")) # Format the report to display one line at a time (only needed in Random Forest reports)\n",
    "print(\"Final Test Performance - Product Classification\")\n",
    "print(formatted_report)"
   ]
  },
  {
   "cell_type": "markdown",
   "id": "a07a0a95-3352-4980-aea3-7f3d9d16ae5b",
   "metadata": {},
   "source": [
    "* Many products in the test set were completely absent during training, making it impossible for the model to learn them.\n",
    "This explains why several categories have zero recall,accuracy and f1 , meaning they were never predicted.\n",
    "\n",
    "* However, this is a deeper problem of the data used since our model, when compared to the relative leaderboard of competitors' best performances, ranks pretty well (at a bit less than $0.1$ rank difference from the best performance).\n",
    "\n",
    "* Finally let's save our results."
   ]
  },
  {
   "cell_type": "code",
   "execution_count": null,
   "id": "8f9120a3-2119-4d55-be75-2e2f0c9c8e24",
   "metadata": {},
   "outputs": [],
   "source": [
    "subtask2_df = pd.DataFrame({\n",
    "    \"ID\": test_data.index,  # row-based ID\n",
    "    \"hazard-pred\": test_hazard_preds,\n",
    "    \"product-pred\": final_product_preds\n",
    "})\n",
    "\n",
    "subtask2_df = pd.DataFrame({\n",
    "    \"ID\": test_data.index,  \n",
    "    \"hazard-category-pred\": final_hazard_labels,\n",
    "    \"product-category-pred\": y_test_pred_product_rf\n",
    "})\n",
    "\n",
    "subtask1_df.to_csv(\"submission_subtask_1.csv\", index=False)\n",
    "subtask2_df.to_csv(\"submission_subtask_2.csv\", index=False)"
   ]
  }
 ],
 "metadata": {
  "kernelspec": {
   "display_name": "Python 3 (ipykernel)",
   "language": "python",
   "name": "python3"
  },
  "language_info": {
   "codemirror_mode": {
    "name": "ipython",
    "version": 3
   },
   "file_extension": ".py",
   "mimetype": "text/x-python",
   "name": "python",
   "nbconvert_exporter": "python",
   "pygments_lexer": "ipython3",
   "version": "3.10.15"
  },
  "widgets": {
   "application/vnd.jupyter.widget-state+json": {
    "state": {},
    "version_major": 2,
    "version_minor": 0
   }
  }
 },
 "nbformat": 4,
 "nbformat_minor": 5
}
